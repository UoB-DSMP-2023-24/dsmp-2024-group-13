{
 "cells": [
  {
   "cell_type": "markdown",
   "metadata": {},
   "source": [
    "**Language models for TCR specificity prediction**\n",
    "\n",
    "*Following* https://www.biorxiv.org/content/10.1101/2021.11.18.469186v1.full"
   ]
  },
  {
   "cell_type": "code",
   "execution_count": 15,
   "metadata": {},
   "outputs": [],
   "source": [
    "from sklearn.cluster import DBSCAN\n",
    "from sklearn.manifold import TSNE\n",
    "import matplotlib.pyplot as plt"
   ]
  },
  {
   "cell_type": "code",
   "execution_count": 1,
   "metadata": {},
   "outputs": [
    {
     "name": "stderr",
     "output_type": "stream",
     "text": [
      "c:\\Users\\Christian Gauthier\\miniconda3\\envs\\tf\\lib\\site-packages\\tqdm\\auto.py:22: TqdmWarning: IProgress not found. Please update jupyter and ipywidgets. See https://ipywidgets.readthedocs.io/en/stable/user_install.html\n",
      "  from .autonotebook import tqdm as notebook_tqdm\n"
     ]
    },
    {
     "name": "stdout",
     "output_type": "stream",
     "text": [
      "(61636, 34)\n"
     ]
    },
    {
     "name": "stderr",
     "output_type": "stream",
     "text": [
      "C:\\Users\\Christian Gauthier\\AppData\\Local\\Temp\\ipykernel_11792\\568133031.py:8: DtypeWarning: Columns (30) have mixed types. Specify dtype option on import or set low_memory=False.\n",
      "  df = pd.read_csv(file_path, delimiter='\\t')\n"
     ]
    }
   ],
   "source": [
    "import pandas as pd\n",
    "import numpy as np\n",
    "import tensorflow as tf\n",
    "from tensorflow.keras import layers\n",
    "from transformers import TFBertModel, BertTokenizer\n",
    "\n",
    "\n",
    "file_path = \"vdjdb_full.txt\"\n",
    "df = pd.read_csv(file_path, delimiter='\\t')\n",
    "df = df.drop_duplicates()\n",
    "print(df.shape)"
   ]
  },
  {
   "cell_type": "code",
   "execution_count": 2,
   "metadata": {},
   "outputs": [
    {
     "name": "stdout",
     "output_type": "stream",
     "text": [
      "       cdr3.alpha             cdr3.beta      species antigen.epitope  \\\n",
      "0   CIVRAPGRADMRF  CASSYLPGQGDHYSNQPQHF  HomoSapiens        FLKEKGGL   \n",
      "1             NaN   CASSFEAGQGFFSNQPQHF  HomoSapiens        FLKEKGGL   \n",
      "2  CAVPSGAGSYQLTF   CASSFEPGQGFYSNQPQHF  HomoSapiens        FLKEKGGL   \n",
      "3     CAVKASGSRLT  CASSYEPGQVSHYSNQPQHF  HomoSapiens        FLKEKGGL   \n",
      "4   CAYRPPGTYKYIF        CASSALASLNEQFF  HomoSapiens        FLKEKGGL   \n",
      "\n",
      "  antigen.gene  vdjdb.score  \n",
      "0          Nef            2  \n",
      "1          Nef            2  \n",
      "2          Nef            2  \n",
      "3          Nef            2  \n",
      "4          Nef            2  \n",
      "(9300, 6)\n"
     ]
    }
   ],
   "source": [
    "df = df[(df['vdjdb.score'] > 0)]\n",
    "df_slim = df[['cdr3.alpha','cdr3.beta','species','antigen.epitope','antigen.gene','vdjdb.score']]\n",
    "print(df_slim.head(5))\n",
    "print(df_slim.shape)"
   ]
  },
  {
   "cell_type": "code",
   "execution_count": 3,
   "metadata": {},
   "outputs": [
    {
     "name": "stdout",
     "output_type": "stream",
     "text": [
      "            cdr3.alpha          cdr3.beta      species antigen.epitope  \\\n",
      "19746    CAGAIPRDDKIIF   CASSLNPGRSDSPLHF  HomoSapiens       AAFKRSCLK   \n",
      "19745  CALATHTGTASKLTF   CASSQDPGSSYNEQFF  HomoSapiens       AAFKRSCLK   \n",
      "19744     CAGARNDYKLSF  CATSRDGAGLVNQPQHF  HomoSapiens       AAFKRSCLK   \n",
      "\n",
      "      antigen.gene  vdjdb.score                     cdr3combined  \n",
      "19746         T-Ag            3    CAGAIPRDDKIIFCASSLNPGRSDSPLHF  \n",
      "19745         T-Ag            3  CALATHTGTASKLTFCASSQDPGSSYNEQFF  \n",
      "19744         T-Ag            3    CAGARNDYKLSFCATSRDGAGLVNQPQHF  \n",
      "CIVRAPGRADMRFCASSYLPGQGDHYSNQPQHF\n"
     ]
    },
    {
     "name": "stderr",
     "output_type": "stream",
     "text": [
      "C:\\Users\\Christian Gauthier\\AppData\\Local\\Temp\\ipykernel_11792\\3123875043.py:2: SettingWithCopyWarning: \n",
      "A value is trying to be set on a copy of a slice from a DataFrame.\n",
      "Try using .loc[row_indexer,col_indexer] = value instead\n",
      "\n",
      "See the caveats in the documentation: https://pandas.pydata.org/pandas-docs/stable/user_guide/indexing.html#returning-a-view-versus-a-copy\n",
      "  df_slim['cdr3combined'] = df_slim['cdr3.alpha'].fillna('') + df_slim['cdr3.beta'].fillna('')\n"
     ]
    }
   ],
   "source": [
    "df['cdr3.alpha.length'] = df['cdr3.alpha'].apply(lambda x: len(x) if pd.notnull(x) and not isinstance(x, float) else 0)\n",
    "df = df[(df['cdr3.alpha.length'] >= 12) & (df['cdr3.alpha.length'] <= 14)]\n",
    "\n",
    "df['cdr3.beta.length'] = df['cdr3.beta'].apply(lambda x: len(x) if pd.notnull(x) and not isinstance(x, float) else 0)\n",
    "df = df[(df['cdr3.beta.length'] >= 12) & (df['cdr3.beta.length'] <= 14)]\n",
    "\n",
    "#Stick CRD3 together if both alpha and beta present if not leave alone\n",
    "df_slim['cdr3combined'] = df_slim['cdr3.alpha'].fillna('') + df_slim['cdr3.beta'].fillna('')\n",
    "cdr3comb = df_slim['cdr3combined'].dropna()\n",
    "cdr3comb = cdr3comb.reset_index(drop=True)\n",
    "df_slim = df_slim.sort_values('antigen.epitope')\n",
    "print(df_slim.head(3))\n",
    "print(cdr3comb[0])"
   ]
  },
  {
   "cell_type": "code",
   "execution_count": 4,
   "metadata": {},
   "outputs": [
    {
     "name": "stdout",
     "output_type": "stream",
     "text": [
      "38\n"
     ]
    }
   ],
   "source": [
    "max_length = max(cdr3comb, key=lambda x: len(x))\n",
    "print(len(max_length))\n"
   ]
  },
  {
   "cell_type": "code",
   "execution_count": 5,
   "metadata": {},
   "outputs": [
    {
     "name": "stderr",
     "output_type": "stream",
     "text": [
      "C:\\Users\\Christian Gauthier\\AppData\\Local\\Temp\\ipykernel_11792\\3252962714.py:14: FutureWarning: The behavior of `series[i:j]` with an integer-dtype index is deprecated. In a future version, this will be treated as *label-based* indexing, consistent with e.g. `series[i]` lookups. To retain the old behavior, use `series.iloc[i:j]`. To get the future behavior, use `series.loc[i:j]`.\n",
      "  tokenized_inputs = tokenizer(df_slim['cdr3combined'][0:1500].tolist(), padding='max_length', truncation=True, max_length=38) #1500 is max before ResourceExhaustedError on local machine\n",
      "Some layers from the model checkpoint at bert-base-uncased were not used when initializing TFBertModel: ['mlm___cls', 'nsp___cls']\n",
      "- This IS expected if you are initializing TFBertModel from the checkpoint of a model trained on another task or with another architecture (e.g. initializing a BertForSequenceClassification model from a BertForPreTraining model).\n",
      "- This IS NOT expected if you are initializing TFBertModel from the checkpoint of a model that you expect to be exactly identical (initializing a BertForSequenceClassification model from a BertForSequenceClassification model).\n",
      "All the layers of TFBertModel were initialized from the model checkpoint at bert-base-uncased.\n",
      "If your task is similar to the task the model of the checkpoint was trained on, you can already use TFBertModel for predictions without further training.\n"
     ]
    }
   ],
   "source": [
    "class TCRBertModel(tf.keras.Model):\n",
    "    def __init__(self, bert_model_name='bert-base-uncased'): #uncased produces 728 dimensional embeddings\n",
    "        super(TCRBertModel, self).__init__()\n",
    "        self.bert = TFBertModel.from_pretrained(bert_model_name)\n",
    "\n",
    "    def call(self, inputs):\n",
    "        outputs = self.bert(inputs)\n",
    "        sequence_output = outputs[0]\n",
    "        return sequence_output\n",
    "\n",
    "tokenizer = BertTokenizer.from_pretrained('bert-base-uncased') #load the tokenizer for the BERT model\n",
    "\n",
    "#tokenize the TCR sequences\n",
    "tokenized_inputs = tokenizer(df_slim['cdr3combined'][0:1500].tolist(), padding='max_length', truncation=True, max_length=38) #1500 is max before ResourceExhaustedError on local machine\n",
    "\n",
    "#convert the tokenized sequences to tensors\n",
    "input_ids = tf.constant(tokenized_inputs['input_ids'])\n",
    "attention_mask = tf.constant(tokenized_inputs['attention_mask']) #decides what should not be attended to as some are tokens are padded to 38 length\n",
    "\n",
    "#dictionary mapping input names to their values\n",
    "inputs = {'input_ids': input_ids, 'attention_mask': attention_mask}\n",
    "\n",
    "model = TCRBertModel()\n",
    "\n",
    "#get 768-dimensional embeddings for each token in the input sequences\n",
    "outputs = model(inputs)"
   ]
  },
  {
   "cell_type": "code",
   "execution_count": 6,
   "metadata": {},
   "outputs": [
    {
     "name": "stdout",
     "output_type": "stream",
     "text": [
      "tf.Tensor(\n",
      "[[[-6.74676895e-01 -9.55889672e-02  2.27257103e-01 ... -2.54138976e-01\n",
      "    3.10018569e-01  5.83854079e-01]\n",
      "  [ 2.77730018e-01 -9.40572396e-02  8.77284884e-01 ... -8.00789297e-01\n",
      "   -1.50567651e-01  4.35288161e-01]\n",
      "  [ 2.92913169e-01  4.59451556e-01  1.08082390e+00 ... -8.12520683e-01\n",
      "   -2.80620456e-01  3.17230560e-02]\n",
      "  ...\n",
      "  [-3.54200393e-01  2.29425773e-01  7.44987309e-01 ... -1.03679508e-01\n",
      "   -2.60174066e-01  1.34258354e-02]\n",
      "  [-4.16917026e-01  4.15420309e-02  8.02270353e-01 ... -1.34316921e-01\n",
      "   -1.87624186e-01  1.06884927e-01]\n",
      "  [-4.90339339e-01  3.35844398e-01  7.81793892e-01 ... -1.80011958e-01\n",
      "   -1.80875748e-01 -9.65448283e-03]]\n",
      "\n",
      " [[-7.20090151e-01 -1.10861301e-01  3.37439865e-01 ... -1.00468241e-01\n",
      "    2.06924498e-01  7.44393647e-01]\n",
      "  [-8.84186774e-02 -2.29257658e-01  8.88929188e-01 ... -3.72530460e-01\n",
      "   -7.12003186e-02  4.31933343e-01]\n",
      "  [-5.37012279e-01  3.01813960e-01  1.07349384e+00 ... -2.14626536e-01\n",
      "    1.74486801e-01  2.32736960e-01]\n",
      "  ...\n",
      "  [-7.67670929e-01  5.66163138e-02  7.62813687e-01 ... -2.14397714e-01\n",
      "   -9.45551470e-02  7.49929249e-02]\n",
      "  [-4.46617126e-01 -2.57315207e-02  6.87849581e-01 ... -1.62010685e-01\n",
      "   -2.14856774e-01  1.11340091e-01]\n",
      "  [-4.52859163e-01 -5.38796261e-02  6.93691790e-01 ... -1.79055467e-01\n",
      "   -2.34291077e-01  1.49237648e-01]]\n",
      "\n",
      " [[-6.37734592e-01  3.83306891e-02  3.79163951e-01 ... -7.93580040e-02\n",
      "    3.31705868e-01  6.11161768e-01]\n",
      "  [ 2.83469856e-01 -1.75020471e-02  9.77913737e-01 ... -7.26521432e-01\n",
      "    4.96715494e-02  7.71547377e-01]\n",
      "  [ 8.18793327e-02  2.41281241e-01  7.27142870e-01 ... -8.33560467e-01\n",
      "   -3.34269941e-01 -7.55253360e-02]\n",
      "  ...\n",
      "  [-3.98912877e-01  1.49459885e-02  6.75557196e-01 ... -2.37472296e-01\n",
      "   -2.23030329e-01  2.78357357e-01]\n",
      "  [-4.76005375e-01  7.01260939e-02  6.57759845e-01 ... -2.15138346e-01\n",
      "   -2.27260798e-01  3.08191091e-01]\n",
      "  [-5.13955593e-01  1.07825279e-01  6.47597313e-01 ... -2.63436556e-01\n",
      "   -1.31048352e-01  2.77617842e-01]]\n",
      "\n",
      " ...\n",
      "\n",
      " [[-5.41577220e-01  8.09209421e-04  1.28474295e-01 ... -1.00590982e-01\n",
      "    1.65450305e-01  6.38524175e-01]\n",
      "  [-7.85839111e-02  6.81783706e-02  6.63811624e-01 ... -7.84071922e-01\n",
      "   -8.61209482e-02  7.11317599e-01]\n",
      "  [-2.84467071e-01 -6.09096363e-02  5.79471171e-01 ... -6.52161121e-01\n",
      "    3.88774835e-02  5.22078216e-01]\n",
      "  ...\n",
      "  [-3.06619883e-01  1.66979402e-01  5.30824423e-01 ... -3.48962486e-01\n",
      "   -3.54558170e-01  1.76538020e-01]\n",
      "  [-6.26712203e-01  3.95042002e-02  4.98382688e-01 ... -2.91209400e-01\n",
      "   -2.65012294e-01 -2.32718475e-02]\n",
      "  [-3.98303658e-01 -3.04171294e-02  5.05534232e-01 ... -2.23896593e-01\n",
      "   -2.06692860e-01  1.17199361e-01]]\n",
      "\n",
      " [[-6.61781132e-01  9.24918614e-03  3.08344126e-01 ... -8.18130672e-02\n",
      "    9.95036811e-02  6.23641431e-01]\n",
      "  [ 4.45644051e-01  1.70691147e-01  1.49684536e+00 ... -2.05872416e-01\n",
      "    2.59715140e-01  4.79300797e-01]\n",
      "  [ 1.74923569e-01 -1.22192517e-01  1.73207164e+00 ... -3.04264128e-02\n",
      "   -4.42668855e-01  9.89142299e-01]\n",
      "  ...\n",
      "  [-2.05970272e-01  8.10203105e-02  9.33477700e-01 ... -2.83104330e-01\n",
      "   -1.61712795e-01  7.45684355e-02]\n",
      "  [-2.20612526e-01  7.48499557e-02  9.55533743e-01 ... -2.49726817e-01\n",
      "   -2.08207786e-01  2.00500935e-01]\n",
      "  [-3.70125473e-01  1.84619009e-01  8.26677203e-01 ... -2.88528442e-01\n",
      "   -1.76722005e-01  1.36852115e-01]]\n",
      "\n",
      " [[-6.61858678e-01 -2.47629970e-01  4.33844090e-01 ... -8.58267173e-02\n",
      "    2.00889274e-01  7.36728489e-01]\n",
      "  [ 4.36522335e-01 -1.42216742e-01  1.53068984e+00 ... -1.02019534e-01\n",
      "    3.42808902e-01  3.98230880e-01]\n",
      "  [ 1.37114853e-01 -3.14916283e-01  1.81378484e+00 ...  1.53237998e-01\n",
      "   -5.10738552e-01  8.57322335e-01]\n",
      "  ...\n",
      "  [-2.65987694e-01  3.10766250e-02  8.21793139e-01 ... -2.08579957e-01\n",
      "   -1.40694931e-01 -4.12565432e-02]\n",
      "  [-3.75751019e-01  1.14415035e-01  8.30097914e-01 ... -2.11683542e-01\n",
      "   -1.63703650e-01  2.46153902e-02]\n",
      "  [-5.19618094e-01  1.43024087e-01  6.44480228e-01 ... -2.84470230e-01\n",
      "   -1.40085936e-01 -5.31397760e-02]]], shape=(1500, 38, 768), dtype=float32)\n"
     ]
    }
   ],
   "source": [
    "print(outputs)"
   ]
  },
  {
   "cell_type": "markdown",
   "metadata": {},
   "source": [
    "**Reduce to 50 dim and use SVM to classify**"
   ]
  },
  {
   "cell_type": "code",
   "execution_count": 7,
   "metadata": {},
   "outputs": [
    {
     "name": "stderr",
     "output_type": "stream",
     "text": [
      "C:\\Users\\Christian Gauthier\\AppData\\Local\\Temp\\ipykernel_11792\\2831678550.py:11: FutureWarning: The behavior of `series[i:j]` with an integer-dtype index is deprecated. In a future version, this will be treated as *label-based* indexing, consistent with e.g. `series[i]` lookups. To retain the old behavior, use `series.iloc[i:j]`. To get the future behavior, use `series.loc[i:j]`.\n",
      "  X_train, X_test, y_train, y_test = train_test_split(reduced_outputs, df_slim['antigen.epitope'][0:1500], test_size=0.2, random_state=111)\n"
     ]
    },
    {
     "name": "stdout",
     "output_type": "stream",
     "text": [
      "Accuracy: 0.4666666666666667\n"
     ]
    }
   ],
   "source": [
    "from sklearn.decomposition import PCA\n",
    "from sklearn.svm import SVC\n",
    "from sklearn.model_selection import train_test_split\n",
    "from sklearn.metrics import accuracy_score\n",
    "\n",
    "#flatten the outputs to 2D\n",
    "flattened_outputs = tf.reshape(outputs, [outputs.shape[0], -1])\n",
    "pca = PCA(n_components=50)\n",
    "reduced_outputs = pca.fit_transform(flattened_outputs.numpy())  #tensor to numpy array before passing to PCA\n",
    "\n",
    "X_train, X_test, y_train, y_test = train_test_split(reduced_outputs, df_slim['antigen.epitope'][0:1500], test_size=0.2, random_state=111)\n",
    "\n",
    "svm_model = SVC()\n",
    "svm_model.fit(X_train, y_train)\n",
    "\n",
    "y_pred = svm_model.predict(X_test)\n",
    "\n",
    "accuracy = accuracy_score(y_test, y_pred)\n",
    "print(\"Accuracy:\", accuracy)"
   ]
  },
  {
   "cell_type": "markdown",
   "metadata": {},
   "source": [
    "**THIS IS BASIC IMPLEMENTATION ABOVE**\n",
    "\n",
    "**BELOW IS FOLLOWING PAPER https://www.biorxiv.org/content/10.1101/2021.11.18.469186v1.full**\n",
    "\n",
    "Next step is to implement masked amino acid modelling \"hide, or “mask” 15% of the amino acids in each TCR amino acid sequence in the training set, and train TCR-BERT to predict these masked amino acids\"\n",
    "\n",
    "\n"
   ]
  },
  {
   "cell_type": "code",
   "execution_count": 8,
   "metadata": {},
   "outputs": [
    {
     "name": "stderr",
     "output_type": "stream",
     "text": [
      "C:\\Users\\Christian Gauthier\\AppData\\Local\\Temp\\ipykernel_11792\\1561710790.py:22: FutureWarning: The behavior of `series[i:j]` with an integer-dtype index is deprecated. In a future version, this will be treated as *label-based* indexing, consistent with e.g. `series[i]` lookups. To retain the old behavior, use `series.iloc[i:j]`. To get the future behavior, use `series.loc[i:j]`.\n",
      "  tokenized_inputs = tokenizer(df_slim['cdr3combined'][0:1500].tolist(), padding='max_length', truncation=True, max_length=38)\n",
      "Some layers from the model checkpoint at bert-base-uncased were not used when initializing TFBertModel: ['mlm___cls', 'nsp___cls']\n",
      "- This IS expected if you are initializing TFBertModel from the checkpoint of a model trained on another task or with another architecture (e.g. initializing a BertForSequenceClassification model from a BertForPreTraining model).\n",
      "- This IS NOT expected if you are initializing TFBertModel from the checkpoint of a model that you expect to be exactly identical (initializing a BertForSequenceClassification model from a BertForSequenceClassification model).\n",
      "All the layers of TFBertModel were initialized from the model checkpoint at bert-base-uncased.\n",
      "If your task is similar to the task the model of the checkpoint was trained on, you can already use TFBertModel for predictions without further training.\n"
     ]
    }
   ],
   "source": [
    "import tensorflow as tf\n",
    "from transformers import BertTokenizer, TFBertModel\n",
    "\n",
    "class TCRBertModel(tf.keras.Model):\n",
    "    def __init__(self, bert_model_name='bert-base-uncased', num_labels=None): \n",
    "        super(TCRBertModel, self).__init__()\n",
    "        self.bert = TFBertModel.from_pretrained(bert_model_name)\n",
    "        self.maa_head = tf.keras.layers.Dense(20, activation='softmax')  #MAA head for predicting masked amino acids 20 as thats how many amino acids there are\n",
    "        self.classification_head = tf.keras.layers.Dense(num_labels, activation='softmax') if num_labels else None  #classification head for downstream tasks\n",
    "\n",
    "    def call(self, inputs, training=False):\n",
    "        outputs = self.bert(inputs, training=training)\n",
    "        sequence_output = outputs.last_hidden_state\n",
    "        maa_predictions = self.maa_head(sequence_output) #predict masked amino acids from output of BERT model 768 output to 20 amino acids\n",
    "        if training:\n",
    "            return maa_predictions\n",
    "        else:\n",
    "            classification_logits = self.classification_head(tf.reduce_mean(sequence_output, axis=1)) #takes the mean of the sequence output and passes it through the classification head \n",
    "            return maa_predictions, classification_logits\n",
    "\n",
    "tokenizer = BertTokenizer.from_pretrained('bert-base-uncased')\n",
    "tokenized_inputs = tokenizer(df_slim['cdr3combined'][0:1500].tolist(), padding='max_length', truncation=True, max_length=38)\n",
    "\n",
    "\n",
    "input_ids = tf.constant(tokenized_inputs['input_ids'])\n",
    "attention_mask = tf.constant(tokenized_inputs['attention_mask'])\n",
    "\n",
    "#inputs dictionary\n",
    "inputs = {'input_ids': input_ids, 'attention_mask': attention_mask}\n",
    "\n",
    "model = TCRBertModel()\n",
    "maa_predictions = model(inputs, training=True)\n"
   ]
  },
  {
   "cell_type": "code",
   "execution_count": 9,
   "metadata": {},
   "outputs": [
    {
     "name": "stdout",
     "output_type": "stream",
     "text": [
      "tf.Tensor(\n",
      "[[[0.02263385 0.06200882 0.06237606 ... 0.03888768 0.03582539 0.19648112]\n",
      "  [0.07979368 0.0475038  0.02843092 ... 0.04494628 0.06091613 0.09182883]\n",
      "  [0.07448738 0.06217    0.029055   ... 0.05194923 0.03346242 0.1152039 ]\n",
      "  ...\n",
      "  [0.06544349 0.04436107 0.04744663 ... 0.05636847 0.06895564 0.07443025]\n",
      "  [0.06510322 0.03383404 0.03944954 ... 0.06784242 0.05569692 0.06309537]\n",
      "  [0.08094213 0.02519236 0.03275381 ... 0.05734571 0.06694335 0.06929329]]\n",
      "\n",
      " [[0.01960204 0.04211162 0.06367894 ... 0.0281527  0.03495144 0.25365165]\n",
      "  [0.11448259 0.02864853 0.02385302 ... 0.07242507 0.06285701 0.1324394 ]\n",
      "  [0.14913452 0.02670468 0.04975526 ... 0.05138317 0.01837992 0.07707783]\n",
      "  ...\n",
      "  [0.08435932 0.03202703 0.03658741 ... 0.08417123 0.06710556 0.07610293]\n",
      "  [0.07123283 0.03676325 0.04504481 ... 0.08211023 0.06180112 0.06854244]\n",
      "  [0.06951272 0.04510215 0.04609588 ... 0.06246793 0.04964405 0.06253232]]\n",
      "\n",
      " [[0.01750218 0.07008449 0.04727199 ... 0.03440144 0.026597   0.25587705]\n",
      "  [0.06301009 0.07434081 0.03596668 ... 0.03075649 0.05715669 0.10893318]\n",
      "  [0.12865533 0.07373568 0.04876976 ... 0.04188538 0.07556634 0.05263897]\n",
      "  ...\n",
      "  [0.06333065 0.03816984 0.0460407  ... 0.06836303 0.06368946 0.09027495]\n",
      "  [0.05986616 0.05084685 0.0428872  ... 0.0693884  0.05704842 0.07870121]\n",
      "  [0.06216587 0.05516007 0.05116382 ... 0.06162186 0.06285343 0.08136888]]\n",
      "\n",
      " ...\n",
      "\n",
      " [[0.01865712 0.0545899  0.06635669 ... 0.03102118 0.03326417 0.25935155]\n",
      "  [0.06474094 0.05761715 0.06270505 ... 0.05545541 0.05079431 0.13401577]\n",
      "  [0.17383267 0.03076766 0.02534503 ... 0.05275121 0.04143129 0.07725543]\n",
      "  ...\n",
      "  [0.07387822 0.03386519 0.03806274 ... 0.06390973 0.06819574 0.11147624]\n",
      "  [0.08827382 0.02828966 0.04553397 ... 0.06529674 0.06255477 0.10896907]\n",
      "  [0.06388824 0.03260596 0.06076454 ... 0.08358662 0.06572963 0.07323439]]\n",
      "\n",
      " [[0.02393017 0.04528997 0.07105275 ... 0.02793412 0.03636088 0.24479109]\n",
      "  [0.08922934 0.01480607 0.03293118 ... 0.0599699  0.07992025 0.09271391]\n",
      "  [0.11764858 0.02928328 0.0136445  ... 0.07788805 0.08823062 0.0910074 ]\n",
      "  ...\n",
      "  [0.09887581 0.04354849 0.0471431  ... 0.0929775  0.04703762 0.06464339]\n",
      "  [0.09755113 0.04029414 0.0429443  ... 0.05537291 0.04915863 0.08143651]\n",
      "  [0.08225302 0.04078399 0.05011956 ... 0.05210797 0.0546763  0.07744629]]\n",
      "\n",
      " [[0.01900374 0.03828664 0.08574706 ... 0.03404513 0.02674748 0.23030527]\n",
      "  [0.06955951 0.01627046 0.02826518 ... 0.0844592  0.11287972 0.10505543]\n",
      "  [0.08364151 0.02996229 0.01344742 ... 0.0501108  0.09008706 0.09387166]\n",
      "  ...\n",
      "  [0.06915039 0.0330365  0.04176589 ... 0.05972264 0.05099761 0.08650904]\n",
      "  [0.07097842 0.03683888 0.03452749 ... 0.05203594 0.05435294 0.09359293]\n",
      "  [0.06012434 0.03477635 0.04267449 ... 0.04313222 0.05899318 0.07827465]]], shape=(1500, 38, 20), dtype=float32)\n"
     ]
    }
   ],
   "source": [
    "print(maa_predictions)"
   ]
  },
  {
   "cell_type": "code",
   "execution_count": 10,
   "metadata": {},
   "outputs": [
    {
     "name": "stderr",
     "output_type": "stream",
     "text": [
      "C:\\Users\\Christian Gauthier\\AppData\\Local\\Temp\\ipykernel_11792\\521817857.py:7: FutureWarning: The behavior of `series[i:j]` with an integer-dtype index is deprecated. In a future version, this will be treated as *label-based* indexing, consistent with e.g. `series[i]` lookups. To retain the old behavior, use `series.iloc[i:j]`. To get the future behavior, use `series.loc[i:j]`.\n",
      "  labels = df_slim['antigen.epitope'][0:1500]\n"
     ]
    },
    {
     "name": "stdout",
     "output_type": "stream",
     "text": [
      "Accuracy: 0.3333333333333333\n"
     ]
    }
   ],
   "source": [
    "pca = PCA(n_components=50)  \n",
    "\n",
    "maa_predictions_np = maa_predictions.numpy()  \n",
    "flattened_maa_predictions_np = maa_predictions_np.reshape(maa_predictions_np.shape[0], -1)\n",
    "pca_outputs = pca.fit_transform(flattened_maa_predictions_np)\n",
    "\n",
    "labels = df_slim['antigen.epitope'][0:1500]\n",
    "X_train, X_test, y_train, y_test = train_test_split(pca_outputs, labels, test_size=0.2, random_state=42)\n",
    "\n",
    "svm_classifier = SVC(kernel='rbf', C=1.0)\n",
    "svm_classifier.fit(X_train, y_train)\n",
    "\n",
    "y_pred = svm_classifier.predict(X_test)\n",
    "\n",
    "accuracy = accuracy_score(y_test, y_pred)\n",
    "print(\"Accuracy:\", accuracy)\n"
   ]
  },
  {
   "cell_type": "markdown",
   "metadata": {},
   "source": [
    "*Somehow worse*"
   ]
  },
  {
   "cell_type": "code",
   "execution_count": 11,
   "metadata": {},
   "outputs": [
    {
     "name": "stderr",
     "output_type": "stream",
     "text": [
      "C:\\Users\\Christian Gauthier\\AppData\\Local\\Temp\\ipykernel_11792\\2874704034.py:23: FutureWarning: The behavior of `series[i:j]` with an integer-dtype index is deprecated. In a future version, this will be treated as *label-based* indexing, consistent with e.g. `series[i]` lookups. To retain the old behavior, use `series.iloc[i:j]`. To get the future behavior, use `series.loc[i:j]`.\n",
      "  tokenized_inputs = tokenizer(df_slim['cdr3combined'][0:1500].tolist(), padding='max_length', truncation=True, max_length=38)\n",
      "Some layers from the model checkpoint at bert-base-uncased were not used when initializing TFBertModel: ['mlm___cls', 'nsp___cls']\n",
      "- This IS expected if you are initializing TFBertModel from the checkpoint of a model trained on another task or with another architecture (e.g. initializing a BertForSequenceClassification model from a BertForPreTraining model).\n",
      "- This IS NOT expected if you are initializing TFBertModel from the checkpoint of a model that you expect to be exactly identical (initializing a BertForSequenceClassification model from a BertForSequenceClassification model).\n",
      "All the layers of TFBertModel were initialized from the model checkpoint at bert-base-uncased.\n",
      "If your task is similar to the task the model of the checkpoint was trained on, you can already use TFBertModel for predictions without further training.\n"
     ]
    },
    {
     "name": "stdout",
     "output_type": "stream",
     "text": [
      "Epoch 1/3\n",
      "WARNING:tensorflow:Gradients do not exist for variables ['tf_bert_model_2/bert/pooler/dense/kernel:0', 'tf_bert_model_2/bert/pooler/dense/bias:0'] when minimizing the loss. If you're using `model.compile()`, did you forget to provide a `loss` argument?\n",
      "WARNING:tensorflow:Gradients do not exist for variables ['tf_bert_model_2/bert/pooler/dense/kernel:0', 'tf_bert_model_2/bert/pooler/dense/bias:0'] when minimizing the loss. If you're using `model.compile()`, did you forget to provide a `loss` argument?\n",
      "12/12 [==============================] - 116s 8s/step - loss: 2.9584\n",
      "Epoch 2/3\n",
      "12/12 [==============================] - 101s 8s/step - loss: 2.9105\n",
      "Epoch 3/3\n",
      "12/12 [==============================] - 99s 8s/step - loss: 2.9030\n"
     ]
    },
    {
     "data": {
      "text/plain": [
       "<keras.callbacks.History at 0x1cd40798070>"
      ]
     },
     "execution_count": 11,
     "metadata": {},
     "output_type": "execute_result"
    }
   ],
   "source": [
    "import tensorflow as tf\n",
    "from transformers import BertTokenizer, TFBertModel\n",
    "\n",
    "class TCRBertModel(tf.keras.Model):\n",
    "    def __init__(self, bert_model_name='bert-base-uncased', num_labels=None): \n",
    "        super(TCRBertModel, self).__init__()\n",
    "        self.bert = TFBertModel.from_pretrained(bert_model_name)\n",
    "        self.maa_head = tf.keras.layers.Dense(20, activation='softmax')  #MAA head for predicting masked amino acids\n",
    "        self.classification_head = tf.keras.layers.Dense(num_labels, activation='softmax') if num_labels else None  #classification head for downstream tasks\n",
    "\n",
    "    def call(self, inputs, training=False):\n",
    "        outputs = self.bert(inputs, training=training)\n",
    "        sequence_output = outputs.last_hidden_state\n",
    "        maa_predictions = self.maa_head(sequence_output) #predict masked amino acids from the output of the BERT model\n",
    "        if training:\n",
    "            return maa_predictions\n",
    "        else:\n",
    "            classification_logits = self.classification_head(tf.reduce_mean(sequence_output, axis=1)) #take the mean of the sequence output and pass it through the classification head \n",
    "            return maa_predictions, classification_logits\n",
    "\n",
    "\n",
    "tokenizer = BertTokenizer.from_pretrained('bert-base-uncased')\n",
    "tokenized_inputs = tokenizer(df_slim['cdr3combined'][0:1500].tolist(), padding='max_length', truncation=True, max_length=38)\n",
    "\n",
    "#convert the tokenized sequences to tensors\n",
    "input_ids = tf.constant(tokenized_inputs['input_ids'])\n",
    "attention_mask = tf.constant(tokenized_inputs['attention_mask'])\n",
    "\n",
    "\n",
    "inputs = {'input_ids': input_ids, 'attention_mask': attention_mask}\n",
    "model = TCRBertModel()\n",
    "\n",
    "#MAA pre-training objective\n",
    "optimizer = tf.keras.optimizers.Adam(learning_rate=2e-5)\n",
    "loss_fn = tf.keras.losses.CategoricalCrossentropy()\n",
    "\n",
    "model.compile(optimizer=optimizer, loss=loss_fn)\n",
    "model.fit(inputs, maa_predictions, epochs=3, batch_size=128)\n"
   ]
  },
  {
   "cell_type": "code",
   "execution_count": 12,
   "metadata": {},
   "outputs": [],
   "source": [
    "maa_predictions = model(inputs, training=True)"
   ]
  },
  {
   "cell_type": "code",
   "execution_count": 13,
   "metadata": {},
   "outputs": [
    {
     "name": "stderr",
     "output_type": "stream",
     "text": [
      "C:\\Users\\Christian Gauthier\\AppData\\Local\\Temp\\ipykernel_11792\\521817857.py:7: FutureWarning: The behavior of `series[i:j]` with an integer-dtype index is deprecated. In a future version, this will be treated as *label-based* indexing, consistent with e.g. `series[i]` lookups. To retain the old behavior, use `series.iloc[i:j]`. To get the future behavior, use `series.loc[i:j]`.\n",
      "  labels = df_slim['antigen.epitope'][0:1500]\n"
     ]
    },
    {
     "name": "stdout",
     "output_type": "stream",
     "text": [
      "Accuracy: 0.2733333333333333\n"
     ]
    }
   ],
   "source": [
    "pca = PCA(n_components=50)  \n",
    "\n",
    "maa_predictions_np = maa_predictions.numpy()  \n",
    "flattened_maa_predictions_np = maa_predictions_np.reshape(maa_predictions_np.shape[0], -1)\n",
    "pca_outputs = pca.fit_transform(flattened_maa_predictions_np)\n",
    "\n",
    "labels = df_slim['antigen.epitope'][0:1500]\n",
    "X_train, X_test, y_train, y_test = train_test_split(pca_outputs, labels, test_size=0.2, random_state=42)\n",
    "\n",
    "svm_classifier = SVC(kernel='rbf', C=1.0)\n",
    "svm_classifier.fit(X_train, y_train)\n",
    "\n",
    "y_pred = svm_classifier.predict(X_test)\n",
    "\n",
    "accuracy = accuracy_score(y_test, y_pred)\n",
    "print(\"Accuracy:\", accuracy)\n"
   ]
  },
  {
   "cell_type": "markdown",
   "metadata": {},
   "source": [
    "**Attempt clustering with the language model using dbscan**"
   ]
  },
  {
   "cell_type": "code",
   "execution_count": 14,
   "metadata": {},
   "outputs": [
    {
     "name": "stdout",
     "output_type": "stream",
     "text": [
      "tf.Tensor(\n",
      "[[[-6.74676895e-01 -9.55889672e-02  2.27257103e-01 ... -2.54138976e-01\n",
      "    3.10018569e-01  5.83854079e-01]\n",
      "  [ 2.77730018e-01 -9.40572396e-02  8.77284884e-01 ... -8.00789297e-01\n",
      "   -1.50567651e-01  4.35288161e-01]\n",
      "  [ 2.92913169e-01  4.59451556e-01  1.08082390e+00 ... -8.12520683e-01\n",
      "   -2.80620456e-01  3.17230560e-02]\n",
      "  ...\n",
      "  [-3.54200393e-01  2.29425773e-01  7.44987309e-01 ... -1.03679508e-01\n",
      "   -2.60174066e-01  1.34258354e-02]\n",
      "  [-4.16917026e-01  4.15420309e-02  8.02270353e-01 ... -1.34316921e-01\n",
      "   -1.87624186e-01  1.06884927e-01]\n",
      "  [-4.90339339e-01  3.35844398e-01  7.81793892e-01 ... -1.80011958e-01\n",
      "   -1.80875748e-01 -9.65448283e-03]]\n",
      "\n",
      " [[-7.20090151e-01 -1.10861301e-01  3.37439865e-01 ... -1.00468241e-01\n",
      "    2.06924498e-01  7.44393647e-01]\n",
      "  [-8.84186774e-02 -2.29257658e-01  8.88929188e-01 ... -3.72530460e-01\n",
      "   -7.12003186e-02  4.31933343e-01]\n",
      "  [-5.37012279e-01  3.01813960e-01  1.07349384e+00 ... -2.14626536e-01\n",
      "    1.74486801e-01  2.32736960e-01]\n",
      "  ...\n",
      "  [-7.67670929e-01  5.66163138e-02  7.62813687e-01 ... -2.14397714e-01\n",
      "   -9.45551470e-02  7.49929249e-02]\n",
      "  [-4.46617126e-01 -2.57315207e-02  6.87849581e-01 ... -1.62010685e-01\n",
      "   -2.14856774e-01  1.11340091e-01]\n",
      "  [-4.52859163e-01 -5.38796261e-02  6.93691790e-01 ... -1.79055467e-01\n",
      "   -2.34291077e-01  1.49237648e-01]]\n",
      "\n",
      " [[-6.37734592e-01  3.83306891e-02  3.79163951e-01 ... -7.93580040e-02\n",
      "    3.31705868e-01  6.11161768e-01]\n",
      "  [ 2.83469856e-01 -1.75020471e-02  9.77913737e-01 ... -7.26521432e-01\n",
      "    4.96715494e-02  7.71547377e-01]\n",
      "  [ 8.18793327e-02  2.41281241e-01  7.27142870e-01 ... -8.33560467e-01\n",
      "   -3.34269941e-01 -7.55253360e-02]\n",
      "  ...\n",
      "  [-3.98912877e-01  1.49459885e-02  6.75557196e-01 ... -2.37472296e-01\n",
      "   -2.23030329e-01  2.78357357e-01]\n",
      "  [-4.76005375e-01  7.01260939e-02  6.57759845e-01 ... -2.15138346e-01\n",
      "   -2.27260798e-01  3.08191091e-01]\n",
      "  [-5.13955593e-01  1.07825279e-01  6.47597313e-01 ... -2.63436556e-01\n",
      "   -1.31048352e-01  2.77617842e-01]]\n",
      "\n",
      " ...\n",
      "\n",
      " [[-5.41577220e-01  8.09209421e-04  1.28474295e-01 ... -1.00590982e-01\n",
      "    1.65450305e-01  6.38524175e-01]\n",
      "  [-7.85839111e-02  6.81783706e-02  6.63811624e-01 ... -7.84071922e-01\n",
      "   -8.61209482e-02  7.11317599e-01]\n",
      "  [-2.84467071e-01 -6.09096363e-02  5.79471171e-01 ... -6.52161121e-01\n",
      "    3.88774835e-02  5.22078216e-01]\n",
      "  ...\n",
      "  [-3.06619883e-01  1.66979402e-01  5.30824423e-01 ... -3.48962486e-01\n",
      "   -3.54558170e-01  1.76538020e-01]\n",
      "  [-6.26712203e-01  3.95042002e-02  4.98382688e-01 ... -2.91209400e-01\n",
      "   -2.65012294e-01 -2.32718475e-02]\n",
      "  [-3.98303658e-01 -3.04171294e-02  5.05534232e-01 ... -2.23896593e-01\n",
      "   -2.06692860e-01  1.17199361e-01]]\n",
      "\n",
      " [[-6.61781132e-01  9.24918614e-03  3.08344126e-01 ... -8.18130672e-02\n",
      "    9.95036811e-02  6.23641431e-01]\n",
      "  [ 4.45644051e-01  1.70691147e-01  1.49684536e+00 ... -2.05872416e-01\n",
      "    2.59715140e-01  4.79300797e-01]\n",
      "  [ 1.74923569e-01 -1.22192517e-01  1.73207164e+00 ... -3.04264128e-02\n",
      "   -4.42668855e-01  9.89142299e-01]\n",
      "  ...\n",
      "  [-2.05970272e-01  8.10203105e-02  9.33477700e-01 ... -2.83104330e-01\n",
      "   -1.61712795e-01  7.45684355e-02]\n",
      "  [-2.20612526e-01  7.48499557e-02  9.55533743e-01 ... -2.49726817e-01\n",
      "   -2.08207786e-01  2.00500935e-01]\n",
      "  [-3.70125473e-01  1.84619009e-01  8.26677203e-01 ... -2.88528442e-01\n",
      "   -1.76722005e-01  1.36852115e-01]]\n",
      "\n",
      " [[-6.61858678e-01 -2.47629970e-01  4.33844090e-01 ... -8.58267173e-02\n",
      "    2.00889274e-01  7.36728489e-01]\n",
      "  [ 4.36522335e-01 -1.42216742e-01  1.53068984e+00 ... -1.02019534e-01\n",
      "    3.42808902e-01  3.98230880e-01]\n",
      "  [ 1.37114853e-01 -3.14916283e-01  1.81378484e+00 ...  1.53237998e-01\n",
      "   -5.10738552e-01  8.57322335e-01]\n",
      "  ...\n",
      "  [-2.65987694e-01  3.10766250e-02  8.21793139e-01 ... -2.08579957e-01\n",
      "   -1.40694931e-01 -4.12565432e-02]\n",
      "  [-3.75751019e-01  1.14415035e-01  8.30097914e-01 ... -2.11683542e-01\n",
      "   -1.63703650e-01  2.46153902e-02]\n",
      "  [-5.19618094e-01  1.43024087e-01  6.44480228e-01 ... -2.84470230e-01\n",
      "   -1.40085936e-01 -5.31397760e-02]]], shape=(1500, 38, 768), dtype=float32)\n"
     ]
    }
   ],
   "source": [
    "print(outputs)"
   ]
  },
  {
   "cell_type": "code",
   "execution_count": 18,
   "metadata": {},
   "outputs": [
    {
     "name": "stderr",
     "output_type": "stream",
     "text": [
      "c:\\Users\\Christian Gauthier\\miniconda3\\envs\\tf\\lib\\site-packages\\sklearn\\manifold\\_t_sne.py:800: FutureWarning: The default initialization in TSNE will change from 'random' to 'pca' in 1.2.\n",
      "  warnings.warn(\n",
      "c:\\Users\\Christian Gauthier\\miniconda3\\envs\\tf\\lib\\site-packages\\sklearn\\manifold\\_t_sne.py:810: FutureWarning: The default learning rate in TSNE will change from 200.0 to 'auto' in 1.2.\n",
      "  warnings.warn(\n"
     ]
    },
    {
     "data": {
      "image/png": "[encoded data removed]",
      "text/plain": [
       "<Figure size 1000x800 with 1 Axes>"
      ]
     },
     "metadata": {},
     "output_type": "display_data"
    }
   ],
   "source": [
    "outputs_array = np.array(outputs)\n",
    "outputs_array = outputs_array.reshape(outputs_array.shape[0], -1)  #flatten the last two dimensions\n",
    "\n",
    "tsne = TSNE(n_components=2, random_state=111)\n",
    "tsne_outputs = tsne.fit_transform(outputs_array)\n",
    "\n",
    "dbscan = DBSCAN(eps=0.1, min_samples=10)  \n",
    "cluster_labels = dbscan.fit_predict(tsne_outputs)\n",
    "\n",
    "unique_clusters = np.unique(cluster_labels)\n",
    "\n",
    "plt.figure(figsize=(10, 8))\n",
    "for cluster in unique_clusters:\n",
    "    cluster_indices = np.where(cluster_labels == cluster)\n",
    "    plt.scatter(tsne_outputs[cluster_indices, 0], tsne_outputs[cluster_indices, 1], label=f'Cluster {cluster}', s=5)\n",
    "\n",
    "plt.title('Clusters of Model Outputs')\n",
    "plt.xlabel('t-SNE Dimension 1')\n",
    "plt.ylabel('t-SNE Dimension 2')\n",
    "plt.legend(title='Cluster', bbox_to_anchor=(1.05, 1), loc='upper left')\n",
    "plt.show()"
   ]
  },
  {
   "cell_type": "markdown",
   "metadata": {},
   "source": [
    "**Future Work Writeup**\n",
    "\n",
    "A) Expanding on Language Model Prediction:\n",
    "\n",
    "As evident in works such as the *reference/(arXiv article), the increasing use of language models for specificity classification should not be overlooked. In our research, we have sought to incorporate some of the mentioned techniques, specifically focusing on the BERT-based and Immune2Vec models (reference the papers for both). Currently, the implementations of both models are in preliminary stages, with minimal tuning and evaluation conducted using basic sklearn models. However, despite this initial stage, the observed accuracy scores for both models suggest that further workings would be beneficial, particularly considering the lack of training data after applying of our chosen filters compared to the size and success of the fully developed models.\n",
    "\n",
    "\n",
    "**Bert Model**\n",
    "\n",
    "*Start it somehow, The capabilities of the BERT (Bidirectional Encoder Representations from Transformers) language model has gained significant attention in the field. Unlike traditional language models, BERT is designed to consider the context from both the left and the right side of a token in all layers of the model. This bidirectional approach allows BERT to understand the context and the semantic meaning of a word in a sentence more accurately. With regards to our project, the TCR-Bert model has been trained to embed the cdr3 sequences which can then be used in downstream prediction tasks.\n",
    "\n",
    "**Immune2Vec**\n",
    "\n",
    "Alongside our exploration of BERT, we've also looked into using Immune2Vec, a model inspired by word2vec but designed specifically for immunological data. Immune2Vec treats immune receptors as \"sentences\" and amino acids as \"words,\" allowing us to tap into the power of word embeddings. We trained the Immune2Vec model on the limited amount of cdr3 sequences available, generating a vector representation for each unique amino acid sequence which captures the semantic similarity between different sequences and outputs an embedding for the full sequence. These embeddings have shown to be useful at prediction with an accuracy score of 0.552 when used alongside a random forrest classifier. \n",
    "\n",
    "\n",
    "\n"
   ]
  }
 ],
 "metadata": {
  "kernelspec": {
   "display_name": "tf",
   "language": "python",
   "name": "python3"
  },
  "language_info": {
   "codemirror_mode": {
    "name": "ipython",
    "version": 3
   },
   "file_extension": ".py",
   "mimetype": "text/x-python",
   "name": "python",
   "nbconvert_exporter": "python",
   "pygments_lexer": "ipython3",
   "version": "3.9.15"
  }
 },
 "nbformat": 4,
 "nbformat_minor": 2
}
