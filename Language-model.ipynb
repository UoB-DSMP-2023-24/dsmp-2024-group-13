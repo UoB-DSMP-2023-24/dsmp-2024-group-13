{
 "cells": [
  {
   "cell_type": "markdown",
   "metadata": {},
   "source": [
    "**Language models for TCR specificity prediction**"
   ]
  },
  {
   "cell_type": "code",
   "execution_count": 18,
   "metadata": {},
   "outputs": [
    {
     "name": "stderr",
     "output_type": "stream",
     "text": [
      "C:\\Users\\Christian Gauthier\\AppData\\Local\\Temp\\ipykernel_26828\\568133031.py:8: DtypeWarning: Columns (30) have mixed types. Specify dtype option on import or set low_memory=False.\n",
      "  df = pd.read_csv(file_path, delimiter='\\t')\n"
     ]
    },
    {
     "name": "stdout",
     "output_type": "stream",
     "text": [
      "(61636, 34)\n"
     ]
    }
   ],
   "source": [
    "import pandas as pd\n",
    "import numpy as np\n",
    "import tensorflow as tf\n",
    "from tensorflow.keras import layers\n",
    "from transformers import TFBertModel, BertTokenizer\n",
    "\n",
    "file_path = \"vdjdb_full.txt\"\n",
    "df = pd.read_csv(file_path, delimiter='\\t')\n",
    "df = df.drop_duplicates()\n",
    "print(df.shape)"
   ]
  },
  {
   "cell_type": "code",
   "execution_count": 3,
   "metadata": {},
   "outputs": [
    {
     "name": "stdout",
     "output_type": "stream",
     "text": [
      "       cdr3.alpha             cdr3.beta      species antigen.epitope  \\\n",
      "0   CIVRAPGRADMRF  CASSYLPGQGDHYSNQPQHF  HomoSapiens        FLKEKGGL   \n",
      "1             NaN   CASSFEAGQGFFSNQPQHF  HomoSapiens        FLKEKGGL   \n",
      "2  CAVPSGAGSYQLTF   CASSFEPGQGFYSNQPQHF  HomoSapiens        FLKEKGGL   \n",
      "3     CAVKASGSRLT  CASSYEPGQVSHYSNQPQHF  HomoSapiens        FLKEKGGL   \n",
      "4   CAYRPPGTYKYIF        CASSALASLNEQFF  HomoSapiens        FLKEKGGL   \n",
      "\n",
      "  antigen.gene  vdjdb.score  \n",
      "0          Nef            2  \n",
      "1          Nef            2  \n",
      "2          Nef            2  \n",
      "3          Nef            2  \n",
      "4          Nef            2  \n",
      "(9300, 6)\n"
     ]
    }
   ],
   "source": [
    "df = df[(df['vdjdb.score'] > 0)]\n",
    "df_slim = df[['cdr3.alpha','cdr3.beta','species','antigen.epitope','antigen.gene','vdjdb.score']]\n",
    "print(df_slim.head(5))\n",
    "print(df_slim.shape)"
   ]
  },
  {
   "cell_type": "code",
   "execution_count": 4,
   "metadata": {},
   "outputs": [
    {
     "name": "stdout",
     "output_type": "stream",
     "text": [
      "            cdr3.alpha          cdr3.beta      species antigen.epitope  \\\n",
      "19746    CAGAIPRDDKIIF   CASSLNPGRSDSPLHF  HomoSapiens       AAFKRSCLK   \n",
      "19745  CALATHTGTASKLTF   CASSQDPGSSYNEQFF  HomoSapiens       AAFKRSCLK   \n",
      "19744     CAGARNDYKLSF  CATSRDGAGLVNQPQHF  HomoSapiens       AAFKRSCLK   \n",
      "\n",
      "      antigen.gene  vdjdb.score                     cdr3combined  \n",
      "19746         T-Ag            3    CAGAIPRDDKIIFCASSLNPGRSDSPLHF  \n",
      "19745         T-Ag            3  CALATHTGTASKLTFCASSQDPGSSYNEQFF  \n",
      "19744         T-Ag            3    CAGARNDYKLSFCATSRDGAGLVNQPQHF  \n",
      "CIVRAPGRADMRFCASSYLPGQGDHYSNQPQHF\n"
     ]
    },
    {
     "name": "stderr",
     "output_type": "stream",
     "text": [
      "C:\\Users\\Christian Gauthier\\AppData\\Local\\Temp\\ipykernel_26828\\3123875043.py:2: SettingWithCopyWarning: \n",
      "A value is trying to be set on a copy of a slice from a DataFrame.\n",
      "Try using .loc[row_indexer,col_indexer] = value instead\n",
      "\n",
      "See the caveats in the documentation: https://pandas.pydata.org/pandas-docs/stable/user_guide/indexing.html#returning-a-view-versus-a-copy\n",
      "  df_slim['cdr3combined'] = df_slim['cdr3.alpha'].fillna('') + df_slim['cdr3.beta'].fillna('')\n"
     ]
    }
   ],
   "source": [
    "#Stick CRD3 together if both alpha and beta present if not leave alone\n",
    "df_slim['cdr3combined'] = df_slim['cdr3.alpha'].fillna('') + df_slim['cdr3.beta'].fillna('')\n",
    "cdr3comb = df_slim['cdr3combined'].dropna()\n",
    "cdr3comb = cdr3comb.reset_index(drop=True)\n",
    "df_slim = df_slim.sort_values('antigen.epitope')\n",
    "print(df_slim.head(3))\n",
    "print(cdr3comb[0])"
   ]
  },
  {
   "cell_type": "code",
   "execution_count": 5,
   "metadata": {},
   "outputs": [
    {
     "name": "stdout",
     "output_type": "stream",
     "text": [
      "38\n"
     ]
    }
   ],
   "source": [
    "max_length = max(cdr3comb, key=lambda x: len(x))\n",
    "print(len(max_length))\n"
   ]
  },
  {
   "cell_type": "code",
   "execution_count": 6,
   "metadata": {},
   "outputs": [
    {
     "name": "stderr",
     "output_type": "stream",
     "text": [
      "c:\\Users\\Christian Gauthier\\miniconda3\\envs\\tf\\lib\\site-packages\\tqdm\\auto.py:22: TqdmWarning: IProgress not found. Please update jupyter and ipywidgets. See https://ipywidgets.readthedocs.io/en/stable/user_install.html\n",
      "  from .autonotebook import tqdm as notebook_tqdm\n",
      "C:\\Users\\Christian Gauthier\\AppData\\Local\\Temp\\ipykernel_26828\\2164266788.py:17: FutureWarning: The behavior of `series[i:j]` with an integer-dtype index is deprecated. In a future version, this will be treated as *label-based* indexing, consistent with e.g. `series[i]` lookups. To retain the old behavior, use `series.iloc[i:j]`. To get the future behavior, use `series.loc[i:j]`.\n",
      "  tokenized_inputs = tokenizer(df_slim['cdr3combined'][0:1500].tolist(), padding='max_length', truncation=True, max_length=38) #1500 is max before ResourceExhaustedError on local machine\n",
      "Some layers from the model checkpoint at bert-base-uncased were not used when initializing TFBertModel: ['nsp___cls', 'mlm___cls']\n",
      "- This IS expected if you are initializing TFBertModel from the checkpoint of a model trained on another task or with another architecture (e.g. initializing a BertForSequenceClassification model from a BertForPreTraining model).\n",
      "- This IS NOT expected if you are initializing TFBertModel from the checkpoint of a model that you expect to be exactly identical (initializing a BertForSequenceClassification model from a BertForSequenceClassification model).\n",
      "All the layers of TFBertModel were initialized from the model checkpoint at bert-base-uncased.\n",
      "If your task is similar to the task the model of the checkpoint was trained on, you can already use TFBertModel for predictions without further training.\n"
     ]
    }
   ],
   "source": [
    "class TCRBertModel(tf.keras.Model):\n",
    "    def __init__(self, bert_model_name='bert-base-uncased'): #uncased produces 728 dimensional embeddings\n",
    "        super(TCRBertModel, self).__init__()\n",
    "        self.bert = TFBertModel.from_pretrained(bert_model_name)\n",
    "\n",
    "    def call(self, inputs):\n",
    "        outputs = self.bert(inputs)\n",
    "        sequence_output = outputs[0]\n",
    "        return sequence_output\n",
    "\n",
    "tokenizer = BertTokenizer.from_pretrained('bert-base-uncased') #load the tokenizer for the BERT model\n",
    "\n",
    "#tokenize the TCR sequences\n",
    "tokenized_inputs = tokenizer(df_slim['cdr3combined'][0:1500].tolist(), padding='max_length', truncation=True, max_length=38) #1500 is max before ResourceExhaustedError on local machine\n",
    "\n",
    "#convert the tokenized sequences to tensors\n",
    "input_ids = tf.constant(tokenized_inputs['input_ids'])\n",
    "attention_mask = tf.constant(tokenized_inputs['attention_mask'])\n",
    "\n",
    "#dictionary mapping input names to their values\n",
    "inputs = {'input_ids': input_ids, 'attention_mask': attention_mask}\n",
    "\n",
    "model = TCRBertModel()\n",
    "\n",
    "#get 768-dimensional embeddings for each token in the input sequences\n",
    "outputs = model(inputs)"
   ]
  },
  {
   "cell_type": "code",
   "execution_count": 17,
   "metadata": {},
   "outputs": [
    {
     "name": "stdout",
     "output_type": "stream",
     "text": [
      "tf.Tensor(\n",
      "[[[-6.74676895e-01 -9.55889672e-02  2.27257103e-01 ... -2.54138976e-01\n",
      "    3.10018569e-01  5.83854079e-01]\n",
      "  [ 2.77730018e-01 -9.40572396e-02  8.77284884e-01 ... -8.00789297e-01\n",
      "   -1.50567651e-01  4.35288161e-01]\n",
      "  [ 2.92913169e-01  4.59451556e-01  1.08082390e+00 ... -8.12520683e-01\n",
      "   -2.80620456e-01  3.17230560e-02]\n",
      "  ...\n",
      "  [-3.54200393e-01  2.29425773e-01  7.44987309e-01 ... -1.03679508e-01\n",
      "   -2.60174066e-01  1.34258354e-02]\n",
      "  [-4.16917026e-01  4.15420309e-02  8.02270353e-01 ... -1.34316921e-01\n",
      "   -1.87624186e-01  1.06884927e-01]\n",
      "  [-4.90339339e-01  3.35844398e-01  7.81793892e-01 ... -1.80011958e-01\n",
      "   -1.80875748e-01 -9.65448283e-03]]\n",
      "\n",
      " [[-7.20090151e-01 -1.10861301e-01  3.37439865e-01 ... -1.00468241e-01\n",
      "    2.06924498e-01  7.44393647e-01]\n",
      "  [-8.84186774e-02 -2.29257658e-01  8.88929188e-01 ... -3.72530460e-01\n",
      "   -7.12003186e-02  4.31933343e-01]\n",
      "  [-5.37012279e-01  3.01813960e-01  1.07349384e+00 ... -2.14626536e-01\n",
      "    1.74486801e-01  2.32736960e-01]\n",
      "  ...\n",
      "  [-7.67670929e-01  5.66163138e-02  7.62813687e-01 ... -2.14397714e-01\n",
      "   -9.45551470e-02  7.49929249e-02]\n",
      "  [-4.46617126e-01 -2.57315207e-02  6.87849581e-01 ... -1.62010685e-01\n",
      "   -2.14856774e-01  1.11340091e-01]\n",
      "  [-4.52859163e-01 -5.38796261e-02  6.93691790e-01 ... -1.79055467e-01\n",
      "   -2.34291077e-01  1.49237648e-01]]\n",
      "\n",
      " [[-6.37734592e-01  3.83306891e-02  3.79163951e-01 ... -7.93580040e-02\n",
      "    3.31705868e-01  6.11161768e-01]\n",
      "  [ 2.83469856e-01 -1.75020471e-02  9.77913737e-01 ... -7.26521432e-01\n",
      "    4.96715494e-02  7.71547377e-01]\n",
      "  [ 8.18793327e-02  2.41281241e-01  7.27142870e-01 ... -8.33560467e-01\n",
      "   -3.34269941e-01 -7.55253360e-02]\n",
      "  ...\n",
      "  [-3.98912877e-01  1.49459885e-02  6.75557196e-01 ... -2.37472296e-01\n",
      "   -2.23030329e-01  2.78357357e-01]\n",
      "  [-4.76005375e-01  7.01260939e-02  6.57759845e-01 ... -2.15138346e-01\n",
      "   -2.27260798e-01  3.08191091e-01]\n",
      "  [-5.13955593e-01  1.07825279e-01  6.47597313e-01 ... -2.63436556e-01\n",
      "   -1.31048352e-01  2.77617842e-01]]\n",
      "\n",
      " ...\n",
      "\n",
      " [[-5.41577220e-01  8.09209421e-04  1.28474295e-01 ... -1.00590982e-01\n",
      "    1.65450305e-01  6.38524175e-01]\n",
      "  [-7.85839111e-02  6.81783706e-02  6.63811624e-01 ... -7.84071922e-01\n",
      "   -8.61209482e-02  7.11317599e-01]\n",
      "  [-2.84467071e-01 -6.09096363e-02  5.79471171e-01 ... -6.52161121e-01\n",
      "    3.88774835e-02  5.22078216e-01]\n",
      "  ...\n",
      "  [-3.06619883e-01  1.66979402e-01  5.30824423e-01 ... -3.48962486e-01\n",
      "   -3.54558170e-01  1.76538020e-01]\n",
      "  [-6.26712203e-01  3.95042002e-02  4.98382688e-01 ... -2.91209400e-01\n",
      "   -2.65012294e-01 -2.32718475e-02]\n",
      "  [-3.98303658e-01 -3.04171294e-02  5.05534232e-01 ... -2.23896593e-01\n",
      "   -2.06692860e-01  1.17199361e-01]]\n",
      "\n",
      " [[-6.61781132e-01  9.24918614e-03  3.08344126e-01 ... -8.18130672e-02\n",
      "    9.95036811e-02  6.23641431e-01]\n",
      "  [ 4.45644051e-01  1.70691147e-01  1.49684536e+00 ... -2.05872416e-01\n",
      "    2.59715140e-01  4.79300797e-01]\n",
      "  [ 1.74923569e-01 -1.22192517e-01  1.73207164e+00 ... -3.04264128e-02\n",
      "   -4.42668855e-01  9.89142299e-01]\n",
      "  ...\n",
      "  [-2.05970272e-01  8.10203105e-02  9.33477700e-01 ... -2.83104330e-01\n",
      "   -1.61712795e-01  7.45684355e-02]\n",
      "  [-2.20612526e-01  7.48499557e-02  9.55533743e-01 ... -2.49726817e-01\n",
      "   -2.08207786e-01  2.00500935e-01]\n",
      "  [-3.70125473e-01  1.84619009e-01  8.26677203e-01 ... -2.88528442e-01\n",
      "   -1.76722005e-01  1.36852115e-01]]\n",
      "\n",
      " [[-6.61858678e-01 -2.47629970e-01  4.33844090e-01 ... -8.58267173e-02\n",
      "    2.00889274e-01  7.36728489e-01]\n",
      "  [ 4.36522335e-01 -1.42216742e-01  1.53068984e+00 ... -1.02019534e-01\n",
      "    3.42808902e-01  3.98230880e-01]\n",
      "  [ 1.37114853e-01 -3.14916283e-01  1.81378484e+00 ...  1.53237998e-01\n",
      "   -5.10738552e-01  8.57322335e-01]\n",
      "  ...\n",
      "  [-2.65987694e-01  3.10766250e-02  8.21793139e-01 ... -2.08579957e-01\n",
      "   -1.40694931e-01 -4.12565432e-02]\n",
      "  [-3.75751019e-01  1.14415035e-01  8.30097914e-01 ... -2.11683542e-01\n",
      "   -1.63703650e-01  2.46153902e-02]\n",
      "  [-5.19618094e-01  1.43024087e-01  6.44480228e-01 ... -2.84470230e-01\n",
      "   -1.40085936e-01 -5.31397760e-02]]], shape=(1500, 38, 768), dtype=float32)\n"
     ]
    }
   ],
   "source": [
    "print(outputs)"
   ]
  }
 ],
 "metadata": {
  "kernelspec": {
   "display_name": "tf",
   "language": "python",
   "name": "python3"
  },
  "language_info": {
   "codemirror_mode": {
    "name": "ipython",
    "version": 3
   },
   "file_extension": ".py",
   "mimetype": "text/x-python",
   "name": "python",
   "nbconvert_exporter": "python",
   "pygments_lexer": "ipython3",
   "version": "3.9.15"
  }
 },
 "nbformat": 4,
 "nbformat_minor": 2
}
