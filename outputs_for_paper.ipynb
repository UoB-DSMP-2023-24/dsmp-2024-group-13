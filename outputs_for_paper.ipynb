{
 "cells": [
  {
   "cell_type": "code",
   "execution_count": null,
   "metadata": {},
   "outputs": [],
   "source": [
    "#Example Usage\n",
    "\n",
    "from kmer_feature_matrix_pipeline_funcs import *\n",
    "\n",
    "df_slim = pd.read_csv('/Users/joesouber/Downloads/filtered_df.csv')\n",
    "df_slim = pd.DataFrame(df_slim)\n",
    "\n",
    "X, y, feature_names, kmer_count_dict, epitope_names = create_features_matrix(df_slim, include_alpha=True, include_beta=True, alpha_col='cdr3_a_aa', beta_col='cdr3.beta', label_col='antigen.epitope', k=3)\n",
    "#classifier = GradientBoostingClassifier(subsample=0.8,random_state=10, n_estimators=70, learning_rate=0.1, max_features='sqrt', max_depth=10)\n",
    "#from sklearn.ensemble import RandomForestClassifier\n",
    "#rf_classifier = RandomForestClassifier(n_estimators=100, random_state=42)\n",
    "#auc_result, acc, precision, recall = predict_auc(X, y, rf_classifier, 5, epitope_names, True)"
   ]
  }
 ],
 "metadata": {
  "kernelspec": {
   "display_name": "base",
   "language": "python",
   "name": "python3"
  },
  "language_info": {
   "name": "python",
   "version": "3.9.12"
  }
 },
 "nbformat": 4,
 "nbformat_minor": 2
}
