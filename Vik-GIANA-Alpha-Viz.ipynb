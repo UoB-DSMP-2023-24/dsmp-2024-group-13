{
 "cells": [
  {
   "cell_type": "code",
   "execution_count": 1,
   "metadata": {},
   "outputs": [
    {
     "name": "stdout",
     "output_type": "stream",
     "text": [
      "(61636, 34)\n"
     ]
    },
    {
     "name": "stderr",
     "output_type": "stream",
     "text": [
      "C:\\Users\\vikra\\AppData\\Local\\Temp\\ipykernel_3820\\2714090035.py:5: DtypeWarning: Columns (30) have mixed types. Specify dtype option on import or set low_memory=False.\n",
      "  df = pd.read_csv(file_path, delimiter='\\t')\n"
     ]
    }
   ],
   "source": [
    "import pandas as pd\n",
    "import seaborn as sns\n",
    "\n",
    "file_path = \"vdjdb_full.txt\"\n",
    "df = pd.read_csv(file_path, delimiter='\\t')\n",
    "df = df.drop_duplicates()\n",
    "print(df.shape)\n"
   ]
  },
  {
   "cell_type": "code",
   "execution_count": 2,
   "metadata": {},
   "outputs": [
    {
     "data": {
      "text/html": [
       "<div>\n",
       "<style scoped>\n",
       "    .dataframe tbody tr th:only-of-type {\n",
       "        vertical-align: middle;\n",
       "    }\n",
       "\n",
       "    .dataframe tbody tr th {\n",
       "        vertical-align: top;\n",
       "    }\n",
       "\n",
       "    .dataframe thead th {\n",
       "        text-align: right;\n",
       "    }\n",
       "</style>\n",
       "<table border=\"1\" class=\"dataframe\">\n",
       "  <thead>\n",
       "    <tr style=\"text-align: right;\">\n",
       "      <th></th>\n",
       "      <th>cdr3.alpha</th>\n",
       "      <th>v.alpha</th>\n",
       "      <th>j.alpha</th>\n",
       "      <th>cdr3.beta</th>\n",
       "      <th>v.beta</th>\n",
       "      <th>d.beta</th>\n",
       "      <th>j.beta</th>\n",
       "      <th>species</th>\n",
       "      <th>mhc.a</th>\n",
       "      <th>mhc.b</th>\n",
       "      <th>...</th>\n",
       "      <th>meta.replica.id</th>\n",
       "      <th>meta.clone.id</th>\n",
       "      <th>meta.epitope.id</th>\n",
       "      <th>meta.tissue</th>\n",
       "      <th>meta.donor.MHC</th>\n",
       "      <th>meta.donor.MHC.method</th>\n",
       "      <th>meta.structure.id</th>\n",
       "      <th>cdr3fix.alpha</th>\n",
       "      <th>cdr3fix.beta</th>\n",
       "      <th>vdjdb.score</th>\n",
       "    </tr>\n",
       "  </thead>\n",
       "  <tbody>\n",
       "    <tr>\n",
       "      <th>0</th>\n",
       "      <td>CIVRAPGRADMRF</td>\n",
       "      <td>TRAV26-1*01</td>\n",
       "      <td>TRAJ43*01</td>\n",
       "      <td>CASSYLPGQGDHYSNQPQHF</td>\n",
       "      <td>TRBV13*01</td>\n",
       "      <td>NaN</td>\n",
       "      <td>TRBJ1-5*01</td>\n",
       "      <td>HomoSapiens</td>\n",
       "      <td>HLA-B*08</td>\n",
       "      <td>B2M</td>\n",
       "      <td>...</td>\n",
       "      <td>NaN</td>\n",
       "      <td>NaN</td>\n",
       "      <td>NaN</td>\n",
       "      <td>PBMC</td>\n",
       "      <td>HLA-A*02:01,HLA-A*24:02;HLA-B*08:01,HLA-B*5701...</td>\n",
       "      <td>NaN</td>\n",
       "      <td>NaN</td>\n",
       "      <td>{\"cdr3\": \"CIVRAPGRADMRF\", \"cdr3_old\": \"CIVRAPG...</td>\n",
       "      <td>{\"cdr3\": \"CASSYLPGQGDHYSNQPQHF\", \"cdr3_old\": \"...</td>\n",
       "      <td>2</td>\n",
       "    </tr>\n",
       "    <tr>\n",
       "      <th>1</th>\n",
       "      <td>NaN</td>\n",
       "      <td>NaN</td>\n",
       "      <td>NaN</td>\n",
       "      <td>CASSFEAGQGFFSNQPQHF</td>\n",
       "      <td>TRBV13*01</td>\n",
       "      <td>NaN</td>\n",
       "      <td>TRBJ1-5*01</td>\n",
       "      <td>HomoSapiens</td>\n",
       "      <td>HLA-B*08</td>\n",
       "      <td>B2M</td>\n",
       "      <td>...</td>\n",
       "      <td>NaN</td>\n",
       "      <td>NaN</td>\n",
       "      <td>NaN</td>\n",
       "      <td>PBMC</td>\n",
       "      <td>HLA-A*01:01,HLA-A*02:01;HLA-B*08:01,HLA-B*57:0...</td>\n",
       "      <td>NaN</td>\n",
       "      <td>NaN</td>\n",
       "      <td>NaN</td>\n",
       "      <td>{\"cdr3\": \"CASSFEAGQGFFSNQPQHF\", \"cdr3_old\": \"C...</td>\n",
       "      <td>2</td>\n",
       "    </tr>\n",
       "    <tr>\n",
       "      <th>2</th>\n",
       "      <td>CAVPSGAGSYQLTF</td>\n",
       "      <td>TRAV20*01</td>\n",
       "      <td>TRAJ28*01</td>\n",
       "      <td>CASSFEPGQGFYSNQPQHF</td>\n",
       "      <td>TRBV13*01</td>\n",
       "      <td>NaN</td>\n",
       "      <td>TRBJ1-5*01</td>\n",
       "      <td>HomoSapiens</td>\n",
       "      <td>HLA-B*08</td>\n",
       "      <td>B2M</td>\n",
       "      <td>...</td>\n",
       "      <td>NaN</td>\n",
       "      <td>NaN</td>\n",
       "      <td>NaN</td>\n",
       "      <td>PBMC</td>\n",
       "      <td>HLA-A*02,HLA-A*24:02;HLA-B*08:01,HLA-B*15;HLA-...</td>\n",
       "      <td>NaN</td>\n",
       "      <td>NaN</td>\n",
       "      <td>{\"cdr3\": \"CAVPSGAGSYQLTF\", \"cdr3_old\": \"CAVPSG...</td>\n",
       "      <td>{\"cdr3\": \"CASSFEPGQGFYSNQPQHF\", \"cdr3_old\": \"C...</td>\n",
       "      <td>2</td>\n",
       "    </tr>\n",
       "    <tr>\n",
       "      <th>3</th>\n",
       "      <td>CAVKASGSRLT</td>\n",
       "      <td>TRAV2*01</td>\n",
       "      <td>NaN</td>\n",
       "      <td>CASSYEPGQVSHYSNQPQHF</td>\n",
       "      <td>TRBV13*01</td>\n",
       "      <td>NaN</td>\n",
       "      <td>TRBJ1-5*01</td>\n",
       "      <td>HomoSapiens</td>\n",
       "      <td>HLA-B*08</td>\n",
       "      <td>B2M</td>\n",
       "      <td>...</td>\n",
       "      <td>NaN</td>\n",
       "      <td>NaN</td>\n",
       "      <td>NaN</td>\n",
       "      <td>PBMC</td>\n",
       "      <td>HLA-A*01:01,HLA-A*02:01;HLA-B*08:01,HLA-B*57:0...</td>\n",
       "      <td>NaN</td>\n",
       "      <td>NaN</td>\n",
       "      <td>{\"cdr3\": \"CAVKASGSRLT\", \"cdr3_old\": \"CAVKASGSR...</td>\n",
       "      <td>{\"cdr3\": \"CASSYEPGQVSHYSNQPQHF\", \"cdr3_old\": \"...</td>\n",
       "      <td>2</td>\n",
       "    </tr>\n",
       "    <tr>\n",
       "      <th>4</th>\n",
       "      <td>CAYRPPGTYKYIF</td>\n",
       "      <td>TRAV38-2/DV8*01</td>\n",
       "      <td>TRAJ40*01</td>\n",
       "      <td>CASSALASLNEQFF</td>\n",
       "      <td>TRBV14*01</td>\n",
       "      <td>NaN</td>\n",
       "      <td>TRBJ2-1*01</td>\n",
       "      <td>HomoSapiens</td>\n",
       "      <td>HLA-B*08</td>\n",
       "      <td>B2M</td>\n",
       "      <td>...</td>\n",
       "      <td>NaN</td>\n",
       "      <td>NaN</td>\n",
       "      <td>NaN</td>\n",
       "      <td>PBMC</td>\n",
       "      <td>HLA-A*01:01,HLA-A*02:01;HLA-B*08:01,HLA-B*57:0...</td>\n",
       "      <td>NaN</td>\n",
       "      <td>NaN</td>\n",
       "      <td>{\"cdr3\": \"CAYRPPGTYKYIF\", \"cdr3_old\": \"CAYRPPG...</td>\n",
       "      <td>{\"cdr3\": \"CASSALASLNEQFF\", \"cdr3_old\": \"CASSAL...</td>\n",
       "      <td>2</td>\n",
       "    </tr>\n",
       "  </tbody>\n",
       "</table>\n",
       "<p>5 rows × 34 columns</p>\n",
       "</div>"
      ],
      "text/plain": [
       "       cdr3.alpha          v.alpha    j.alpha             cdr3.beta  \\\n",
       "0   CIVRAPGRADMRF      TRAV26-1*01  TRAJ43*01  CASSYLPGQGDHYSNQPQHF   \n",
       "1             NaN              NaN        NaN   CASSFEAGQGFFSNQPQHF   \n",
       "2  CAVPSGAGSYQLTF        TRAV20*01  TRAJ28*01   CASSFEPGQGFYSNQPQHF   \n",
       "3     CAVKASGSRLT         TRAV2*01        NaN  CASSYEPGQVSHYSNQPQHF   \n",
       "4   CAYRPPGTYKYIF  TRAV38-2/DV8*01  TRAJ40*01        CASSALASLNEQFF   \n",
       "\n",
       "      v.beta d.beta      j.beta      species     mhc.a mhc.b  ...  \\\n",
       "0  TRBV13*01    NaN  TRBJ1-5*01  HomoSapiens  HLA-B*08   B2M  ...   \n",
       "1  TRBV13*01    NaN  TRBJ1-5*01  HomoSapiens  HLA-B*08   B2M  ...   \n",
       "2  TRBV13*01    NaN  TRBJ1-5*01  HomoSapiens  HLA-B*08   B2M  ...   \n",
       "3  TRBV13*01    NaN  TRBJ1-5*01  HomoSapiens  HLA-B*08   B2M  ...   \n",
       "4  TRBV14*01    NaN  TRBJ2-1*01  HomoSapiens  HLA-B*08   B2M  ...   \n",
       "\n",
       "  meta.replica.id meta.clone.id meta.epitope.id meta.tissue  \\\n",
       "0             NaN           NaN             NaN        PBMC   \n",
       "1             NaN           NaN             NaN        PBMC   \n",
       "2             NaN           NaN             NaN        PBMC   \n",
       "3             NaN           NaN             NaN        PBMC   \n",
       "4             NaN           NaN             NaN        PBMC   \n",
       "\n",
       "                                      meta.donor.MHC meta.donor.MHC.method  \\\n",
       "0  HLA-A*02:01,HLA-A*24:02;HLA-B*08:01,HLA-B*5701...                   NaN   \n",
       "1  HLA-A*01:01,HLA-A*02:01;HLA-B*08:01,HLA-B*57:0...                   NaN   \n",
       "2  HLA-A*02,HLA-A*24:02;HLA-B*08:01,HLA-B*15;HLA-...                   NaN   \n",
       "3  HLA-A*01:01,HLA-A*02:01;HLA-B*08:01,HLA-B*57:0...                   NaN   \n",
       "4  HLA-A*01:01,HLA-A*02:01;HLA-B*08:01,HLA-B*57:0...                   NaN   \n",
       "\n",
       "  meta.structure.id                                      cdr3fix.alpha  \\\n",
       "0               NaN  {\"cdr3\": \"CIVRAPGRADMRF\", \"cdr3_old\": \"CIVRAPG...   \n",
       "1               NaN                                                NaN   \n",
       "2               NaN  {\"cdr3\": \"CAVPSGAGSYQLTF\", \"cdr3_old\": \"CAVPSG...   \n",
       "3               NaN  {\"cdr3\": \"CAVKASGSRLT\", \"cdr3_old\": \"CAVKASGSR...   \n",
       "4               NaN  {\"cdr3\": \"CAYRPPGTYKYIF\", \"cdr3_old\": \"CAYRPPG...   \n",
       "\n",
       "                                        cdr3fix.beta vdjdb.score  \n",
       "0  {\"cdr3\": \"CASSYLPGQGDHYSNQPQHF\", \"cdr3_old\": \"...           2  \n",
       "1  {\"cdr3\": \"CASSFEAGQGFFSNQPQHF\", \"cdr3_old\": \"C...           2  \n",
       "2  {\"cdr3\": \"CASSFEPGQGFYSNQPQHF\", \"cdr3_old\": \"C...           2  \n",
       "3  {\"cdr3\": \"CASSYEPGQVSHYSNQPQHF\", \"cdr3_old\": \"...           2  \n",
       "4  {\"cdr3\": \"CASSALASLNEQFF\", \"cdr3_old\": \"CASSAL...           2  \n",
       "\n",
       "[5 rows x 34 columns]"
      ]
     },
     "execution_count": 2,
     "metadata": {},
     "output_type": "execute_result"
    }
   ],
   "source": [
    "df.head(5)"
   ]
  },
  {
   "cell_type": "code",
   "execution_count": 3,
   "metadata": {},
   "outputs": [
    {
     "name": "stdout",
     "output_type": "stream",
     "text": [
      "269 epitopes\n"
     ]
    }
   ],
   "source": [
    "epitopes = df['antigen.gene'].unique()\n",
    "print(f'{len(df[\"antigen.gene\"].unique())} epitopes')\n"
   ]
  },
  {
   "cell_type": "code",
   "execution_count": 4,
   "metadata": {},
   "outputs": [
    {
     "name": "stdout",
     "output_type": "stream",
     "text": [
      "IE1      14126\n",
      "pp65      8595\n",
      "M         7891\n",
      "Gag       3372\n",
      "Spike     2964\n",
      "EBNA4     2539\n",
      "MLANA     2366\n",
      "BZLF1     1610\n",
      "NS3       1574\n",
      "BMLF1     1476\n",
      "Name: antigen.gene, dtype: int64\n"
     ]
    }
   ],
   "source": [
    "epitope_frequencies = df['antigen.gene'].value_counts()\n",
    "print(epitope_frequencies[0:10])"
   ]
  },
  {
   "cell_type": "code",
   "execution_count": 5,
   "metadata": {},
   "outputs": [
    {
     "name": "stdout",
     "output_type": "stream",
     "text": [
      "Index(['cdr3.alpha', 'v.alpha', 'j.alpha', 'cdr3.beta', 'v.beta', 'd.beta',\n",
      "       'j.beta', 'species', 'mhc.a', 'mhc.b', 'mhc.class', 'antigen.epitope',\n",
      "       'antigen.gene', 'antigen.species', 'reference.id',\n",
      "       'method.identification', 'method.frequency', 'method.singlecell',\n",
      "       'method.sequencing', 'method.verification', 'meta.study.id',\n",
      "       'meta.cell.subset', 'meta.subject.cohort', 'meta.subject.id',\n",
      "       'meta.replica.id', 'meta.clone.id', 'meta.epitope.id', 'meta.tissue',\n",
      "       'meta.donor.MHC', 'meta.donor.MHC.method', 'meta.structure.id',\n",
      "       'cdr3fix.alpha', 'cdr3fix.beta', 'vdjdb.score'],\n",
      "      dtype='object')\n"
     ]
    }
   ],
   "source": [
    "print(df.columns)"
   ]
  },
  {
   "cell_type": "code",
   "execution_count": 6,
   "metadata": {},
   "outputs": [],
   "source": [
    "#create new df of only cdr3 and relevant epitope columns with score greater than 0\n",
    "df = df[(df['vdjdb.score'] > 0)]\n",
    "df.dropna(subset=['cdr3.alpha'], inplace = True)\n",
    "df = df[df['species']== 'HomoSapiens']\n",
    "df.drop_duplicates(inplace=True)\n",
    "df_slim = df[['cdr3.alpha','species','antigen.epitope','antigen.gene','vdjdb.score']]"
   ]
  },
  {
   "cell_type": "code",
   "execution_count": 7,
   "metadata": {},
   "outputs": [
    {
     "name": "stdout",
     "output_type": "stream",
     "text": [
      "       cdr3.alpha      species antigen.epitope antigen.gene  vdjdb.score\n",
      "0   CIVRAPGRADMRF  HomoSapiens        FLKEKGGL          Nef            2\n",
      "2  CAVPSGAGSYQLTF  HomoSapiens        FLKEKGGL          Nef            2\n",
      "3     CAVKASGSRLT  HomoSapiens        FLKEKGGL          Nef            2\n",
      "4   CAYRPPGTYKYIF  HomoSapiens        FLKEKGGL          Nef            2\n",
      "5   CIVRAPGRADMRF  HomoSapiens        FLKEQGGL          Nef            2\n",
      "(2886, 5)\n"
     ]
    }
   ],
   "source": [
    "print(df_slim.head(5))\n",
    "print(df_slim.shape)"
   ]
  },
  {
   "cell_type": "code",
   "execution_count": 8,
   "metadata": {},
   "outputs": [],
   "source": [
    "#Stick CRD3 together if both alpha and beta present if not leave alone\n",
    "#df_slim['cdr3combined'] = df_slim['cdr3.alpha'].fillna('') + df_slim['cdr3.beta'].fillna('')\n"
   ]
  },
  {
   "cell_type": "code",
   "execution_count": 9,
   "metadata": {},
   "outputs": [
    {
     "name": "stdout",
     "output_type": "stream",
     "text": [
      "            cdr3.alpha      species antigen.epitope antigen.gene  vdjdb.score\n",
      "19745  CALATHTGTASKLTF  HomoSapiens       AAFKRSCLK         T-Ag            3\n",
      "19742     CVVNGNNNDMRF  HomoSapiens       AAFKRSCLK         T-Ag            3\n",
      "19743     CVVNNNNNDMRF  HomoSapiens       AAFKRSCLK         T-Ag            3\n"
     ]
    }
   ],
   "source": [
    "df_slim = df_slim.sort_values('antigen.epitope')\n",
    "print(df_slim.head(3))\n",
    "#print(cdr3comb.head(3))"
   ]
  },
  {
   "cell_type": "code",
   "execution_count": 17,
   "metadata": {},
   "outputs": [
    {
     "name": "stdout",
     "output_type": "stream",
     "text": [
      "10\n"
     ]
    }
   ],
   "source": [
    "epitope_counts = df_slim['antigen.epitope'].value_counts()\n",
    "filtered_epitopes = (epitope_counts[epitope_counts>43]).index.to_list()\n",
    "print(len(filtered_epitopes))"
   ]
  },
  {
   "cell_type": "code",
   "execution_count": 18,
   "metadata": {},
   "outputs": [
    {
     "data": {
      "text/html": [
       "<div>\n",
       "<style scoped>\n",
       "    .dataframe tbody tr th:only-of-type {\n",
       "        vertical-align: middle;\n",
       "    }\n",
       "\n",
       "    .dataframe tbody tr th {\n",
       "        vertical-align: top;\n",
       "    }\n",
       "\n",
       "    .dataframe thead th {\n",
       "        text-align: right;\n",
       "    }\n",
       "</style>\n",
       "<table border=\"1\" class=\"dataframe\">\n",
       "  <thead>\n",
       "    <tr style=\"text-align: right;\">\n",
       "      <th></th>\n",
       "      <th>cdr3.alpha</th>\n",
       "      <th>species</th>\n",
       "      <th>antigen.epitope</th>\n",
       "      <th>antigen.gene</th>\n",
       "      <th>vdjdb.score</th>\n",
       "    </tr>\n",
       "  </thead>\n",
       "  <tbody>\n",
       "    <tr>\n",
       "      <th>53115</th>\n",
       "      <td>CSPQGGSEKLVF</td>\n",
       "      <td>HomoSapiens</td>\n",
       "      <td>FRDYVDRFYKTLRAEQASQE</td>\n",
       "      <td>Gag</td>\n",
       "      <td>1</td>\n",
       "    </tr>\n",
       "    <tr>\n",
       "      <th>53113</th>\n",
       "      <td>CASKAAGNKLTF</td>\n",
       "      <td>HomoSapiens</td>\n",
       "      <td>FRDYVDRFYKTLRAEQASQE</td>\n",
       "      <td>Gag</td>\n",
       "      <td>1</td>\n",
       "    </tr>\n",
       "    <tr>\n",
       "      <th>53112</th>\n",
       "      <td>CASDYGGSQRNLVF</td>\n",
       "      <td>HomoSapiens</td>\n",
       "      <td>FRDYVDRFYKTLRAEQASQE</td>\n",
       "      <td>Gag</td>\n",
       "      <td>1</td>\n",
       "    </tr>\n",
       "    <tr>\n",
       "      <th>53214</th>\n",
       "      <td>CAASDGMAGNMLTF</td>\n",
       "      <td>HomoSapiens</td>\n",
       "      <td>FRDYVDRFYKTLRAEQASQE</td>\n",
       "      <td>Gag</td>\n",
       "      <td>2</td>\n",
       "    </tr>\n",
       "    <tr>\n",
       "      <th>53116</th>\n",
       "      <td>CTFDNQGGTALIF</td>\n",
       "      <td>HomoSapiens</td>\n",
       "      <td>FRDYVDRFYKTLRAEQASQE</td>\n",
       "      <td>Gag</td>\n",
       "      <td>1</td>\n",
       "    </tr>\n",
       "  </tbody>\n",
       "</table>\n",
       "</div>"
      ],
      "text/plain": [
       "           cdr3.alpha      species       antigen.epitope antigen.gene  \\\n",
       "53115    CSPQGGSEKLVF  HomoSapiens  FRDYVDRFYKTLRAEQASQE          Gag   \n",
       "53113    CASKAAGNKLTF  HomoSapiens  FRDYVDRFYKTLRAEQASQE          Gag   \n",
       "53112  CASDYGGSQRNLVF  HomoSapiens  FRDYVDRFYKTLRAEQASQE          Gag   \n",
       "53214  CAASDGMAGNMLTF  HomoSapiens  FRDYVDRFYKTLRAEQASQE          Gag   \n",
       "53116   CTFDNQGGTALIF  HomoSapiens  FRDYVDRFYKTLRAEQASQE          Gag   \n",
       "\n",
       "       vdjdb.score  \n",
       "53115            1  \n",
       "53113            1  \n",
       "53112            1  \n",
       "53214            2  \n",
       "53116            1  "
      ]
     },
     "execution_count": 18,
     "metadata": {},
     "output_type": "execute_result"
    }
   ],
   "source": [
    "df_slim = df_slim[df_slim['antigen.epitope'].isin(filtered_epitopes)]\n",
    "cdr3comb = df_slim['cdr3.alpha'].dropna()\n",
    "cdr3comb = cdr3comb.reset_index(drop=True)\n",
    "df_slim.head()"
   ]
  },
  {
   "cell_type": "code",
   "execution_count": 19,
   "metadata": {},
   "outputs": [],
   "source": [
    "import sys, os\n",
    "import numpy as np\n",
    "from Bio.Align import substitution_matrices\n",
    "substitution_matrix = substitution_matrices.load('BLOSUM62')  # use matrix names to load\n",
    "from sklearn.manifold import MDS"
   ]
  },
  {
   "cell_type": "code",
   "execution_count": 20,
   "metadata": {},
   "outputs": [],
   "source": [
    "#parameter Settings\n",
    "Ndim=16 #the optimal dimension for isometric representation is 16 \n",
    "n0=Ndim*6\n",
    "ZERO=np.zeros((Ndim,Ndim))\n",
    "II=np.eye(Ndim)\n",
    "M0=np.concatenate((np.concatenate((ZERO,ZERO, II),axis=1),np.concatenate((II, ZERO, ZERO),axis=1),np.concatenate((ZERO,II, ZERO),axis=1)))\n",
    "## Construct 6-th order cyclic group\n",
    "ZERO45=np.zeros((Ndim*3,Ndim*3))\n",
    "#M6 is the determined omega matrix\n",
    "M6=np.concatenate((np.concatenate((ZERO45,M0),axis=1),np.concatenate((M0, ZERO45),axis=1)))"
   ]
  },
  {
   "cell_type": "code",
   "execution_count": 21,
   "metadata": {},
   "outputs": [],
   "source": [
    "#the adjusted blosum62 matrix, the diagonal valyes are set 4\n",
    "bl62={'A':[4,-1,-2,-2,0,-1,-1,0,-2,-1,-1,-1,-1,-2,-1,1,0,-3,-2,0],\n",
    "      'R':[-1,4,0,-2,-3,1,0,-2,0,-3,-2,2,-1,-3,-2,-1,-1,-3,-2,-3],\n",
    "      'N':[-2,0,4,1,-3,0,0,0,1,-3,-3,0,-2,-3,-2,1,0,-4,-2,-3],\n",
    "      'D':[-2,-2,1,4,-3,0,2,-1,-1,-3,-4,-1,-3,-3,-1,0,-1,-4,-3,-3],\n",
    "      'C':[0,-3,-3,-3,4,-3,-4,-3,-3,-1,-1,-3,-1,-2,-3,-1,-1,-2,-2,-1],\n",
    "      'Q':[-1,1,0,0,-3,4,2,-2,0,-3,-2,1,0,-3,-1,0,-1,-2,-1,-2],\n",
    "      'E':[-1,0,0,2,-4,2,4,-2,0,-3,-3,1,-2,-3,-1,0,-1,-3,-2,-2],\n",
    "      'G':[0,-2,0,-1,-3,-2,-2,4,-2,-4,-4,-2,-3,-3,-2,0,-2,-2,-3,-3],\n",
    "      'H':[-2,0,1,-1,-3,0,0,-2,4,-3,-3,-1,-2,-1,-2,-1,-2,-2,2,-3],\n",
    "      'I':[-1,-3,-3,-3,-1,-3,-3,-4,-3,4,2,-3,1,0,-3,-2,-1,-3,-1,3],\n",
    "      'L':[-1,-2,-3,-4,-1,-2,-3,-4,-3,2,4,-2,2,0,-3,-2,-1,-2,-1,1],\n",
    "      'K':[-1,2,0,-1,-3,1,1,-2,-1,-3,-2,4,-1,-3,-1,0,-1,-3,-2,-2],\n",
    "      'M':[-1,-1,-2,-3,-1,0,-2,-3,-2,1,2,-1,4,0,-2,-1,-1,-1,-1,1],\n",
    "      'F':[-2,-3,-3,-3,-2,-3,-3,-3,-1,0,0,-3,0,4,-4,-2,-2,1,3,-1],\n",
    "      'P':[-1,-2,-2,-1,-3,-1,-1,-2,-2,-3,-3,-1,-2,-4,4,-1,-1,-4,-3,-2],\n",
    "      'S':[1,-1,1,0,-1,0,0,0,-1,-2,-2,0,-1,-2,-1,4,1,-3,-2,-2],\n",
    "      'T':[0,-1,0,-1,-1,-1,-1,-2,-2,-1,-1,-1,-1,-2,-1,1,4,-2,-2,0],\n",
    "      'W':[-3,-3,-4,-4,-2,-2,-3,-2,-2,-3,-2,-3,-1,1,-4,-3,-2,4,2,-3],\n",
    "      'Y':[-2,-2,-2,-3,-2,-1,-2,-3,2,-1,-1,-2,-1,3,-3,-2,-2,2,4,-1],\n",
    "      'V':[0,-3,-3,-3,-1,-2,-2,-3,-3,3,1,-2,1,-1,-2,-2,0,-3,-1,4]}"
   ]
  },
  {
   "cell_type": "code",
   "execution_count": 22,
   "metadata": {},
   "outputs": [],
   "source": [
    "#let X to be the collection of MDS encoded embedding vectors for each of amino acid, which has a dimensionality of 16\n",
    "#THIS IS DEFINED IN GIANA AS DEAFULT VALUES\n",
    "X=np.array([[-0.31230882, -0.53572156, -0.01949946, -0.12211268, -0.70947917,\n",
    "        -0.42211092,  0.02783931,  0.02637933, -0.41760305,  0.21809875,\n",
    "         0.53532768,  0.04833016,  0.07877711,  0.50464914, -0.26972087,\n",
    "        -0.52416842],\n",
    "       [ 0.29672002,  0.29005364,  0.18176298, -0.05103382, -0.34686519,\n",
    "         0.58024228, -0.49282931,  0.62304281, -0.09575202,  0.30115555,\n",
    "         0.09913529,  0.1577466 , -0.94391939, -0.10505925,  0.05482389,\n",
    "         0.38409897],\n",
    "       [-0.42212537,  0.12225749,  0.16279646,  0.60099009,  0.19734216,\n",
    "         0.42819919, -0.33562418,  0.17036334,  0.4234109 ,  0.46681561,\n",
    "        -0.50347222, -0.37936876,  0.1494825 ,  0.32176759,  0.28584684,\n",
    "         0.68469861],\n",
    "       [ 0.18599294, -0.44017825, -0.4476952 ,  0.34340976,  0.44603553,\n",
    "         0.40974629, -0.60045935, -0.09056728,  0.22147919, -0.33029418,\n",
    "         0.55635594, -0.54149972,  0.05459062,  0.57334159, -0.06227118,\n",
    "         0.65299872],\n",
    "       [-0.19010428,  0.64418792, -0.85286762,  0.21380295,  0.37639516,\n",
    "        -0.67753593,  0.38751609,  0.55746524,  0.01443766,  0.1776535 ,\n",
    "         0.62853954, -0.15048523,  0.55100206, -0.21426656,  0.3644061 ,\n",
    "        -0.0018255 ],\n",
    "       [ 0.7350723 ,  0.10111267,  0.55640019, -0.18226966,  0.51658102,\n",
    "        -0.19321508, -0.46599027, -0.02989911,  0.4036196 , -0.11978213,\n",
    "        -0.29837524, -0.30232765, -0.36738065, -0.1379793 ,  0.04362871,\n",
    "         0.33553714],\n",
    "       [ 0.41134047,  0.13512443,  0.62492322, -0.10120261, -0.03093491,\n",
    "         0.23751917, -0.68338694,  0.05124762,  0.41533821,  0.46669353,\n",
    "         0.31467277, -0.02427587,  0.15361135,  0.70595112, -0.27952632,\n",
    "         0.32408931],\n",
    "       [-0.33041265, -0.43860065, -0.5509376 , -0.04380843, -0.35160935,\n",
    "         0.25134855,  0.53409314,  0.54850824,  0.59490287,  0.32669345,\n",
    "        -0.45355268, -0.56317041, -0.55416297,  0.18117841, -0.71600849,\n",
    "        -0.08989825],\n",
    "       [-0.40366849,  0.10978974,  0.0280101 , -0.46667987, -0.45607028,\n",
    "         0.54114052, -0.77552923, -0.10720425,  0.55252091, -0.34397153,\n",
    "        -0.59813694,  0.15567728,  0.03071009, -0.02176143,  0.34442719,\n",
    "         0.14681541],\n",
    "       [ 0.19280422,  0.35777863,  0.06139255,  0.20081699, -0.30546596,\n",
    "        -0.56901549, -0.15290953, -0.31181573, -0.74523217,  0.22296016,\n",
    "        -0.39143832, -0.16474685,  0.58064427, -0.77386654,  0.19713107,\n",
    "        -0.49477418],\n",
    "       [-0.16133903,  0.22112761, -0.53162136,  0.34764073, -0.08522381,\n",
    "        -0.2510216 ,  0.04699411, -0.25702389, -0.8739765 , -0.24171728,\n",
    "        -0.24370533,  0.42193635,  0.41056913, -0.60378211, -0.65756832,\n",
    "         0.0845203 ],\n",
    "       [-0.34792144,  0.18450939,  0.77038332,  0.63868511, -0.06221681,\n",
    "         0.11930421,  0.04895523, -0.22463059, -0.03268844, -0.58941354,\n",
    "         0.11640045,  0.32384901, -0.42952779,  0.58119471,  0.07288662,\n",
    "         0.26669673],\n",
    "       [ 0.01834555, -0.16367754,  0.34900298,  0.45087949,  0.47073855,\n",
    "        -0.37377404,  0.0606911 ,  0.2455703 , -0.55182937, -0.20261009,\n",
    "         0.28325423, -0.04741146,  0.30565238, -0.62090653,  0.17528413,\n",
    "        -0.60434975],\n",
    "       [-0.55464981,  0.50918784, -0.21371646, -0.63996967, -0.37656862,\n",
    "         0.27852662,  0.3287838 , -0.56800869,  0.23260763, -0.20653106,\n",
    "         0.63261439, -0.22666691,  0.00726302, -0.60125196,  0.07139961,\n",
    "        -0.35086639],\n",
    "       [ 0.94039731, -0.25999326,  0.43922549, -0.485738  , -0.20492235,\n",
    "        -0.26005626,  0.68776626,  0.57826888, -0.05973995, -0.1193658 ,\n",
    "        -0.12102433, -0.22091354,  0.43427913,  0.71447886,  0.32745991,\n",
    "         0.03466398],\n",
    "       [-0.13194625, -0.12262688,  0.18029209,  0.16555524,  0.39594125,\n",
    "        -0.58110665,  0.16161717,  0.0839783 ,  0.0911945 ,  0.34546976,\n",
    "        -0.29415349,  0.29891936, -0.60834721,  0.5943593 , -0.29473819,\n",
    "         0.4864154 ],\n",
    "       [ 0.40850093, -0.4638894 , -0.39732987, -0.01972861,  0.51189582,\n",
    "         0.10176704,  0.37528519, -0.41479418, -0.1932531 ,  0.54732221,\n",
    "        -0.11876511,  0.32843973, -0.259283  ,  0.59500132,  0.35168375,\n",
    "        -0.21733727],\n",
    "       [-0.50627723, -0.1973602 , -0.02339884, -0.66846048,  0.62696606,\n",
    "         0.60049717,  0.69143364, -0.48053591,  0.17812208, -0.58481821,\n",
    "        -0.23551415, -0.06229112,  0.20993116, -0.72485884,  0.34375662,\n",
    "        -0.23539168],\n",
    "       [-0.51388312, -0.2788953 ,  0.00859533, -0.5247195 , -0.18021544,\n",
    "         0.28372911,  0.10791359,  0.13033494,  0.34294013, -0.70310089,\n",
    "        -0.13245433,  0.48661081,  0.08451644, -0.69990992,  0.0408274 ,\n",
    "        -0.47204888],\n",
    "       [ 0.68546275,  0.22581365, -0.32571833,  0.34394298, -0.43232367,\n",
    "        -0.5041842 ,  0.04784017, -0.53067936, -0.50049908,  0.36874221,\n",
    "         0.22429186,  0.4616482 ,  0.11159174, -0.26827959, -0.39372848,\n",
    "        -0.40987423]])"
   ]
  },
  {
   "cell_type": "code",
   "execution_count": 23,
   "metadata": {},
   "outputs": [],
   "source": [
    "#let the dictionary variable bl62np represent the extended embedding vectors (demensionality 16*6) of all 20 amina acids.\n",
    "bl62np={}\n",
    "vkk=list(bl62.keys())\n",
    "for ii in range(20):\n",
    "    kk=vkk[ii]\n",
    "    bl62np[kk]=np.array(list(X[ii,])+[0]*Ndim*5)    "
   ]
  },
  {
   "cell_type": "code",
   "execution_count": 24,
   "metadata": {},
   "outputs": [],
   "source": [
    "#encodethe CDR3 sequences into 96 dimensional space\n",
    "def EncodingCDR3(s, M, n0):\n",
    "    sL=list(s)\n",
    "    x=np.array([0]*n0)\n",
    "    for ii in range(len(sL)):\n",
    "        x = np.dot(M, (x+bl62np[sL[ii]]))\n",
    "    return x"
   ]
  },
  {
   "cell_type": "code",
   "execution_count": 25,
   "metadata": {},
   "outputs": [
    {
     "name": "stdout",
     "output_type": "stream",
     "text": [
      "[-0.52051693  0.20558727 -1.40380522  0.16999452  0.02478581 -0.42618738\n",
      "  0.92160923  1.10597348  0.60934053  0.50434695  0.17498686 -0.71365564\n",
      " -0.00316091 -0.03308815 -0.35160239 -0.09172375 -0.47986769  0.06188251\n",
      "  0.95067541  0.80424035  0.33372444 -0.46180244  0.2105724  -0.14065229\n",
      "  0.05850606 -0.24394378 -0.17775304  0.62276837 -1.037875    1.17555401\n",
      " -0.22185157  0.75311213  0.09619211 -0.99961096 -0.41682933 -0.14184129\n",
      " -0.19758335 -0.32034388  0.4031245  -0.38841485 -0.61085615  0.76542096\n",
      "  0.41656257  0.37676989 -0.18050589  1.09965046  0.08196288 -0.74150569\n",
      " -0.50926047  0.405637    0.23876196  0.98632584 -0.14744062 -0.13171739\n",
      "  0.09594934 -0.48165448 -0.90666494 -0.83113082 -0.12730488  0.74578536\n",
      " -0.01895866 -0.0225874  -0.5846817   0.35121703 -0.86695863 -0.02653372\n",
      " -0.23321592 -0.76208235 -1.08604779 -0.1435843   0.35662311 -0.54162936\n",
      " -0.18499542  0.01156769  1.16794207 -0.17833675  0.08604013 -0.09660282\n",
      " -0.19832126 -0.87503481 -0.73443419 -0.41346407  0.143297    0.47887741\n",
      " -0.51213701  0.00608827 -0.30778487  0.19674267  0.00580785  0.68491436\n",
      "  0.03185546 -0.3310386   0.22825961  0.82641673  0.01612597  0.16053019]\n"
     ]
    }
   ],
   "source": [
    "seq1_code = EncodingCDR3(cdr3comb[1], M6, n0)\n",
    "print(seq1_code)\n"
   ]
  },
  {
   "cell_type": "code",
   "execution_count": 26,
   "metadata": {},
   "outputs": [
    {
     "name": "stderr",
     "output_type": "stream",
     "text": [
      "C:\\Users\\vikra\\AppData\\Local\\Temp\\ipykernel_3820\\698039082.py:6: FutureWarning: The frame.append method is deprecated and will be removed from pandas in a future version. Use pandas.concat instead.\n",
      "  encoded_df = encoded_df.append(pd.Series(encoded_seq), ignore_index=True)\n",
      "C:\\Users\\vikra\\AppData\\Local\\Temp\\ipykernel_3820\\698039082.py:6: FutureWarning: The frame.append method is deprecated and will be removed from pandas in a future version. Use pandas.concat instead.\n",
      "  encoded_df = encoded_df.append(pd.Series(encoded_seq), ignore_index=True)\n"
     ]
    },
    {
     "name": "stdout",
     "output_type": "stream",
     "text": [
      "(1635, 96)\n"
     ]
    }
   ],
   "source": [
    "encoded_df = pd.DataFrame()\n",
    "\n",
    "for i in range(0, len(cdr3comb)):\n",
    "    #encodde with giana matrix\n",
    "    encoded_seq = EncodingCDR3(cdr3comb[i], M6, n0)\n",
    "    encoded_df = encoded_df.append(pd.Series(encoded_seq), ignore_index=True)\n",
    "\n",
    "print(encoded_df.shape)"
   ]
  },
  {
   "cell_type": "code",
   "execution_count": 27,
   "metadata": {},
   "outputs": [
    {
     "data": {
      "text/html": [
       "<div>\n",
       "<style scoped>\n",
       "    .dataframe tbody tr th:only-of-type {\n",
       "        vertical-align: middle;\n",
       "    }\n",
       "\n",
       "    .dataframe tbody tr th {\n",
       "        vertical-align: top;\n",
       "    }\n",
       "\n",
       "    .dataframe thead th {\n",
       "        text-align: right;\n",
       "    }\n",
       "</style>\n",
       "<table border=\"1\" class=\"dataframe\">\n",
       "  <thead>\n",
       "    <tr style=\"text-align: right;\">\n",
       "      <th></th>\n",
       "      <th>0</th>\n",
       "      <th>1</th>\n",
       "      <th>2</th>\n",
       "      <th>3</th>\n",
       "      <th>4</th>\n",
       "      <th>5</th>\n",
       "      <th>6</th>\n",
       "      <th>7</th>\n",
       "      <th>8</th>\n",
       "      <th>9</th>\n",
       "      <th>...</th>\n",
       "      <th>86</th>\n",
       "      <th>87</th>\n",
       "      <th>88</th>\n",
       "      <th>89</th>\n",
       "      <th>90</th>\n",
       "      <th>91</th>\n",
       "      <th>92</th>\n",
       "      <th>93</th>\n",
       "      <th>94</th>\n",
       "      <th>95</th>\n",
       "    </tr>\n",
       "  </thead>\n",
       "  <tbody>\n",
       "    <tr>\n",
       "      <th>0</th>\n",
       "      <td>-0.322051</td>\n",
       "      <td>0.521561</td>\n",
       "      <td>-0.672576</td>\n",
       "      <td>0.379358</td>\n",
       "      <td>0.772336</td>\n",
       "      <td>-1.258643</td>\n",
       "      <td>0.549133</td>\n",
       "      <td>0.641444</td>\n",
       "      <td>0.105632</td>\n",
       "      <td>0.523123</td>\n",
       "      <td>...</td>\n",
       "      <td>-0.521770</td>\n",
       "      <td>0.135226</td>\n",
       "      <td>0.506533</td>\n",
       "      <td>0.812163</td>\n",
       "      <td>0.020519</td>\n",
       "      <td>0.274643</td>\n",
       "      <td>-0.454736</td>\n",
       "      <td>1.300310</td>\n",
       "      <td>-0.574265</td>\n",
       "      <td>0.810505</td>\n",
       "    </tr>\n",
       "    <tr>\n",
       "      <th>1</th>\n",
       "      <td>-0.520517</td>\n",
       "      <td>0.205587</td>\n",
       "      <td>-1.403805</td>\n",
       "      <td>0.169995</td>\n",
       "      <td>0.024786</td>\n",
       "      <td>-0.426187</td>\n",
       "      <td>0.921609</td>\n",
       "      <td>1.105973</td>\n",
       "      <td>0.609341</td>\n",
       "      <td>0.504347</td>\n",
       "      <td>...</td>\n",
       "      <td>-0.307785</td>\n",
       "      <td>0.196743</td>\n",
       "      <td>0.005808</td>\n",
       "      <td>0.684914</td>\n",
       "      <td>0.031855</td>\n",
       "      <td>-0.331039</td>\n",
       "      <td>0.228260</td>\n",
       "      <td>0.826417</td>\n",
       "      <td>0.016126</td>\n",
       "      <td>0.160530</td>\n",
       "    </tr>\n",
       "    <tr>\n",
       "      <th>2</th>\n",
       "      <td>0.603126</td>\n",
       "      <td>-0.021514</td>\n",
       "      <td>0.736692</td>\n",
       "      <td>-0.016714</td>\n",
       "      <td>0.912522</td>\n",
       "      <td>-0.774322</td>\n",
       "      <td>-0.304373</td>\n",
       "      <td>0.054079</td>\n",
       "      <td>0.494814</td>\n",
       "      <td>0.225688</td>\n",
       "      <td>...</td>\n",
       "      <td>-1.093289</td>\n",
       "      <td>0.532476</td>\n",
       "      <td>0.125727</td>\n",
       "      <td>-0.029139</td>\n",
       "      <td>0.655491</td>\n",
       "      <td>-0.383753</td>\n",
       "      <td>-0.889329</td>\n",
       "      <td>0.468282</td>\n",
       "      <td>-0.007447</td>\n",
       "      <td>1.037098</td>\n",
       "    </tr>\n",
       "    <tr>\n",
       "      <th>3</th>\n",
       "      <td>-0.642721</td>\n",
       "      <td>-0.974322</td>\n",
       "      <td>-0.570437</td>\n",
       "      <td>-0.165921</td>\n",
       "      <td>-1.061089</td>\n",
       "      <td>-0.170762</td>\n",
       "      <td>0.561932</td>\n",
       "      <td>0.574888</td>\n",
       "      <td>0.177300</td>\n",
       "      <td>0.544792</td>\n",
       "      <td>...</td>\n",
       "      <td>-0.174007</td>\n",
       "      <td>0.254342</td>\n",
       "      <td>0.514605</td>\n",
       "      <td>0.812285</td>\n",
       "      <td>-0.797626</td>\n",
       "      <td>-0.080449</td>\n",
       "      <td>-0.458865</td>\n",
       "      <td>0.916127</td>\n",
       "      <td>-0.008891</td>\n",
       "      <td>1.171114</td>\n",
       "    </tr>\n",
       "    <tr>\n",
       "      <th>4</th>\n",
       "      <td>0.078088</td>\n",
       "      <td>-0.902490</td>\n",
       "      <td>-0.948267</td>\n",
       "      <td>-0.063537</td>\n",
       "      <td>0.160286</td>\n",
       "      <td>0.353116</td>\n",
       "      <td>0.909378</td>\n",
       "      <td>0.133714</td>\n",
       "      <td>0.401650</td>\n",
       "      <td>0.874016</td>\n",
       "      <td>...</td>\n",
       "      <td>0.704069</td>\n",
       "      <td>-0.982803</td>\n",
       "      <td>0.039355</td>\n",
       "      <td>0.340791</td>\n",
       "      <td>0.513849</td>\n",
       "      <td>0.101773</td>\n",
       "      <td>-0.252020</td>\n",
       "      <td>-0.006251</td>\n",
       "      <td>0.423083</td>\n",
       "      <td>-0.568204</td>\n",
       "    </tr>\n",
       "  </tbody>\n",
       "</table>\n",
       "<p>5 rows × 96 columns</p>\n",
       "</div>"
      ],
      "text/plain": [
       "         0         1         2         3         4         5         6   \\\n",
       "0 -0.322051  0.521561 -0.672576  0.379358  0.772336 -1.258643  0.549133   \n",
       "1 -0.520517  0.205587 -1.403805  0.169995  0.024786 -0.426187  0.921609   \n",
       "2  0.603126 -0.021514  0.736692 -0.016714  0.912522 -0.774322 -0.304373   \n",
       "3 -0.642721 -0.974322 -0.570437 -0.165921 -1.061089 -0.170762  0.561932   \n",
       "4  0.078088 -0.902490 -0.948267 -0.063537  0.160286  0.353116  0.909378   \n",
       "\n",
       "         7         8         9   ...        86        87        88        89  \\\n",
       "0  0.641444  0.105632  0.523123  ... -0.521770  0.135226  0.506533  0.812163   \n",
       "1  1.105973  0.609341  0.504347  ... -0.307785  0.196743  0.005808  0.684914   \n",
       "2  0.054079  0.494814  0.225688  ... -1.093289  0.532476  0.125727 -0.029139   \n",
       "3  0.574888  0.177300  0.544792  ... -0.174007  0.254342  0.514605  0.812285   \n",
       "4  0.133714  0.401650  0.874016  ...  0.704069 -0.982803  0.039355  0.340791   \n",
       "\n",
       "         90        91        92        93        94        95  \n",
       "0  0.020519  0.274643 -0.454736  1.300310 -0.574265  0.810505  \n",
       "1  0.031855 -0.331039  0.228260  0.826417  0.016126  0.160530  \n",
       "2  0.655491 -0.383753 -0.889329  0.468282 -0.007447  1.037098  \n",
       "3 -0.797626 -0.080449 -0.458865  0.916127 -0.008891  1.171114  \n",
       "4  0.513849  0.101773 -0.252020 -0.006251  0.423083 -0.568204  \n",
       "\n",
       "[5 rows x 96 columns]"
      ]
     },
     "execution_count": 27,
     "metadata": {},
     "output_type": "execute_result"
    }
   ],
   "source": [
    "encoded_df.head()"
   ]
  },
  {
   "cell_type": "code",
   "execution_count": 28,
   "metadata": {},
   "outputs": [
    {
     "data": {
      "text/html": [
       "<div>\n",
       "<style scoped>\n",
       "    .dataframe tbody tr th:only-of-type {\n",
       "        vertical-align: middle;\n",
       "    }\n",
       "\n",
       "    .dataframe tbody tr th {\n",
       "        vertical-align: top;\n",
       "    }\n",
       "\n",
       "    .dataframe thead th {\n",
       "        text-align: right;\n",
       "    }\n",
       "</style>\n",
       "<table border=\"1\" class=\"dataframe\">\n",
       "  <thead>\n",
       "    <tr style=\"text-align: right;\">\n",
       "      <th></th>\n",
       "      <th>cdr3.alpha</th>\n",
       "      <th>species</th>\n",
       "      <th>antigen.epitope</th>\n",
       "      <th>antigen.gene</th>\n",
       "      <th>vdjdb.score</th>\n",
       "    </tr>\n",
       "  </thead>\n",
       "  <tbody>\n",
       "    <tr>\n",
       "      <th>53115</th>\n",
       "      <td>CSPQGGSEKLVF</td>\n",
       "      <td>HomoSapiens</td>\n",
       "      <td>FRDYVDRFYKTLRAEQASQE</td>\n",
       "      <td>Gag</td>\n",
       "      <td>1</td>\n",
       "    </tr>\n",
       "    <tr>\n",
       "      <th>53113</th>\n",
       "      <td>CASKAAGNKLTF</td>\n",
       "      <td>HomoSapiens</td>\n",
       "      <td>FRDYVDRFYKTLRAEQASQE</td>\n",
       "      <td>Gag</td>\n",
       "      <td>1</td>\n",
       "    </tr>\n",
       "    <tr>\n",
       "      <th>53112</th>\n",
       "      <td>CASDYGGSQRNLVF</td>\n",
       "      <td>HomoSapiens</td>\n",
       "      <td>FRDYVDRFYKTLRAEQASQE</td>\n",
       "      <td>Gag</td>\n",
       "      <td>1</td>\n",
       "    </tr>\n",
       "    <tr>\n",
       "      <th>53214</th>\n",
       "      <td>CAASDGMAGNMLTF</td>\n",
       "      <td>HomoSapiens</td>\n",
       "      <td>FRDYVDRFYKTLRAEQASQE</td>\n",
       "      <td>Gag</td>\n",
       "      <td>2</td>\n",
       "    </tr>\n",
       "    <tr>\n",
       "      <th>53116</th>\n",
       "      <td>CTFDNQGGTALIF</td>\n",
       "      <td>HomoSapiens</td>\n",
       "      <td>FRDYVDRFYKTLRAEQASQE</td>\n",
       "      <td>Gag</td>\n",
       "      <td>1</td>\n",
       "    </tr>\n",
       "  </tbody>\n",
       "</table>\n",
       "</div>"
      ],
      "text/plain": [
       "           cdr3.alpha      species       antigen.epitope antigen.gene  \\\n",
       "53115    CSPQGGSEKLVF  HomoSapiens  FRDYVDRFYKTLRAEQASQE          Gag   \n",
       "53113    CASKAAGNKLTF  HomoSapiens  FRDYVDRFYKTLRAEQASQE          Gag   \n",
       "53112  CASDYGGSQRNLVF  HomoSapiens  FRDYVDRFYKTLRAEQASQE          Gag   \n",
       "53214  CAASDGMAGNMLTF  HomoSapiens  FRDYVDRFYKTLRAEQASQE          Gag   \n",
       "53116   CTFDNQGGTALIF  HomoSapiens  FRDYVDRFYKTLRAEQASQE          Gag   \n",
       "\n",
       "       vdjdb.score  \n",
       "53115            1  \n",
       "53113            1  \n",
       "53112            1  \n",
       "53214            2  \n",
       "53116            1  "
      ]
     },
     "execution_count": 28,
     "metadata": {},
     "output_type": "execute_result"
    }
   ],
   "source": [
    "df_slim.head()"
   ]
  },
  {
   "cell_type": "code",
   "execution_count": 29,
   "metadata": {},
   "outputs": [
    {
     "data": {
      "text/plain": [
       "(1635, 5)"
      ]
     },
     "execution_count": 29,
     "metadata": {},
     "output_type": "execute_result"
    }
   ],
   "source": [
    "df_slim.shape"
   ]
  },
  {
   "cell_type": "code",
   "execution_count": 30,
   "metadata": {},
   "outputs": [],
   "source": [
    "from sklearn.preprocessing import StandardScaler\n",
    "scaler = StandardScaler()\n",
    "encoded_data = scaler.fit_transform(encoded_df)"
   ]
  },
  {
   "cell_type": "code",
   "execution_count": 31,
   "metadata": {},
   "outputs": [],
   "source": [
    "df_slim = df_slim.sort_values('antigen.epitope')"
   ]
  },
  {
   "cell_type": "code",
   "execution_count": 32,
   "metadata": {},
   "outputs": [
    {
     "data": {
      "text/html": [
       "<div>\n",
       "<style scoped>\n",
       "    .dataframe tbody tr th:only-of-type {\n",
       "        vertical-align: middle;\n",
       "    }\n",
       "\n",
       "    .dataframe tbody tr th {\n",
       "        vertical-align: top;\n",
       "    }\n",
       "\n",
       "    .dataframe thead th {\n",
       "        text-align: right;\n",
       "    }\n",
       "</style>\n",
       "<table border=\"1\" class=\"dataframe\">\n",
       "  <thead>\n",
       "    <tr style=\"text-align: right;\">\n",
       "      <th></th>\n",
       "      <th>cdr3.alpha</th>\n",
       "      <th>species</th>\n",
       "      <th>antigen.epitope</th>\n",
       "      <th>antigen.gene</th>\n",
       "      <th>vdjdb.score</th>\n",
       "    </tr>\n",
       "  </thead>\n",
       "  <tbody>\n",
       "    <tr>\n",
       "      <th>53115</th>\n",
       "      <td>CSPQGGSEKLVF</td>\n",
       "      <td>HomoSapiens</td>\n",
       "      <td>FRDYVDRFYKTLRAEQASQE</td>\n",
       "      <td>Gag</td>\n",
       "      <td>1</td>\n",
       "    </tr>\n",
       "    <tr>\n",
       "      <th>22489</th>\n",
       "      <td>CASYGGATNKLIF</td>\n",
       "      <td>HomoSapiens</td>\n",
       "      <td>FRDYVDRFYKTLRAEQASQE</td>\n",
       "      <td>Gag</td>\n",
       "      <td>1</td>\n",
       "    </tr>\n",
       "    <tr>\n",
       "      <th>22488</th>\n",
       "      <td>CANYGGATNKLIF</td>\n",
       "      <td>HomoSapiens</td>\n",
       "      <td>FRDYVDRFYKTLRAEQASQE</td>\n",
       "      <td>Gag</td>\n",
       "      <td>1</td>\n",
       "    </tr>\n",
       "    <tr>\n",
       "      <th>22485</th>\n",
       "      <td>CAFNAAGNKLTF</td>\n",
       "      <td>HomoSapiens</td>\n",
       "      <td>FRDYVDRFYKTLRAEQASQE</td>\n",
       "      <td>Gag</td>\n",
       "      <td>1</td>\n",
       "    </tr>\n",
       "    <tr>\n",
       "      <th>22484</th>\n",
       "      <td>CAFKAAGNKLTF</td>\n",
       "      <td>HomoSapiens</td>\n",
       "      <td>FRDYVDRFYKTLRAEQASQE</td>\n",
       "      <td>Gag</td>\n",
       "      <td>3</td>\n",
       "    </tr>\n",
       "  </tbody>\n",
       "</table>\n",
       "</div>"
      ],
      "text/plain": [
       "          cdr3.alpha      species       antigen.epitope antigen.gene  \\\n",
       "53115   CSPQGGSEKLVF  HomoSapiens  FRDYVDRFYKTLRAEQASQE          Gag   \n",
       "22489  CASYGGATNKLIF  HomoSapiens  FRDYVDRFYKTLRAEQASQE          Gag   \n",
       "22488  CANYGGATNKLIF  HomoSapiens  FRDYVDRFYKTLRAEQASQE          Gag   \n",
       "22485   CAFNAAGNKLTF  HomoSapiens  FRDYVDRFYKTLRAEQASQE          Gag   \n",
       "22484   CAFKAAGNKLTF  HomoSapiens  FRDYVDRFYKTLRAEQASQE          Gag   \n",
       "\n",
       "       vdjdb.score  \n",
       "53115            1  \n",
       "22489            1  \n",
       "22488            1  \n",
       "22485            1  \n",
       "22484            3  "
      ]
     },
     "execution_count": 32,
     "metadata": {},
     "output_type": "execute_result"
    }
   ],
   "source": [
    "df_slim.head()"
   ]
  },
  {
   "cell_type": "code",
   "execution_count": 33,
   "metadata": {},
   "outputs": [
    {
     "name": "stderr",
     "output_type": "stream",
     "text": [
      "C:\\Users\\vikra\\anaconda3\\lib\\site-packages\\sklearn\\manifold\\_t_sne.py:780: FutureWarning: The default initialization in TSNE will change from 'random' to 'pca' in 1.2.\n",
      "  warnings.warn(\n",
      "C:\\Users\\vikra\\anaconda3\\lib\\site-packages\\sklearn\\manifold\\_t_sne.py:790: FutureWarning: The default learning rate in TSNE will change from 200.0 to 'auto' in 1.2.\n",
      "  warnings.warn(\n"
     ]
    }
   ],
   "source": [
    "from sklearn.manifold import TSNE\n",
    "tsne = TSNE(n_components=2, random_state=42)\n",
    "tsne_result = tsne.fit_transform(encoded_data)"
   ]
  },
  {
   "cell_type": "code",
   "execution_count": 34,
   "metadata": {},
   "outputs": [
    {
     "data": {
      "text/plain": [
       "(1635, 2)"
      ]
     },
     "execution_count": 34,
     "metadata": {},
     "output_type": "execute_result"
    }
   ],
   "source": [
    "tsne_result.shape"
   ]
  },
  {
   "cell_type": "code",
   "execution_count": 35,
   "metadata": {},
   "outputs": [],
   "source": [
    "df_test = df_slim.copy()\n",
    "df_test['tsne_1'] = tsne_result[:, 0]\n",
    "df_test['tsne_2'] = tsne_result[:, 1]"
   ]
  },
  {
   "cell_type": "code",
   "execution_count": 36,
   "metadata": {},
   "outputs": [],
   "source": [
    "import seaborn as sns\n",
    "#sns.set(rc = {'figure.figsize':(10,10)})\n",
    "import matplotlib.pyplot as plt\n",
    "plt.style.use('ggplot')"
   ]
  },
  {
   "cell_type": "code",
   "execution_count": 37,
   "metadata": {},
   "outputs": [
    {
     "data": {
      "text/plain": [
       "<Figure size 10000x10000 with 0 Axes>"
      ]
     },
     "metadata": {},
     "output_type": "display_data"
    },
    {
     "data": {
      "image/png": "[encoded data removed]",
      "text/plain": [
       "<Figure size 526.875x360 with 1 Axes>"
      ]
     },
     "metadata": {
      "needs_background": "light"
     },
     "output_type": "display_data"
    }
   ],
   "source": [
    "plt.figure(figsize=(20, 20), dpi = 500)\n",
    "\n",
    "#sns.set_style = \"whitegrid\"\n",
    "\n",
    "\n",
    "\n",
    "figure = sns.relplot(data=df_test,x=tsne_result[:, 0],y= tsne_result[:, 1], s= 6, alpha= 0.7, hue='antigen.epitope', palette = 'tab10', legend = \"full\")\n",
    "plt.title('CDR3 Alpha - GIANA - tSNE Coloured by Epitope')\n",
    "plt.xlabel('tSNE 1')\n",
    "plt.ylabel('tSNE 2')\n",
    "plt.savefig('GIANA_alpha2.png', dpi =1000, bbox_inches = 'tight', facecolor = 'white')"
   ]
  },
  {
   "cell_type": "code",
   "execution_count": null,
   "metadata": {},
   "outputs": [],
   "source": []
  }
 ],
 "metadata": {
  "kernelspec": {
   "display_name": "Python 3 (ipykernel)",
   "language": "python",
   "name": "python3"
  },
  "language_info": {
   "codemirror_mode": {
    "name": "ipython",
    "version": 3
   },
   "file_extension": ".py",
   "mimetype": "text/x-python",
   "name": "python",
   "nbconvert_exporter": "python",
   "pygments_lexer": "ipython3",
   "version": "3.9.12"
  }
 },
 "nbformat": 4,
 "nbformat_minor": 2
}
