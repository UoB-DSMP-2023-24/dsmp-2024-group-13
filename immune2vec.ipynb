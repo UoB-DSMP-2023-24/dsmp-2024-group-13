{
 "cells": [
  {
   "cell_type": "markdown",
   "metadata": {},
   "source": [
    "**Immune2vec: Embedding B/T Cell Receptor Sequences Using Natural Language Processing**\n",
    "\n",
    "In NLP, the term “embedding” refers to the representation of symbolic information in text at the word-level, phrase-level, and even sentence-level, in terms of real number vectors.\n",
    "\n",
    "*Following https://www.frontiersin.org/journals/immunology/articles/10.3389/fimmu.2021.680687/full#f2*"
   ]
  },
  {
   "cell_type": "code",
   "execution_count": 36,
   "metadata": {},
   "outputs": [],
   "source": [
    "import pandas as pd\n",
    "import numpy as np\n",
    "import matplotlib.pyplot as plt\n",
    "from gensim.models import Word2Vec\n",
    "from sklearn.model_selection import train_test_split\n",
    "from sklearn.svm import SVC\n",
    "from sklearn.metrics import classification_report, accuracy_score\n",
    "from sklearn.ensemble import RandomForestClassifier\n",
    "from sklearn.model_selection import GridSearchCV, cross_val_score \n",
    "from sklearn.model_selection import StratifiedKFold\n",
    "from sklearn.manifold import TSNE"
   ]
  },
  {
   "cell_type": "markdown",
   "metadata": {},
   "source": [
    "• Data set\n",
    "\n",
    "The first step in creating the model is building an adequate corpus for word2vec training. All scores of over 0, alpha and beta cdr3 sequences between length 12 and 14, species type HomoSapien"
   ]
  },
  {
   "cell_type": "code",
   "execution_count": 17,
   "metadata": {},
   "outputs": [
    {
     "name": "stderr",
     "output_type": "stream",
     "text": [
      "C:\\Users\\Christian Gauthier\\AppData\\Local\\Temp\\ipykernel_32364\\1357857951.py:2: DtypeWarning: Columns (30) have mixed types. Specify dtype option on import or set low_memory=False.\n",
      "  df = pd.read_csv(file_path, delimiter='\\t')\n"
     ]
    },
    {
     "name": "stdout",
     "output_type": "stream",
     "text": [
      "(9300, 6)\n"
     ]
    }
   ],
   "source": [
    "file_path = \"vdjdb_full.txt\"\n",
    "df = pd.read_csv(file_path, delimiter='\\t')\n",
    "df = df.drop_duplicates()\n",
    "df = df[(df['vdjdb.score'] > 0)]\n",
    "df = df[['cdr3.alpha','cdr3.beta','species','antigen.epitope','antigen.gene','vdjdb.score']]\n",
    "print(df.shape)"
   ]
  },
  {
   "cell_type": "code",
   "execution_count": 18,
   "metadata": {},
   "outputs": [],
   "source": [
    "df['cdr3.alpha.length'] = df['cdr3.alpha'].apply(lambda x: len(x) if pd.notnull(x) and not isinstance(x, float) else 0)\n",
    "df = df[(df['cdr3.alpha.length'] >= 12) & (df['cdr3.alpha.length'] <= 14)]\n",
    "\n",
    "df['cdr3.beta.length'] = df['cdr3.beta'].apply(lambda x: len(x) if pd.notnull(x) and not isinstance(x, float) else 0)\n",
    "df = df[(df['cdr3.beta.length'] >= 12) & (df['cdr3.beta.length'] <= 14)]\n",
    "\n",
    "#df = df[df['species'] == 'HomoSapiens']\n",
    "\n",
    "df['cdr3combined'] = df['cdr3.alpha'].fillna('') + df['cdr3.beta'].fillna('')\n",
    "\n",
    "df = df.reset_index(drop=True)"
   ]
  },
  {
   "cell_type": "code",
   "execution_count": 19,
   "metadata": {},
   "outputs": [
    {
     "name": "stdout",
     "output_type": "stream",
     "text": [
      "cdr3.alpha                         CAYRPPGTYKYIF\n",
      "cdr3.beta                         CASSALASLNEQFF\n",
      "species                              HomoSapiens\n",
      "antigen.epitope                         FLKEKGGL\n",
      "antigen.gene                                 Nef\n",
      "vdjdb.score                                    2\n",
      "cdr3.alpha.length                             13\n",
      "cdr3.beta.length                              14\n",
      "cdr3combined         CAYRPPGTYKYIFCASSALASLNEQFF\n",
      "Name: 0, dtype: object\n",
      "(953, 9)\n"
     ]
    }
   ],
   "source": [
    "print(df.iloc[0])\n",
    "print(df.shape)"
   ]
  },
  {
   "cell_type": "markdown",
   "metadata": {},
   "source": [
    "**Split all sequences to non-overlapping n-grams**\n",
    "\n",
    "cdr3 sequences are already in amino acid format so dont need to be translated, next step is to process them into a non-overlapping n-gram method "
   ]
  },
  {
   "cell_type": "code",
   "execution_count": 20,
   "metadata": {},
   "outputs": [],
   "source": [
    "def split_into_ngrams(sequence, n):\n",
    "    return [sequence[i:i+n] for i in range(0, len(sequence), n)]\n",
    "\n",
    "n = 3  #as per paper\n",
    "df['cdr3.alpha.ngrams'] = df['cdr3.alpha'].apply(lambda x: split_into_ngrams(x, n) if pd.notnull(x) else x)\n",
    "df['cdr3.beta.ngrams'] = df['cdr3.beta'].apply(lambda x: split_into_ngrams(x, n) if pd.notnull(x) else x)"
   ]
  },
  {
   "cell_type": "code",
   "execution_count": 21,
   "metadata": {},
   "outputs": [],
   "source": [
    "combined_ngrams = df['cdr3.alpha.ngrams'] + df['cdr3.beta.ngrams']"
   ]
  },
  {
   "cell_type": "code",
   "execution_count": 22,
   "metadata": {},
   "outputs": [
    {
     "name": "stdout",
     "output_type": "stream",
     "text": [
      "0       [CAY, RPP, GTY, KYI, F, CAS, SAL, ASL, NEQ, FF]\n",
      "1       [CAG, PTG, GSY, IPT, F, CAS, SVA, LAT, GEQ, YF]\n",
      "2      [CVV, SAI, TND, YKL, SF, CAS, SLI, EGG, TEA, FF]\n",
      "3       [CAV, QPG, AGG, FKT, IF, CAS, SLI, EGL, EQY, F]\n",
      "4        [CAS, QSN, TGN, QFY, F, CAS, SLI, EQQ, PQH, F]\n",
      "                             ...                       \n",
      "948    [CAL, SEA, GAN, SKL, TF, CAS, SLL, AGG, DTQ, YF]\n",
      "949    [CAG, QLD, SGT, YKY, IF, CAS, SPA, GWD, TEA, FF]\n",
      "950    [CLV, GGD, NQG, GKL, IF, CAS, SQR, QGG, NTI, YF]\n",
      "951        [CAV, NAR, NAG, NML, TF, CAS, SFD, GET, QYF]\n",
      "952      [CAV, EGG, SNY, KLT, F, CSV, GAG, GSG, ELF, F]\n",
      "Length: 953, dtype: object\n"
     ]
    }
   ],
   "source": [
    "print(combined_ngrams)"
   ]
  },
  {
   "cell_type": "code",
   "execution_count": 23,
   "metadata": {},
   "outputs": [
    {
     "name": "stdout",
     "output_type": "stream",
     "text": [
      "cdr3.alpha                         CAYRPPGTYKYIF\n",
      "cdr3.beta                         CASSALASLNEQFF\n",
      "species                              HomoSapiens\n",
      "antigen.epitope                         FLKEKGGL\n",
      "antigen.gene                                 Nef\n",
      "vdjdb.score                                    2\n",
      "cdr3.alpha.length                             13\n",
      "cdr3.beta.length                              14\n",
      "cdr3combined         CAYRPPGTYKYIFCASSALASLNEQFF\n",
      "cdr3.alpha.ngrams        [CAY, RPP, GTY, KYI, F]\n",
      "cdr3.beta.ngrams        [CAS, SAL, ASL, NEQ, FF]\n",
      "Name: 0, dtype: object\n"
     ]
    }
   ],
   "source": [
    "print(df.iloc[0])"
   ]
  },
  {
   "cell_type": "markdown",
   "metadata": {},
   "source": [
    "The skip-gram model works by predicting the context (surrounding words) given a target word."
   ]
  },
  {
   "cell_type": "code",
   "execution_count": 24,
   "metadata": {},
   "outputs": [],
   "source": [
    "from gensim.models import Word2Vec\n",
    "\n",
    "#combine the sequences\n",
    "sequences = combined_ngrams.tolist()\n",
    "\n",
    "model = Word2Vec(sequences, \n",
    "                 min_count=2,  #ignore words that appear fewer than twice\n",
    "                 window=28,  #context window of 28 to fit max length of cdr3\n",
    "                 vector_size=100,  #embed into 100-dimensional vectors\n",
    "                 sg=1)  #skip-gram algorithm\n",
    "\n",
    "model.save(\"word2vec.model\")"
   ]
  },
  {
   "cell_type": "code",
   "execution_count": 25,
   "metadata": {},
   "outputs": [
    {
     "name": "stdout",
     "output_type": "stream",
     "text": [
      "['CAY', 'RPP', 'GTY', 'KYI', 'F', 'CAS', 'SAL', 'ASL', 'NEQ', 'FF']\n"
     ]
    }
   ],
   "source": [
    "print(sequences[0])"
   ]
  },
  {
   "cell_type": "code",
   "execution_count": 26,
   "metadata": {},
   "outputs": [
    {
     "name": "stdout",
     "output_type": "stream",
     "text": [
      "10\n"
     ]
    }
   ],
   "source": [
    "print(len((max(sequences, key=lambda x: len(x)))))"
   ]
  },
  {
   "cell_type": "code",
   "execution_count": 27,
   "metadata": {},
   "outputs": [],
   "source": [
    "#model = Word2Vec.load(\"word2vec.model\")\n",
    "\n",
    "#convert sequence to vector\n",
    "def sequence_to_vec(ngrams, model):\n",
    "    #convert n-gram to a vector and compute the weighted average\n",
    "    vectors = [model.wv[ngram] for ngram in ngrams if ngram in model.wv]\n",
    "    if not vectors:\n",
    "        return np.zeros(model.vector_size)\n",
    "    weights = [1/len(vectors)] * len(vectors)  # Equal weights for all vectors\n",
    "    return np.average(vectors, axis=0, weights=weights)\n",
    "\n",
    "vectors = [sequence_to_vec(seq, model) for seq in sequences]\n",
    "\n",
    "df_vectors = pd.DataFrame({\n",
    "    'sequence': sequences,\n",
    "    'vector': vectors\n",
    "})"
   ]
  },
  {
   "cell_type": "code",
   "execution_count": 28,
   "metadata": {},
   "outputs": [
    {
     "name": "stdout",
     "output_type": "stream",
     "text": [
      "[-0.12685099  0.12899996  0.11191607  0.19846121 -0.09826338 -0.15764354\n",
      "  0.15555612  0.24465382 -0.17605446 -0.11227882  0.0021705  -0.14480617\n",
      " -0.03316522 -0.09812838  0.05690404  0.0916096   0.04467372 -0.14005767\n",
      " -0.13087349 -0.11531224 -0.03382227  0.07930873 -0.13260061  0.01195446\n",
      " -0.09227913  0.09402313 -0.13342628 -0.03194001 -0.05239379 -0.01619793\n",
      "  0.08666613 -0.01462555  0.08991596 -0.20626042 -0.07393129  0.1254587\n",
      "  0.10476274 -0.22904724 -0.06714902 -0.29828889  0.1014654  -0.09164832\n",
      " -0.15599203 -0.10899286  0.14373516  0.03034712 -0.02598123  0.1557133\n",
      "  0.0576121   0.02357686  0.11918806 -0.21912658 -0.0917151  -0.06235407\n",
      " -0.10329905 -0.08490324 -0.02066989 -0.03185835 -0.04963883  0.14279272\n",
      "  0.01453089  0.1611583   0.0250521  -0.1016586   0.02386231  0.12129434\n",
      "  0.05592142  0.1990246  -0.28770311  0.09989914 -0.10950955 -0.00758245\n",
      "  0.08581661 -0.04885312  0.24943909 -0.00259972  0.0173916  -0.15109904\n",
      " -0.06477168 -0.08830216 -0.11762117 -0.0538229  -0.12552093  0.26435328\n",
      " -0.14939426 -0.1015819   0.1320554   0.05245517  0.05241354 -0.11466817\n",
      "  0.09103336  0.06138573  0.01664907  0.0893592   0.30806667  0.15186056\n",
      " -0.07913948 -0.13037659 -0.04905317  0.1040346 ]\n",
      "sequence      [CAY, RPP, GTY, KYI, F, CAS, SAL, ASL, NEQ, FF]\n",
      "vector      [-0.12685098830196592, 0.12899995760785207, 0....\n",
      "Name: 0, dtype: object\n",
      "(953, 2)\n"
     ]
    }
   ],
   "source": [
    "print(vectors[0])\n",
    "print(df_vectors.iloc[0])\n",
    "print(df_vectors.shape)"
   ]
  },
  {
   "cell_type": "code",
   "execution_count": 29,
   "metadata": {},
   "outputs": [
    {
     "name": "stdout",
     "output_type": "stream",
     "text": [
      "                          precision    recall  f1-score   support\n",
      "\n",
      "               AAGIGILTV       0.00      0.00      0.00         1\n",
      "          ADGLAYFRSSFKGG       0.00      0.00      0.00         1\n",
      "               ALSPVIPHI       0.00      0.00      0.00         1\n",
      "               ALYGFVPVL       0.00      0.00      0.00         1\n",
      "           APQPELPYPQPGS       0.00      0.00      0.00         1\n",
      "           APRGPHGGAASGL       0.00      0.00      0.00         1\n",
      "               ASNENMETM       1.00      0.25      0.40         8\n",
      "               CINGVCWTV       0.00      0.00      0.00         1\n",
      "               CVNGSCFTV       0.00      0.00      0.00         1\n",
      "            DATYQRTRALVR       0.00      0.00      0.00         1\n",
      "               EFTVSGNIL       0.00      0.00      0.00         1\n",
      "             EPLPQGQLTAY       0.00      0.00      0.00         2\n",
      "           FEAQKAKANKAVD       0.00      0.00      0.00         1\n",
      "          FEAQKAKANKAVDG       0.00      0.00      0.00         1\n",
      "               FLIYLDVSV       0.00      0.00      0.00         1\n",
      "       GAMKRHGLDNYRGYSLG       0.00      0.00      0.00         1\n",
      "               GILEFVFTL       0.00      0.00      0.00         1\n",
      "               GILGFVFTL       0.76      0.70      0.73        27\n",
      "               GILGLVFTL       0.00      0.00      0.00         1\n",
      "               GLCTLVAML       0.00      0.00      0.00         3\n",
      "               GLMWLSYFV       0.00      0.00      0.00         1\n",
      "               GPRLGVRAT       0.00      0.00      0.00         1\n",
      "              GTSGSPIINR       0.00      0.00      0.00         1\n",
      "              GTSGSPIVNR       0.00      0.00      0.00         2\n",
      "         GYNSYSVSNSEKHIM       0.00      0.00      0.00         1\n",
      "               HGIRNASFI       0.00      0.00      0.00         4\n",
      "              KLSALGINAV       0.00      0.00      0.00         1\n",
      "              KLVALGINAV       0.00      0.00      0.00         2\n",
      "               KPRQKRTAT       0.00      0.00      0.00         1\n",
      "           LPEGLPQGQLTAY       0.00      0.00      0.00         1\n",
      "           LPEPLGQGQLTAY       0.00      0.00      0.00         1\n",
      "           LPEPLPQGQLTAY       0.00      0.00      0.00         2\n",
      "        LQPFPQPELPYGSGGS       0.00      0.00      0.00         1\n",
      "               LSLRNPILV       0.00      0.00      0.00         9\n",
      "         MHQKRTAMFQDPQER       0.00      0.00      0.00         1\n",
      "         MHVSFVMAYPEMLAA       0.00      0.00      0.00         1\n",
      "MTEYKLVVVGAVGVGKSALTIQLI       0.00      0.00      0.00         1\n",
      "         NFSQILPDPSKPSKR       0.00      0.00      0.00         1\n",
      "               NLVPMVATV       0.13      0.89      0.22        18\n",
      "               PFPQPELPY       0.00      0.00      0.00         1\n",
      "         PGVLLKEFTVSGNIL       0.00      0.00      0.00         1\n",
      "         PPQIAANRSQLISLV       0.00      0.00      0.00         1\n",
      "             PQPELPYPQPE       0.00      0.00      0.00         1\n",
      "               PTDNYITTY       0.00      0.00      0.00         1\n",
      "            QLQPFPQPELPY       0.00      0.00      0.00         4\n",
      "               QPAEGGFQL       0.00      0.00      0.00         1\n",
      "               QYIKWPWYI       0.00      0.00      0.00         6\n",
      "          RLLMLFAKDVVSRN       0.00      0.00      0.00         1\n",
      "               RLPGVLPRA       0.00      0.00      0.00         1\n",
      "               RMFPNAPYL       0.00      0.00      0.00         1\n",
      "               RPRGEVRFL       0.00      0.00      0.00         4\n",
      "              SMLGIGIVPV       0.00      0.00      0.00         1\n",
      "               SPAPRPLDL       0.00      0.00      0.00         1\n",
      "               SPRWYFYYL       0.00      0.00      0.00         1\n",
      "            SRGGASQYRPSQ       0.00      0.00      0.00         1\n",
      "              SSLENFRAYV       0.00      0.00      0.00         4\n",
      "                SSPPMFRV       0.00      0.00      0.00         3\n",
      "               SSYRRPVGI       0.85      0.85      0.85        39\n",
      "             SVCAGILSYGV       0.00      0.00      0.00         1\n",
      "                TVYGFCLL       0.00      0.00      0.00         6\n",
      "                VQIISCQY       0.00      0.00      0.00         1\n",
      "               VYIGDPAQL       0.00      0.00      0.00         1\n",
      "                WMRLLPLL       0.00      0.00      0.00         1\n",
      "               YLQPRTFLL       0.00      0.00      0.00         2\n",
      "\n",
      "                accuracy                           0.37       191\n",
      "               macro avg       0.04      0.04      0.03       191\n",
      "            weighted avg       0.33      0.37      0.31       191\n",
      "\n",
      "0.36649214659685864\n"
     ]
    },
    {
     "name": "stderr",
     "output_type": "stream",
     "text": [
      "c:\\Users\\Christian Gauthier\\miniconda3\\envs\\tf\\lib\\site-packages\\sklearn\\metrics\\_classification.py:1334: UndefinedMetricWarning: Precision and F-score are ill-defined and being set to 0.0 in labels with no predicted samples. Use `zero_division` parameter to control this behavior.\n",
      "  _warn_prf(average, modifier, msg_start, len(result))\n",
      "c:\\Users\\Christian Gauthier\\miniconda3\\envs\\tf\\lib\\site-packages\\sklearn\\metrics\\_classification.py:1334: UndefinedMetricWarning: Precision and F-score are ill-defined and being set to 0.0 in labels with no predicted samples. Use `zero_division` parameter to control this behavior.\n",
      "  _warn_prf(average, modifier, msg_start, len(result))\n",
      "c:\\Users\\Christian Gauthier\\miniconda3\\envs\\tf\\lib\\site-packages\\sklearn\\metrics\\_classification.py:1334: UndefinedMetricWarning: Precision and F-score are ill-defined and being set to 0.0 in labels with no predicted samples. Use `zero_division` parameter to control this behavior.\n",
      "  _warn_prf(average, modifier, msg_start, len(result))\n"
     ]
    }
   ],
   "source": [
    "X = np.stack(df_vectors['vector'].values)  \n",
    "y = df['antigen.epitope'].values  \n",
    "\n",
    "# Split the data into a training set and a test set\n",
    "X_train, X_test, y_train, y_test = train_test_split(X, y, test_size=0.2, random_state=111)\n",
    "\n",
    "# Train a SVM classifier\n",
    "clf = SVC()\n",
    "clf.fit(X_train, y_train)\n",
    "\n",
    "# Predict the labels for the test set\n",
    "y_pred = clf.predict(X_test)\n",
    "\n",
    "# Print a classification report\n",
    "print(classification_report(y_test, y_pred))\n",
    "\n",
    "# Print the accuracy\n",
    "print(clf.score(X_test, y_test))"
   ]
  },
  {
   "cell_type": "code",
   "execution_count": 30,
   "metadata": {},
   "outputs": [
    {
     "name": "stderr",
     "output_type": "stream",
     "text": [
      "c:\\Users\\Christian Gauthier\\miniconda3\\envs\\tf\\lib\\site-packages\\sklearn\\model_selection\\_split.py:684: UserWarning: The least populated class in y has only 1 members, which is less than n_splits=5.\n",
      "  warnings.warn(\n"
     ]
    },
    {
     "name": "stdout",
     "output_type": "stream",
     "text": [
      "Best Parameters: {'max_depth': None, 'max_features': 'sqrt', 'min_samples_leaf': 1, 'min_samples_split': 2, 'n_estimators': 200}\n",
      "Best Score: 0.5722480220158238\n",
      "Classification Report:\n",
      "                           precision    recall  f1-score   support\n",
      "\n",
      "               AAGIGILTV       0.50      1.00      0.67         1\n",
      "          ADGLAYFRSSFKGG       0.00      0.00      0.00         1\n",
      "               ALSPVIPHI       0.00      0.00      0.00         1\n",
      "               ALYGFVPVL       0.00      0.00      0.00         1\n",
      "           ANGVAFFLTPFKA       0.00      0.00      0.00         0\n",
      "           APQPELPYPQPGS       0.00      0.00      0.00         1\n",
      "           APRGPHGGAASGL       0.00      0.00      0.00         1\n",
      "               ASNENMETM       0.33      0.75      0.46         8\n",
      "               CINGVCWTV       0.00      0.00      0.00         1\n",
      "               CVNGSCFTV       0.00      0.00      0.00         1\n",
      "            DATYQRTRALVR       0.00      0.00      0.00         1\n",
      "               EFTVSGNIL       0.00      0.00      0.00         1\n",
      "             EPLPQGQLTAY       1.00      1.00      1.00         2\n",
      "           FEAQKAKANKAVD       1.00      1.00      1.00         1\n",
      "          FEAQKAKANKAVDG       0.00      0.00      0.00         1\n",
      "               FLIYLDVSV       0.00      0.00      0.00         1\n",
      "       GAMKRHGLDNYRGYSLG       0.00      0.00      0.00         1\n",
      "               GILEFVFTL       0.00      0.00      0.00         1\n",
      "               GILGFVFTL       0.62      0.85      0.72        27\n",
      "               GILGLVFTL       0.00      0.00      0.00         1\n",
      "               GLCTLVAML       1.00      0.33      0.50         3\n",
      "               GLMWLSYFV       0.00      0.00      0.00         1\n",
      "               GPRLGVRAT       0.00      0.00      0.00         1\n",
      "              GTSGSPIINR       0.00      0.00      0.00         1\n",
      "              GTSGSPIVNR       0.00      0.00      0.00         2\n",
      "         GYNSYSVSNSEKHIM       0.00      0.00      0.00         1\n",
      "               HGIRNASFI       0.33      0.75      0.46         4\n",
      "              KLSALGINAV       0.00      0.00      0.00         1\n",
      "              KLVALGINAV       0.00      0.00      0.00         2\n",
      "               KPRQKRTAT       0.00      0.00      0.00         1\n",
      "           LLEFYLAMPFATP       0.00      0.00      0.00         0\n",
      "           LPEGLPQGQLTAY       0.00      0.00      0.00         1\n",
      "           LPEPLGQGQLTAY       0.00      0.00      0.00         1\n",
      "           LPEPLPQGQLTAY       0.50      1.00      0.67         2\n",
      "        LQPFPQPELPYGSGGS       1.00      1.00      1.00         1\n",
      "               LSLRNPILV       0.50      0.33      0.40         9\n",
      "         MHQKRTAMFQDPQER       0.00      0.00      0.00         1\n",
      "         MHVSFVMAYPEMLAA       0.00      0.00      0.00         1\n",
      "MTEYKLVVVGAVGVGKSALTIQLI       0.00      0.00      0.00         1\n",
      "         NFSQILPDPSKPSKR       0.00      0.00      0.00         1\n",
      "               NLVPMVATV       0.33      0.72      0.46        18\n",
      "          NPVVHFFKNIVTPR       0.00      0.00      0.00         0\n",
      "               PFPQPELPY       0.00      0.00      0.00         1\n",
      "         PGVLLKEFTVSGNIL       0.00      0.00      0.00         1\n",
      "         PPQIAANRSQLISLV       0.00      0.00      0.00         1\n",
      "             PQPELPYPQPE       0.00      0.00      0.00         1\n",
      "               PTDNYITTY       0.00      0.00      0.00         1\n",
      "            QLQPFPQPELPY       0.00      0.00      0.00         4\n",
      "               QPAEGGFQL       0.00      0.00      0.00         1\n",
      "               QYIKWPWYI       0.00      0.00      0.00         6\n",
      "          RLLMLFAKDVVSRN       0.00      0.00      0.00         1\n",
      "               RLPGVLPRA       0.00      0.00      0.00         1\n",
      "               RMFPNAPYL       0.00      0.00      0.00         1\n",
      "               RPRGEVRFL       0.75      0.75      0.75         4\n",
      "              SMLGIGIVPV       0.00      0.00      0.00         1\n",
      "               SPAPRPLDL       0.00      0.00      0.00         1\n",
      "               SPLDSLWWI       0.00      0.00      0.00         0\n",
      "               SPRWYFYYL       0.00      0.00      0.00         1\n",
      "            SRGGASQYRPSQ       0.00      0.00      0.00         1\n",
      "              SSLENFRAYV       0.40      0.50      0.44         4\n",
      "                SSPPMFRV       0.00      0.00      0.00         3\n",
      "               SSYRRPVGI       0.89      0.79      0.84        39\n",
      "             SVCAGILSYGV       0.00      0.00      0.00         1\n",
      "                TVYGFCLL       0.18      0.50      0.26         6\n",
      "                VQIISCQY       0.00      0.00      0.00         1\n",
      "               VYIGDPAQL       0.00      0.00      0.00         1\n",
      "                WMRLLPLL       0.00      0.00      0.00         1\n",
      "               YLQPRTFLL       0.00      0.00      0.00         2\n",
      "\n",
      "                accuracy                           0.50       191\n",
      "               macro avg       0.14      0.17      0.14       191\n",
      "            weighted avg       0.42      0.50      0.44       191\n",
      "\n",
      "Accuracy: 0.4973821989528796\n"
     ]
    },
    {
     "name": "stderr",
     "output_type": "stream",
     "text": [
      "c:\\Users\\Christian Gauthier\\miniconda3\\envs\\tf\\lib\\site-packages\\sklearn\\metrics\\_classification.py:1334: UndefinedMetricWarning: Precision and F-score are ill-defined and being set to 0.0 in labels with no predicted samples. Use `zero_division` parameter to control this behavior.\n",
      "  _warn_prf(average, modifier, msg_start, len(result))\n",
      "c:\\Users\\Christian Gauthier\\miniconda3\\envs\\tf\\lib\\site-packages\\sklearn\\metrics\\_classification.py:1334: UndefinedMetricWarning: Recall and F-score are ill-defined and being set to 0.0 in labels with no true samples. Use `zero_division` parameter to control this behavior.\n",
      "  _warn_prf(average, modifier, msg_start, len(result))\n",
      "c:\\Users\\Christian Gauthier\\miniconda3\\envs\\tf\\lib\\site-packages\\sklearn\\metrics\\_classification.py:1334: UndefinedMetricWarning: Precision and F-score are ill-defined and being set to 0.0 in labels with no predicted samples. Use `zero_division` parameter to control this behavior.\n",
      "  _warn_prf(average, modifier, msg_start, len(result))\n",
      "c:\\Users\\Christian Gauthier\\miniconda3\\envs\\tf\\lib\\site-packages\\sklearn\\metrics\\_classification.py:1334: UndefinedMetricWarning: Recall and F-score are ill-defined and being set to 0.0 in labels with no true samples. Use `zero_division` parameter to control this behavior.\n",
      "  _warn_prf(average, modifier, msg_start, len(result))\n",
      "c:\\Users\\Christian Gauthier\\miniconda3\\envs\\tf\\lib\\site-packages\\sklearn\\metrics\\_classification.py:1334: UndefinedMetricWarning: Precision and F-score are ill-defined and being set to 0.0 in labels with no predicted samples. Use `zero_division` parameter to control this behavior.\n",
      "  _warn_prf(average, modifier, msg_start, len(result))\n",
      "c:\\Users\\Christian Gauthier\\miniconda3\\envs\\tf\\lib\\site-packages\\sklearn\\metrics\\_classification.py:1334: UndefinedMetricWarning: Recall and F-score are ill-defined and being set to 0.0 in labels with no true samples. Use `zero_division` parameter to control this behavior.\n",
      "  _warn_prf(average, modifier, msg_start, len(result))\n"
     ]
    }
   ],
   "source": [
    "param_grid = {\n",
    "    'n_estimators': [5, 10, 25, 100, 200],\n",
    "    'max_depth': [None,2,5,10, 15, 20],\n",
    "    'min_samples_split': [2, 5, 10],\n",
    "    'min_samples_leaf': [1, 2, 4],\n",
    "    'max_features': ['sqrt', 'log2']\n",
    "}\n",
    "\n",
    "\n",
    "rf = RandomForestClassifier()\n",
    "stratified_kfold = StratifiedKFold(n_splits=5)\n",
    "\n",
    "#stratified k-fold cross-validation \n",
    "#aims to ensure that each fold is representative of all strata of the data \n",
    "grid_search = GridSearchCV(estimator=rf, param_grid=param_grid, cv=stratified_kfold)\n",
    "grid_search.fit(X_train, y_train)\n",
    "\n",
    "\n",
    "best_params = grid_search.best_params_\n",
    "best_score = grid_search.best_score_\n",
    "\n",
    "\n",
    "rf_best = RandomForestClassifier(**best_params)\n",
    "rf_best.fit(X_train, y_train)\n",
    "\n",
    "\n",
    "y_pred = rf_best.predict(X_test)\n",
    "classification_rep = classification_report(y_test, y_pred)\n",
    "accuracy = accuracy_score(y_test, y_pred)\n",
    "\n",
    "print(\"Best Parameters:\", best_params)\n",
    "print(\"Best Score:\", best_score)\n",
    "print(\"Classification Report:\\n\", classification_rep)\n",
    "print(\"Accuracy:\", accuracy)\n"
   ]
  },
  {
   "cell_type": "code",
   "execution_count": 31,
   "metadata": {},
   "outputs": [],
   "source": [
    "from sklearn.model_selection import KFold\n",
    "from sklearn.ensemble import BaggingClassifier\n",
    "from sklearn.metrics import accuracy_score\n",
    "\n",
    "kf = KFold(n_splits=20, shuffle=True, random_state=111)\n",
    "\n",
    "accuracies = []\n",
    "base_model = rf_best\n",
    "\n",
    "\n",
    "model = BaggingClassifier(base_estimator=base_model, n_estimators=10, random_state=111) #fits the random forest on n different subsets of the data\n",
    "\n",
    "\n",
    "for train_index, test_index in kf.split(X):\n",
    "    X_train, X_test = X[train_index], X[test_index]\n",
    "    y_train, y_test = y[train_index], y[test_index]\n",
    "    \n",
    "    model.fit(X_train, y_train)\n",
    "    y_pred = model.predict(X_test)\n",
    "    \n",
    "    accuracy = accuracy_score(y_test, y_pred)\n",
    "    accuracies.append(accuracy)\n",
    "\n",
    "average_accuracy = sum(accuracies) / len(accuracies)"
   ]
  },
  {
   "cell_type": "code",
   "execution_count": 32,
   "metadata": {},
   "outputs": [
    {
     "name": "stdout",
     "output_type": "stream",
     "text": [
      "Average Accuracy: 0.5519060283687944\n"
     ]
    }
   ],
   "source": [
    "print(\"Average Accuracy:\", average_accuracy)"
   ]
  },
  {
   "cell_type": "markdown",
   "metadata": {},
   "source": [
    "kfold splits: 20; avg acc = 0.4920634920634921; n_estimators = 10\n",
    "\n",
    "kfold splits: 30; avg acc = 0.49551656920077974; n_estimators = 10\n",
    "\n",
    "kfold splits: 30; avg acc = 0.4956140350877193; n_estimators = 20\n",
    "\n",
    "**Rerun using all species not just homosapien on\n",
    "kfold splits: 20; ; n_estimators = 10 avg acc = 0.5519060283687944"
   ]
  },
  {
   "cell_type": "markdown",
   "metadata": {},
   "source": [
    "**Attempt to cluster on the vectorized cdr3s with dbscan**"
   ]
  },
  {
   "cell_type": "code",
   "execution_count": 46,
   "metadata": {},
   "outputs": [
    {
     "name": "stderr",
     "output_type": "stream",
     "text": [
      "c:\\Users\\Christian Gauthier\\miniconda3\\envs\\tf\\lib\\site-packages\\sklearn\\manifold\\_t_sne.py:800: FutureWarning: The default initialization in TSNE will change from 'random' to 'pca' in 1.2.\n",
      "  warnings.warn(\n",
      "c:\\Users\\Christian Gauthier\\miniconda3\\envs\\tf\\lib\\site-packages\\sklearn\\manifold\\_t_sne.py:810: FutureWarning: The default learning rate in TSNE will change from 200.0 to 'auto' in 1.2.\n",
      "  warnings.warn(\n"
     ]
    },
    {
     "data": {
      "image/png": "[encoded data removed]",
      "text/plain": [
       "<Figure size 1000x800 with 1 Axes>"
      ]
     },
     "metadata": {},
     "output_type": "display_data"
    }
   ],
   "source": [
    "from sklearn.cluster import DBSCAN\n",
    "\n",
    "\n",
    "tsne = TSNE(n_components=2, random_state=111)\n",
    "vectors_array = np.array(vectors)\n",
    "tsne_tcr3_vec = tsne.fit_transform(vectors_array)\n",
    "\n",
    "dbscan = DBSCAN(eps=0.1, min_samples=10)  \n",
    "cluster_labels = dbscan.fit_predict(tsne_tcr3_vec)\n",
    "unique_clusters = np.unique(cluster_labels)\n",
    "\n",
    "plt.figure(figsize=(10, 8))\n",
    "for cluster in unique_clusters:\n",
    "    cluster_indices = np.where(cluster_labels == cluster)\n",
    "    plt.scatter(tsne_tcr3_vec[cluster_indices, 0], tsne_tcr3_vec[cluster_indices, 1], label=f'Cluster {cluster}', s=5)\n",
    "\n",
    "plt.title('Clusters of Vectorized CDR3 Sequences')\n",
    "plt.xlabel('t-SNE Dimension 1')\n",
    "plt.ylabel('t-SNE Dimension 2')\n",
    "plt.legend(title='Cluster', bbox_to_anchor=(1.05, 1), loc='upper left')\n",
    "plt.show()"
   ]
  }
 ],
 "metadata": {
  "kernelspec": {
   "display_name": "tf",
   "language": "python",
   "name": "python3"
  },
  "language_info": {
   "codemirror_mode": {
    "name": "ipython",
    "version": 3
   },
   "file_extension": ".py",
   "mimetype": "text/x-python",
   "name": "python",
   "nbconvert_exporter": "python",
   "pygments_lexer": "ipython3",
   "version": "3.9.15"
  }
 },
 "nbformat": 4,
 "nbformat_minor": 2
}
