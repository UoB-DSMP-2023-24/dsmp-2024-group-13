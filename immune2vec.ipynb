{
 "cells": [
  {
   "cell_type": "markdown",
   "metadata": {},
   "source": [
    "**Immune2vec: Embedding B/T Cell Receptor Sequences Using Natural Language Processing**\n",
    "\n",
    "In NLP, the term “embedding” refers to the representation of symbolic information in text at the word-level, phrase-level, and even sentence-level, in terms of real number vectors.\n",
    "\n",
    "*Following https://www.frontiersin.org/journals/immunology/articles/10.3389/fimmu.2021.680687/full#f2*"
   ]
  },
  {
   "cell_type": "code",
   "execution_count": 70,
   "metadata": {},
   "outputs": [],
   "source": [
    "import pandas as pd\n",
    "import numpy as np\n",
    "from gensim.models import Word2Vec\n",
    "from sklearn.model_selection import train_test_split\n",
    "from sklearn.svm import SVC\n",
    "from sklearn.metrics import classification_report, accuracy_score\n",
    "from sklearn.ensemble import RandomForestClassifier\n",
    "from sklearn.model_selection import GridSearchCV, cross_val_score \n",
    "from sklearn.model_selection import StratifiedKFold\n"
   ]
  },
  {
   "cell_type": "markdown",
   "metadata": {},
   "source": [
    "• Data set\n",
    "\n",
    "The first step in creating the model is building an adequate corpus for word2vec training. All scores of over 0, alpha and beta cdr3 sequences between length 12 and 14, species type HomoSapien"
   ]
  },
  {
   "cell_type": "code",
   "execution_count": 20,
   "metadata": {},
   "outputs": [
    {
     "name": "stderr",
     "output_type": "stream",
     "text": [
      "C:\\Users\\Christian Gauthier\\AppData\\Local\\Temp\\ipykernel_21636\\1357857951.py:2: DtypeWarning: Columns (30) have mixed types. Specify dtype option on import or set low_memory=False.\n",
      "  df = pd.read_csv(file_path, delimiter='\\t')\n"
     ]
    },
    {
     "name": "stdout",
     "output_type": "stream",
     "text": [
      "(9300, 6)\n"
     ]
    }
   ],
   "source": [
    "file_path = \"vdjdb_full.txt\"\n",
    "df = pd.read_csv(file_path, delimiter='\\t')\n",
    "df = df.drop_duplicates()\n",
    "df = df[(df['vdjdb.score'] > 0)]\n",
    "df = df[['cdr3.alpha','cdr3.beta','species','antigen.epitope','antigen.gene','vdjdb.score']]\n",
    "print(df.shape)"
   ]
  },
  {
   "cell_type": "code",
   "execution_count": 21,
   "metadata": {},
   "outputs": [],
   "source": [
    "df['cdr3.alpha.length'] = df['cdr3.alpha'].apply(lambda x: len(x) if pd.notnull(x) and not isinstance(x, float) else 0)\n",
    "df = df[(df['cdr3.alpha.length'] >= 12) & (df['cdr3.alpha.length'] <= 14)]\n",
    "\n",
    "df['cdr3.beta.length'] = df['cdr3.beta'].apply(lambda x: len(x) if pd.notnull(x) and not isinstance(x, float) else 0)\n",
    "df = df[(df['cdr3.beta.length'] >= 12) & (df['cdr3.beta.length'] <= 14)]\n",
    "\n",
    "df = df[df['species'] == 'HomoSapiens']\n",
    "\n",
    "df['cdr3combined'] = df['cdr3.alpha'].fillna('') + df['cdr3.beta'].fillna('')\n",
    "\n",
    "df = df.reset_index(drop=True)"
   ]
  },
  {
   "cell_type": "code",
   "execution_count": 22,
   "metadata": {},
   "outputs": [
    {
     "name": "stdout",
     "output_type": "stream",
     "text": [
      "cdr3.alpha                         CAYRPPGTYKYIF\n",
      "cdr3.beta                         CASSALASLNEQFF\n",
      "species                              HomoSapiens\n",
      "antigen.epitope                         FLKEKGGL\n",
      "antigen.gene                                 Nef\n",
      "vdjdb.score                                    2\n",
      "cdr3.alpha.length                             13\n",
      "cdr3.beta.length                              14\n",
      "cdr3combined         CAYRPPGTYKYIFCASSALASLNEQFF\n",
      "Name: 0, dtype: object\n",
      "(555, 9)\n"
     ]
    }
   ],
   "source": [
    "print(df.iloc[0])\n",
    "print(df.shape)"
   ]
  },
  {
   "cell_type": "markdown",
   "metadata": {},
   "source": [
    "**Split all sequences to non-overlapping n-grams**\n",
    "\n",
    "cdr3 sequences are already in amino acid format so dont need to be translated, next step is to process them into a non-overlapping n-gram method "
   ]
  },
  {
   "cell_type": "code",
   "execution_count": 24,
   "metadata": {},
   "outputs": [],
   "source": [
    "def split_into_ngrams(sequence, n):\n",
    "    return [sequence[i:i+n] for i in range(0, len(sequence), n)]\n",
    "\n",
    "n = 3  #as per paper\n",
    "df['cdr3.alpha.ngrams'] = df['cdr3.alpha'].apply(lambda x: split_into_ngrams(x, n) if pd.notnull(x) else x)\n",
    "df['cdr3.beta.ngrams'] = df['cdr3.beta'].apply(lambda x: split_into_ngrams(x, n) if pd.notnull(x) else x)"
   ]
  },
  {
   "cell_type": "code",
   "execution_count": 50,
   "metadata": {},
   "outputs": [],
   "source": [
    "combined_ngrams = df['cdr3.alpha.ngrams'] + df['cdr3.beta.ngrams']"
   ]
  },
  {
   "cell_type": "code",
   "execution_count": 51,
   "metadata": {},
   "outputs": [
    {
     "name": "stdout",
     "output_type": "stream",
     "text": [
      "0       [CAY, RPP, GTY, KYI, F, CAS, SAL, ASL, NEQ, FF]\n",
      "1       [CAG, PTG, GSY, IPT, F, CAS, SVA, LAT, GEQ, YF]\n",
      "2      [CVV, SAI, TND, YKL, SF, CAS, SLI, EGG, TEA, FF]\n",
      "3       [CAV, QPG, AGG, FKT, IF, CAS, SLI, EGL, EQY, F]\n",
      "4        [CAS, QSN, TGN, QFY, F, CAS, SLI, EQQ, PQH, F]\n",
      "                             ...                       \n",
      "550    [CAL, SEA, GAN, SKL, TF, CAS, SLL, AGG, DTQ, YF]\n",
      "551    [CAG, QLD, SGT, YKY, IF, CAS, SPA, GWD, TEA, FF]\n",
      "552    [CLV, GGD, NQG, GKL, IF, CAS, SQR, QGG, NTI, YF]\n",
      "553        [CAV, NAR, NAG, NML, TF, CAS, SFD, GET, QYF]\n",
      "554      [CAV, EGG, SNY, KLT, F, CSV, GAG, GSG, ELF, F]\n",
      "Length: 555, dtype: object\n"
     ]
    }
   ],
   "source": [
    "print(combined_ngrams)"
   ]
  },
  {
   "cell_type": "code",
   "execution_count": 25,
   "metadata": {},
   "outputs": [
    {
     "name": "stdout",
     "output_type": "stream",
     "text": [
      "cdr3.alpha                         CAYRPPGTYKYIF\n",
      "cdr3.beta                         CASSALASLNEQFF\n",
      "species                              HomoSapiens\n",
      "antigen.epitope                         FLKEKGGL\n",
      "antigen.gene                                 Nef\n",
      "vdjdb.score                                    2\n",
      "cdr3.alpha.length                             13\n",
      "cdr3.beta.length                              14\n",
      "cdr3combined         CAYRPPGTYKYIFCASSALASLNEQFF\n",
      "cdr3.alpha.ngrams        [CAY, RPP, GTY, KYI, F]\n",
      "cdr3.beta.ngrams        [CAS, SAL, ASL, NEQ, FF]\n",
      "Name: 0, dtype: object\n"
     ]
    }
   ],
   "source": [
    "print(df.iloc[0])"
   ]
  },
  {
   "cell_type": "markdown",
   "metadata": {},
   "source": [
    "The skip-gram model works by predicting the context (surrounding words) given a target word."
   ]
  },
  {
   "cell_type": "code",
   "execution_count": 52,
   "metadata": {},
   "outputs": [],
   "source": [
    "from gensim.models import Word2Vec\n",
    "\n",
    "#combine the sequences\n",
    "sequences = combined_ngrams.tolist()\n",
    "\n",
    "model = Word2Vec(sequences, \n",
    "                 min_count=2,  #ignore words that appear fewer than twice\n",
    "                 window=28,  #context window of 28 to fit max length of cdr3\n",
    "                 vector_size=100,  #embed into 100-dimensional vectors\n",
    "                 sg=1)  #skip-gram algorithm\n",
    "\n",
    "model.save(\"word2vec.model\")"
   ]
  },
  {
   "cell_type": "code",
   "execution_count": 53,
   "metadata": {},
   "outputs": [
    {
     "name": "stdout",
     "output_type": "stream",
     "text": [
      "['CAY', 'RPP', 'GTY', 'KYI', 'F', 'CAS', 'SAL', 'ASL', 'NEQ', 'FF']\n"
     ]
    }
   ],
   "source": [
    "print(sequences[0])"
   ]
  },
  {
   "cell_type": "code",
   "execution_count": 57,
   "metadata": {},
   "outputs": [
    {
     "name": "stdout",
     "output_type": "stream",
     "text": [
      "10\n"
     ]
    }
   ],
   "source": [
    "print(len((max(sequences, key=lambda x: len(x)))))"
   ]
  },
  {
   "cell_type": "code",
   "execution_count": 58,
   "metadata": {},
   "outputs": [],
   "source": [
    "#model = Word2Vec.load(\"word2vec.model\")\n",
    "\n",
    "#convert sequence to vector\n",
    "def sequence_to_vec(ngrams, model):\n",
    "    #convert n-gram to a vector and compute the weighted average\n",
    "    vectors = [model.wv[ngram] for ngram in ngrams if ngram in model.wv]\n",
    "    if not vectors:\n",
    "        return np.zeros(model.vector_size)\n",
    "    weights = [1/len(vectors)] * len(vectors)  # Equal weights for all vectors\n",
    "    return np.average(vectors, axis=0, weights=weights)\n",
    "\n",
    "vectors = [sequence_to_vec(seq, model) for seq in sequences]\n",
    "\n",
    "df_vectors = pd.DataFrame({\n",
    "    'sequence': sequences,\n",
    "    'vector': vectors\n",
    "})"
   ]
  },
  {
   "cell_type": "code",
   "execution_count": 59,
   "metadata": {},
   "outputs": [
    {
     "name": "stdout",
     "output_type": "stream",
     "text": [
      "[-0.0596909   0.05990946  0.00394271  0.10615421  0.05276418 -0.17461887\n",
      "  0.15643714  0.20113581 -0.06299914 -0.06218642 -0.02066001 -0.19236816\n",
      " -0.01941576  0.12300529 -0.12521967  0.02035039  0.13009885 -0.13047655\n",
      " -0.08348431 -0.34395748  0.02176093  0.02647692  0.07282719 -0.10732127\n",
      "  0.08304158  0.04530009 -0.12766941  0.09297457 -0.19410612  0.11232468\n",
      "  0.04355018  0.12572232  0.16832486 -0.05851794 -0.16557175  0.17660795\n",
      "  0.02422735 -0.11960185 -0.09953406 -0.240232   -0.07601622 -0.0340294\n",
      "  0.05615477 -0.11082582  0.12403981  0.07402097 -0.11344352 -0.16191149\n",
      "  0.11868708  0.16883141  0.03865691 -0.03383769 -0.11027782  0.03236344\n",
      " -0.0980185   0.15631883  0.01923436  0.01115263 -0.24942973  0.16013008\n",
      "  0.01325665  0.01061799  0.06939732 -0.05010538 -0.22545882  0.00169031\n",
      "  0.0251941   0.03644635 -0.04589688  0.20283756 -0.01166326 -0.00256912\n",
      "  0.09452346 -0.00419985  0.07762411 -0.02682507  0.08999039 -0.05872625\n",
      " -0.10756232  0.03124608 -0.02999053  0.01442881 -0.0819273   0.09372782\n",
      " -0.14361688  0.07183578 -0.0142407   0.17984083  0.25948244 -0.11722116\n",
      "  0.24624565  0.06691545  0.03775427 -0.01930432  0.09832637  0.08743933\n",
      "  0.03119863 -0.13360581 -0.010768    0.019724  ]\n",
      "sequence      [CAY, RPP, GTY, KYI, F, CAS, SAL, ASL, NEQ, FF]\n",
      "vector      [-0.059690896, 0.05990946, 0.003942714, 0.1061...\n",
      "Name: 0, dtype: object\n",
      "(555, 2)\n"
     ]
    }
   ],
   "source": [
    "print(vectors[0])\n",
    "print(df_vectors.iloc[0])\n",
    "print(df_vectors.shape)"
   ]
  },
  {
   "cell_type": "code",
   "execution_count": 63,
   "metadata": {},
   "outputs": [
    {
     "name": "stdout",
     "output_type": "stream",
     "text": [
      "                 precision    recall  f1-score   support\n",
      "\n",
      "      ALGIGILTV       0.00      0.00      0.00         1\n",
      "      ALYGFVPVL       0.00      0.00      0.00         1\n",
      "      AVGVGKSAL       0.00      0.00      0.00         1\n",
      "      CINGVCWTV       0.00      0.00      0.00         1\n",
      "      CLGGLLTMV       0.00      0.00      0.00         1\n",
      "      CVNGSCFTV       0.00      0.00      0.00         1\n",
      "     EAAGIGILTV       0.00      0.00      0.00         1\n",
      "     EFFWDANDIY       0.00      0.00      0.00         1\n",
      "     ELAGIGILTV       0.00      0.00      0.00         2\n",
      "     EMLFSHGLVK       0.00      0.00      0.00         1\n",
      "    EPLPQGQLTAY       0.00      0.00      0.00         1\n",
      "      FGDHPGHSY       0.00      0.00      0.00         1\n",
      "       FLKEKGGL       0.00      0.00      0.00         1\n",
      "     GADGVGKSAL       0.00      0.00      0.00         1\n",
      "GELIGILNAAKVPAD       0.00      0.00      0.00         1\n",
      "      GILGFVFTL       0.63      0.87      0.73        30\n",
      "      GLCTLVAML       0.00      0.00      0.00         1\n",
      "     GTSGSPIVNR       0.00      0.00      0.00         1\n",
      "GYNSYSVSNSEKHIM       0.00      0.00      0.00         2\n",
      "      KQIYKTPPI       0.00      0.00      0.00         1\n",
      "  LLEFYLAMPFATP       0.00      0.00      0.00         1\n",
      "  LPEPLPQAQLTAY       0.00      0.00      0.00         1\n",
      "  LPEPLPQGGLTAY       0.00      0.00      0.00         1\n",
      "  LPEPLPQGQLTAY       0.00      0.00      0.00         1\n",
      "MHVSFVMAYPEMLAA       0.00      0.00      0.00         1\n",
      "NFSQILPDPSKPSKR       0.00      0.00      0.00         1\n",
      "      NLNCCSVPV       0.00      0.00      0.00         1\n",
      "      NLVPMVATV       0.23      0.73      0.35        22\n",
      " NPVVHFFKNIVTPR       0.00      0.00      0.00         1\n",
      "      NYNYLYRLF       0.00      0.00      0.00         1\n",
      "      PFPQPELPY       0.00      0.00      0.00         2\n",
      "PPQIAANRSQLISLV       0.00      0.00      0.00         2\n",
      "  PQQPFPQPEQPFP       0.00      0.00      0.00         1\n",
      "   QLQPFPQPELPY       0.00      0.00      0.00         2\n",
      "      QYIKWPWYI       0.00      0.00      0.00         1\n",
      "      RAQAPPPSW       0.00      0.00      0.00         1\n",
      "      RLARLALVL       0.00      0.00      0.00         1\n",
      "      RPRGEVRFL       0.00      0.00      0.00         4\n",
      "      RYGSFSVTL       0.00      0.00      0.00         1\n",
      "      SPRWYFYYL       0.00      0.00      0.00         3\n",
      "       TAFTIPSI       0.00      0.00      0.00         2\n",
      "      TEDEHFEFY       0.00      0.00      0.00         1\n",
      "      VMAPRTLIL       0.00      0.00      0.00         1\n",
      "       WMRLLPLL       0.00      0.00      0.00         1\n",
      "      YLQPRTFLL       0.00      0.00      0.00         5\n",
      "   YVMAYVMAGVGS       0.00      0.00      0.00         1\n",
      "\n",
      "       accuracy                           0.38       111\n",
      "      macro avg       0.02      0.03      0.02       111\n",
      "   weighted avg       0.22      0.38      0.27       111\n",
      "\n",
      "0.3783783783783784\n"
     ]
    },
    {
     "name": "stderr",
     "output_type": "stream",
     "text": [
      "c:\\Users\\Christian Gauthier\\miniconda3\\envs\\tf\\lib\\site-packages\\sklearn\\metrics\\_classification.py:1334: UndefinedMetricWarning: Precision and F-score are ill-defined and being set to 0.0 in labels with no predicted samples. Use `zero_division` parameter to control this behavior.\n",
      "  _warn_prf(average, modifier, msg_start, len(result))\n",
      "c:\\Users\\Christian Gauthier\\miniconda3\\envs\\tf\\lib\\site-packages\\sklearn\\metrics\\_classification.py:1334: UndefinedMetricWarning: Precision and F-score are ill-defined and being set to 0.0 in labels with no predicted samples. Use `zero_division` parameter to control this behavior.\n",
      "  _warn_prf(average, modifier, msg_start, len(result))\n",
      "c:\\Users\\Christian Gauthier\\miniconda3\\envs\\tf\\lib\\site-packages\\sklearn\\metrics\\_classification.py:1334: UndefinedMetricWarning: Precision and F-score are ill-defined and being set to 0.0 in labels with no predicted samples. Use `zero_division` parameter to control this behavior.\n",
      "  _warn_prf(average, modifier, msg_start, len(result))\n"
     ]
    }
   ],
   "source": [
    "X = np.stack(df_vectors['vector'].values)  \n",
    "y = df['antigen.epitope'].values  \n",
    "\n",
    "# Split the data into a training set and a test set\n",
    "X_train, X_test, y_train, y_test = train_test_split(X, y, test_size=0.2, random_state=111)\n",
    "\n",
    "# Train a SVM classifier\n",
    "clf = SVC()\n",
    "clf.fit(X_train, y_train)\n",
    "\n",
    "# Predict the labels for the test set\n",
    "y_pred = clf.predict(X_test)\n",
    "\n",
    "# Print a classification report\n",
    "print(classification_report(y_test, y_pred))\n",
    "\n",
    "# Print the accuracy\n",
    "print(clf.score(X_test, y_test))"
   ]
  },
  {
   "cell_type": "code",
   "execution_count": 71,
   "metadata": {},
   "outputs": [
    {
     "name": "stderr",
     "output_type": "stream",
     "text": [
      "c:\\Users\\Christian Gauthier\\miniconda3\\envs\\tf\\lib\\site-packages\\sklearn\\model_selection\\_split.py:684: UserWarning: The least populated class in y has only 1 members, which is less than n_splits=5.\n",
      "  warnings.warn(\n"
     ]
    },
    {
     "name": "stdout",
     "output_type": "stream",
     "text": [
      "Best Parameters: {'max_depth': None, 'max_features': 'log2', 'min_samples_leaf': 1, 'min_samples_split': 5, 'n_estimators': 100}\n",
      "Best Score: 0.5181307456588355\n",
      "Classification Report:\n",
      "                  precision    recall  f1-score   support\n",
      "\n",
      "      ALGIGILTV       0.00      0.00      0.00         1\n",
      "      ALYGFVPVL       0.00      0.00      0.00         1\n",
      "      AVGVGKSAL       0.00      0.00      0.00         1\n",
      "      CINGVCWTV       0.00      0.00      0.00         1\n",
      "      CLGGLLTMV       0.00      0.00      0.00         1\n",
      "      CVNGSCFTV       0.00      0.00      0.00         1\n",
      "     EAAGIGILTV       0.00      0.00      0.00         1\n",
      "     EFFWDANDIY       0.00      0.00      0.00         1\n",
      "     ELAGIGILTV       0.00      0.00      0.00         2\n",
      "     EMLFSHGLVK       0.00      0.00      0.00         1\n",
      "    EPLPQGQLTAY       0.50      1.00      0.67         1\n",
      "      FGDHPGHSY       0.00      0.00      0.00         1\n",
      "       FLKEKGGL       0.00      0.00      0.00         1\n",
      "     GADGVGKSAL       1.00      1.00      1.00         1\n",
      "GELIGILNAAKVPAD       0.00      0.00      0.00         1\n",
      "      GILGFVFTL       0.67      0.93      0.78        30\n",
      "      GLCTLVAML       1.00      1.00      1.00         1\n",
      "     GTSGSPIINR       0.00      0.00      0.00         0\n",
      "     GTSGSPIVNR       0.00      0.00      0.00         1\n",
      "GYNSYSVSNSEKHIM       0.00      0.00      0.00         2\n",
      "      KQIYKTPPI       0.00      0.00      0.00         1\n",
      "  LLEFYLAMPFATP       0.00      0.00      0.00         1\n",
      "  LPEPLPQAQLTAY       0.00      0.00      0.00         1\n",
      "  LPEPLPQGGLTAY       0.00      0.00      0.00         1\n",
      "  LPEPLPQGQLTAY       0.00      0.00      0.00         1\n",
      "LTDEQRAAALEKAAA       0.00      0.00      0.00         0\n",
      "MHVSFVMAYPEMLAA       0.00      0.00      0.00         1\n",
      "NFSQILPDPSKPSKR       0.00      0.00      0.00         1\n",
      "      NLNCCSVPV       0.00      0.00      0.00         1\n",
      "      NLVPMVATV       0.38      0.82      0.51        22\n",
      " NPVVHFFKNIVTPR       0.00      0.00      0.00         1\n",
      "      NYNYLYRLF       0.00      0.00      0.00         1\n",
      "      PFPQPELPY       0.00      0.00      0.00         2\n",
      "PPQIAANRSQLISLV       0.00      0.00      0.00         2\n",
      "  PQQPFPQPEQPFP       0.00      0.00      0.00         1\n",
      "   QLQPFPQPELPY       0.00      0.00      0.00         2\n",
      "      QYIKWPWYI       0.00      0.00      0.00         1\n",
      "      RAQAPPPSW       0.00      0.00      0.00         1\n",
      "      RLARLALVL       0.00      0.00      0.00         1\n",
      " RLLMLFAKDVVSRN       0.00      0.00      0.00         0\n",
      "      RPRGEVRFL       0.50      0.50      0.50         4\n",
      "      RYGSFSVTL       0.00      0.00      0.00         1\n",
      "      SPRWYFYYL       1.00      0.67      0.80         3\n",
      "       TAFTIPSI       0.50      0.50      0.50         2\n",
      "      TEDEHFEFY       0.00      0.00      0.00         1\n",
      "      VMAPRTLIL       0.00      0.00      0.00         1\n",
      "       WMRLLPLL       0.00      0.00      0.00         1\n",
      "      YLQPRTFLL       1.00      0.20      0.33         5\n",
      "   YVMAYVMAGVGS       0.00      0.00      0.00         1\n",
      "\n",
      "       accuracy                           0.50       111\n",
      "      macro avg       0.13      0.14      0.12       111\n",
      "   weighted avg       0.38      0.50      0.40       111\n",
      "\n",
      "Accuracy: 0.4954954954954955\n"
     ]
    },
    {
     "name": "stderr",
     "output_type": "stream",
     "text": [
      "c:\\Users\\Christian Gauthier\\miniconda3\\envs\\tf\\lib\\site-packages\\sklearn\\metrics\\_classification.py:1334: UndefinedMetricWarning: Precision and F-score are ill-defined and being set to 0.0 in labels with no predicted samples. Use `zero_division` parameter to control this behavior.\n",
      "  _warn_prf(average, modifier, msg_start, len(result))\n",
      "c:\\Users\\Christian Gauthier\\miniconda3\\envs\\tf\\lib\\site-packages\\sklearn\\metrics\\_classification.py:1334: UndefinedMetricWarning: Recall and F-score are ill-defined and being set to 0.0 in labels with no true samples. Use `zero_division` parameter to control this behavior.\n",
      "  _warn_prf(average, modifier, msg_start, len(result))\n",
      "c:\\Users\\Christian Gauthier\\miniconda3\\envs\\tf\\lib\\site-packages\\sklearn\\metrics\\_classification.py:1334: UndefinedMetricWarning: Precision and F-score are ill-defined and being set to 0.0 in labels with no predicted samples. Use `zero_division` parameter to control this behavior.\n",
      "  _warn_prf(average, modifier, msg_start, len(result))\n",
      "c:\\Users\\Christian Gauthier\\miniconda3\\envs\\tf\\lib\\site-packages\\sklearn\\metrics\\_classification.py:1334: UndefinedMetricWarning: Recall and F-score are ill-defined and being set to 0.0 in labels with no true samples. Use `zero_division` parameter to control this behavior.\n",
      "  _warn_prf(average, modifier, msg_start, len(result))\n",
      "c:\\Users\\Christian Gauthier\\miniconda3\\envs\\tf\\lib\\site-packages\\sklearn\\metrics\\_classification.py:1334: UndefinedMetricWarning: Precision and F-score are ill-defined and being set to 0.0 in labels with no predicted samples. Use `zero_division` parameter to control this behavior.\n",
      "  _warn_prf(average, modifier, msg_start, len(result))\n",
      "c:\\Users\\Christian Gauthier\\miniconda3\\envs\\tf\\lib\\site-packages\\sklearn\\metrics\\_classification.py:1334: UndefinedMetricWarning: Recall and F-score are ill-defined and being set to 0.0 in labels with no true samples. Use `zero_division` parameter to control this behavior.\n",
      "  _warn_prf(average, modifier, msg_start, len(result))\n"
     ]
    }
   ],
   "source": [
    "param_grid = {\n",
    "    'n_estimators': [5, 10, 25, 100, 200],\n",
    "    'max_depth': [None,2,5,10, 15, 20],\n",
    "    'min_samples_split': [2, 5, 10],\n",
    "    'min_samples_leaf': [1, 2, 4],\n",
    "    'max_features': ['sqrt', 'log2']\n",
    "}\n",
    "\n",
    "\n",
    "rf = RandomForestClassifier()\n",
    "stratified_kfold = StratifiedKFold(n_splits=5)\n",
    "\n",
    "#stratified k-fold cross-validation \n",
    "#aims to ensure that each fold is representative of all strata of the data \n",
    "grid_search = GridSearchCV(estimator=rf, param_grid=param_grid, cv=stratified_kfold)\n",
    "grid_search.fit(X_train, y_train)\n",
    "\n",
    "\n",
    "best_params = grid_search.best_params_\n",
    "best_score = grid_search.best_score_\n",
    "\n",
    "\n",
    "rf_best = RandomForestClassifier(**best_params)\n",
    "rf_best.fit(X_train, y_train)\n",
    "\n",
    "\n",
    "y_pred = rf_best.predict(X_test)\n",
    "classification_rep = classification_report(y_test, y_pred)\n",
    "accuracy = accuracy_score(y_test, y_pred)\n",
    "\n",
    "print(\"Best Parameters:\", best_params)\n",
    "print(\"Best Score:\", best_score)\n",
    "print(\"Classification Report:\\n\", classification_rep)\n",
    "print(\"Accuracy:\", accuracy)\n"
   ]
  }
 ],
 "metadata": {
  "kernelspec": {
   "display_name": "tf",
   "language": "python",
   "name": "python3"
  },
  "language_info": {
   "codemirror_mode": {
    "name": "ipython",
    "version": 3
   },
   "file_extension": ".py",
   "mimetype": "text/x-python",
   "name": "python",
   "nbconvert_exporter": "python",
   "pygments_lexer": "ipython3",
   "version": "3.9.15"
  }
 },
 "nbformat": 4,
 "nbformat_minor": 2
}
