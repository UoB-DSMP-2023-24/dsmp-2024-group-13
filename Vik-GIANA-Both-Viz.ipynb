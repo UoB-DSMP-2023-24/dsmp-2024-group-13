{
 "cells": [
  {
   "cell_type": "code",
   "execution_count": 1,
   "metadata": {},
   "outputs": [
    {
     "name": "stdout",
     "output_type": "stream",
     "text": [
      "(61636, 34)\n"
     ]
    },
    {
     "name": "stderr",
     "output_type": "stream",
     "text": [
      "C:\\Users\\vikra\\AppData\\Local\\Temp\\ipykernel_2364\\2714090035.py:5: DtypeWarning: Columns (30) have mixed types. Specify dtype option on import or set low_memory=False.\n",
      "  df = pd.read_csv(file_path, delimiter='\\t')\n"
     ]
    }
   ],
   "source": [
    "import pandas as pd\n",
    "import seaborn as sns\n",
    "\n",
    "file_path = \"vdjdb_full.txt\"\n",
    "df = pd.read_csv(file_path, delimiter='\\t')\n",
    "df = df.drop_duplicates()\n",
    "print(df.shape)\n"
   ]
  },
  {
   "cell_type": "code",
   "execution_count": 2,
   "metadata": {},
   "outputs": [
    {
     "data": {
      "text/html": [
       "<div>\n",
       "<style scoped>\n",
       "    .dataframe tbody tr th:only-of-type {\n",
       "        vertical-align: middle;\n",
       "    }\n",
       "\n",
       "    .dataframe tbody tr th {\n",
       "        vertical-align: top;\n",
       "    }\n",
       "\n",
       "    .dataframe thead th {\n",
       "        text-align: right;\n",
       "    }\n",
       "</style>\n",
       "<table border=\"1\" class=\"dataframe\">\n",
       "  <thead>\n",
       "    <tr style=\"text-align: right;\">\n",
       "      <th></th>\n",
       "      <th>cdr3.alpha</th>\n",
       "      <th>v.alpha</th>\n",
       "      <th>j.alpha</th>\n",
       "      <th>cdr3.beta</th>\n",
       "      <th>v.beta</th>\n",
       "      <th>d.beta</th>\n",
       "      <th>j.beta</th>\n",
       "      <th>species</th>\n",
       "      <th>mhc.a</th>\n",
       "      <th>mhc.b</th>\n",
       "      <th>...</th>\n",
       "      <th>meta.replica.id</th>\n",
       "      <th>meta.clone.id</th>\n",
       "      <th>meta.epitope.id</th>\n",
       "      <th>meta.tissue</th>\n",
       "      <th>meta.donor.MHC</th>\n",
       "      <th>meta.donor.MHC.method</th>\n",
       "      <th>meta.structure.id</th>\n",
       "      <th>cdr3fix.alpha</th>\n",
       "      <th>cdr3fix.beta</th>\n",
       "      <th>vdjdb.score</th>\n",
       "    </tr>\n",
       "  </thead>\n",
       "  <tbody>\n",
       "    <tr>\n",
       "      <th>0</th>\n",
       "      <td>CIVRAPGRADMRF</td>\n",
       "      <td>TRAV26-1*01</td>\n",
       "      <td>TRAJ43*01</td>\n",
       "      <td>CASSYLPGQGDHYSNQPQHF</td>\n",
       "      <td>TRBV13*01</td>\n",
       "      <td>NaN</td>\n",
       "      <td>TRBJ1-5*01</td>\n",
       "      <td>HomoSapiens</td>\n",
       "      <td>HLA-B*08</td>\n",
       "      <td>B2M</td>\n",
       "      <td>...</td>\n",
       "      <td>NaN</td>\n",
       "      <td>NaN</td>\n",
       "      <td>NaN</td>\n",
       "      <td>PBMC</td>\n",
       "      <td>HLA-A*02:01,HLA-A*24:02;HLA-B*08:01,HLA-B*5701...</td>\n",
       "      <td>NaN</td>\n",
       "      <td>NaN</td>\n",
       "      <td>{\"cdr3\": \"CIVRAPGRADMRF\", \"cdr3_old\": \"CIVRAPG...</td>\n",
       "      <td>{\"cdr3\": \"CASSYLPGQGDHYSNQPQHF\", \"cdr3_old\": \"...</td>\n",
       "      <td>2</td>\n",
       "    </tr>\n",
       "    <tr>\n",
       "      <th>1</th>\n",
       "      <td>NaN</td>\n",
       "      <td>NaN</td>\n",
       "      <td>NaN</td>\n",
       "      <td>CASSFEAGQGFFSNQPQHF</td>\n",
       "      <td>TRBV13*01</td>\n",
       "      <td>NaN</td>\n",
       "      <td>TRBJ1-5*01</td>\n",
       "      <td>HomoSapiens</td>\n",
       "      <td>HLA-B*08</td>\n",
       "      <td>B2M</td>\n",
       "      <td>...</td>\n",
       "      <td>NaN</td>\n",
       "      <td>NaN</td>\n",
       "      <td>NaN</td>\n",
       "      <td>PBMC</td>\n",
       "      <td>HLA-A*01:01,HLA-A*02:01;HLA-B*08:01,HLA-B*57:0...</td>\n",
       "      <td>NaN</td>\n",
       "      <td>NaN</td>\n",
       "      <td>NaN</td>\n",
       "      <td>{\"cdr3\": \"CASSFEAGQGFFSNQPQHF\", \"cdr3_old\": \"C...</td>\n",
       "      <td>2</td>\n",
       "    </tr>\n",
       "    <tr>\n",
       "      <th>2</th>\n",
       "      <td>CAVPSGAGSYQLTF</td>\n",
       "      <td>TRAV20*01</td>\n",
       "      <td>TRAJ28*01</td>\n",
       "      <td>CASSFEPGQGFYSNQPQHF</td>\n",
       "      <td>TRBV13*01</td>\n",
       "      <td>NaN</td>\n",
       "      <td>TRBJ1-5*01</td>\n",
       "      <td>HomoSapiens</td>\n",
       "      <td>HLA-B*08</td>\n",
       "      <td>B2M</td>\n",
       "      <td>...</td>\n",
       "      <td>NaN</td>\n",
       "      <td>NaN</td>\n",
       "      <td>NaN</td>\n",
       "      <td>PBMC</td>\n",
       "      <td>HLA-A*02,HLA-A*24:02;HLA-B*08:01,HLA-B*15;HLA-...</td>\n",
       "      <td>NaN</td>\n",
       "      <td>NaN</td>\n",
       "      <td>{\"cdr3\": \"CAVPSGAGSYQLTF\", \"cdr3_old\": \"CAVPSG...</td>\n",
       "      <td>{\"cdr3\": \"CASSFEPGQGFYSNQPQHF\", \"cdr3_old\": \"C...</td>\n",
       "      <td>2</td>\n",
       "    </tr>\n",
       "    <tr>\n",
       "      <th>3</th>\n",
       "      <td>CAVKASGSRLT</td>\n",
       "      <td>TRAV2*01</td>\n",
       "      <td>NaN</td>\n",
       "      <td>CASSYEPGQVSHYSNQPQHF</td>\n",
       "      <td>TRBV13*01</td>\n",
       "      <td>NaN</td>\n",
       "      <td>TRBJ1-5*01</td>\n",
       "      <td>HomoSapiens</td>\n",
       "      <td>HLA-B*08</td>\n",
       "      <td>B2M</td>\n",
       "      <td>...</td>\n",
       "      <td>NaN</td>\n",
       "      <td>NaN</td>\n",
       "      <td>NaN</td>\n",
       "      <td>PBMC</td>\n",
       "      <td>HLA-A*01:01,HLA-A*02:01;HLA-B*08:01,HLA-B*57:0...</td>\n",
       "      <td>NaN</td>\n",
       "      <td>NaN</td>\n",
       "      <td>{\"cdr3\": \"CAVKASGSRLT\", \"cdr3_old\": \"CAVKASGSR...</td>\n",
       "      <td>{\"cdr3\": \"CASSYEPGQVSHYSNQPQHF\", \"cdr3_old\": \"...</td>\n",
       "      <td>2</td>\n",
       "    </tr>\n",
       "    <tr>\n",
       "      <th>4</th>\n",
       "      <td>CAYRPPGTYKYIF</td>\n",
       "      <td>TRAV38-2/DV8*01</td>\n",
       "      <td>TRAJ40*01</td>\n",
       "      <td>CASSALASLNEQFF</td>\n",
       "      <td>TRBV14*01</td>\n",
       "      <td>NaN</td>\n",
       "      <td>TRBJ2-1*01</td>\n",
       "      <td>HomoSapiens</td>\n",
       "      <td>HLA-B*08</td>\n",
       "      <td>B2M</td>\n",
       "      <td>...</td>\n",
       "      <td>NaN</td>\n",
       "      <td>NaN</td>\n",
       "      <td>NaN</td>\n",
       "      <td>PBMC</td>\n",
       "      <td>HLA-A*01:01,HLA-A*02:01;HLA-B*08:01,HLA-B*57:0...</td>\n",
       "      <td>NaN</td>\n",
       "      <td>NaN</td>\n",
       "      <td>{\"cdr3\": \"CAYRPPGTYKYIF\", \"cdr3_old\": \"CAYRPPG...</td>\n",
       "      <td>{\"cdr3\": \"CASSALASLNEQFF\", \"cdr3_old\": \"CASSAL...</td>\n",
       "      <td>2</td>\n",
       "    </tr>\n",
       "  </tbody>\n",
       "</table>\n",
       "<p>5 rows × 34 columns</p>\n",
       "</div>"
      ],
      "text/plain": [
       "       cdr3.alpha          v.alpha    j.alpha             cdr3.beta  \\\n",
       "0   CIVRAPGRADMRF      TRAV26-1*01  TRAJ43*01  CASSYLPGQGDHYSNQPQHF   \n",
       "1             NaN              NaN        NaN   CASSFEAGQGFFSNQPQHF   \n",
       "2  CAVPSGAGSYQLTF        TRAV20*01  TRAJ28*01   CASSFEPGQGFYSNQPQHF   \n",
       "3     CAVKASGSRLT         TRAV2*01        NaN  CASSYEPGQVSHYSNQPQHF   \n",
       "4   CAYRPPGTYKYIF  TRAV38-2/DV8*01  TRAJ40*01        CASSALASLNEQFF   \n",
       "\n",
       "      v.beta d.beta      j.beta      species     mhc.a mhc.b  ...  \\\n",
       "0  TRBV13*01    NaN  TRBJ1-5*01  HomoSapiens  HLA-B*08   B2M  ...   \n",
       "1  TRBV13*01    NaN  TRBJ1-5*01  HomoSapiens  HLA-B*08   B2M  ...   \n",
       "2  TRBV13*01    NaN  TRBJ1-5*01  HomoSapiens  HLA-B*08   B2M  ...   \n",
       "3  TRBV13*01    NaN  TRBJ1-5*01  HomoSapiens  HLA-B*08   B2M  ...   \n",
       "4  TRBV14*01    NaN  TRBJ2-1*01  HomoSapiens  HLA-B*08   B2M  ...   \n",
       "\n",
       "  meta.replica.id meta.clone.id meta.epitope.id meta.tissue  \\\n",
       "0             NaN           NaN             NaN        PBMC   \n",
       "1             NaN           NaN             NaN        PBMC   \n",
       "2             NaN           NaN             NaN        PBMC   \n",
       "3             NaN           NaN             NaN        PBMC   \n",
       "4             NaN           NaN             NaN        PBMC   \n",
       "\n",
       "                                      meta.donor.MHC meta.donor.MHC.method  \\\n",
       "0  HLA-A*02:01,HLA-A*24:02;HLA-B*08:01,HLA-B*5701...                   NaN   \n",
       "1  HLA-A*01:01,HLA-A*02:01;HLA-B*08:01,HLA-B*57:0...                   NaN   \n",
       "2  HLA-A*02,HLA-A*24:02;HLA-B*08:01,HLA-B*15;HLA-...                   NaN   \n",
       "3  HLA-A*01:01,HLA-A*02:01;HLA-B*08:01,HLA-B*57:0...                   NaN   \n",
       "4  HLA-A*01:01,HLA-A*02:01;HLA-B*08:01,HLA-B*57:0...                   NaN   \n",
       "\n",
       "  meta.structure.id                                      cdr3fix.alpha  \\\n",
       "0               NaN  {\"cdr3\": \"CIVRAPGRADMRF\", \"cdr3_old\": \"CIVRAPG...   \n",
       "1               NaN                                                NaN   \n",
       "2               NaN  {\"cdr3\": \"CAVPSGAGSYQLTF\", \"cdr3_old\": \"CAVPSG...   \n",
       "3               NaN  {\"cdr3\": \"CAVKASGSRLT\", \"cdr3_old\": \"CAVKASGSR...   \n",
       "4               NaN  {\"cdr3\": \"CAYRPPGTYKYIF\", \"cdr3_old\": \"CAYRPPG...   \n",
       "\n",
       "                                        cdr3fix.beta vdjdb.score  \n",
       "0  {\"cdr3\": \"CASSYLPGQGDHYSNQPQHF\", \"cdr3_old\": \"...           2  \n",
       "1  {\"cdr3\": \"CASSFEAGQGFFSNQPQHF\", \"cdr3_old\": \"C...           2  \n",
       "2  {\"cdr3\": \"CASSFEPGQGFYSNQPQHF\", \"cdr3_old\": \"C...           2  \n",
       "3  {\"cdr3\": \"CASSYEPGQVSHYSNQPQHF\", \"cdr3_old\": \"...           2  \n",
       "4  {\"cdr3\": \"CASSALASLNEQFF\", \"cdr3_old\": \"CASSAL...           2  \n",
       "\n",
       "[5 rows x 34 columns]"
      ]
     },
     "execution_count": 2,
     "metadata": {},
     "output_type": "execute_result"
    }
   ],
   "source": [
    "df.head(5)"
   ]
  },
  {
   "cell_type": "code",
   "execution_count": 3,
   "metadata": {},
   "outputs": [
    {
     "name": "stdout",
     "output_type": "stream",
     "text": [
      "269 epitopes\n"
     ]
    }
   ],
   "source": [
    "epitopes = df['antigen.gene'].unique()\n",
    "print(f'{len(df[\"antigen.gene\"].unique())} epitopes')\n"
   ]
  },
  {
   "cell_type": "code",
   "execution_count": 4,
   "metadata": {},
   "outputs": [
    {
     "name": "stdout",
     "output_type": "stream",
     "text": [
      "IE1      14126\n",
      "pp65      8595\n",
      "M         7891\n",
      "Gag       3372\n",
      "Spike     2964\n",
      "EBNA4     2539\n",
      "MLANA     2366\n",
      "BZLF1     1610\n",
      "NS3       1574\n",
      "BMLF1     1476\n",
      "Name: antigen.gene, dtype: int64\n"
     ]
    }
   ],
   "source": [
    "epitope_frequencies = df['antigen.gene'].value_counts()\n",
    "print(epitope_frequencies[0:10])"
   ]
  },
  {
   "cell_type": "code",
   "execution_count": 5,
   "metadata": {},
   "outputs": [
    {
     "name": "stdout",
     "output_type": "stream",
     "text": [
      "Index(['cdr3.alpha', 'v.alpha', 'j.alpha', 'cdr3.beta', 'v.beta', 'd.beta',\n",
      "       'j.beta', 'species', 'mhc.a', 'mhc.b', 'mhc.class', 'antigen.epitope',\n",
      "       'antigen.gene', 'antigen.species', 'reference.id',\n",
      "       'method.identification', 'method.frequency', 'method.singlecell',\n",
      "       'method.sequencing', 'method.verification', 'meta.study.id',\n",
      "       'meta.cell.subset', 'meta.subject.cohort', 'meta.subject.id',\n",
      "       'meta.replica.id', 'meta.clone.id', 'meta.epitope.id', 'meta.tissue',\n",
      "       'meta.donor.MHC', 'meta.donor.MHC.method', 'meta.structure.id',\n",
      "       'cdr3fix.alpha', 'cdr3fix.beta', 'vdjdb.score'],\n",
      "      dtype='object')\n"
     ]
    }
   ],
   "source": [
    "print(df.columns)"
   ]
  },
  {
   "cell_type": "code",
   "execution_count": 6,
   "metadata": {},
   "outputs": [],
   "source": [
    "#create new df of only cdr3 and relevant epitope columns with score greater than 0\n",
    "df = df[(df['vdjdb.score'] > 0)]\n",
    "df.dropna(subset=['cdr3.beta', 'cdr3.alpha'], inplace = True)\n",
    "df = df[df['species']== 'HomoSapiens']\n",
    "df.drop_duplicates(inplace=True)\n",
    "df_slim = df[['cdr3.alpha','cdr3.beta','species','antigen.epitope','antigen.gene','vdjdb.score']]"
   ]
  },
  {
   "cell_type": "code",
   "execution_count": 7,
   "metadata": {},
   "outputs": [
    {
     "name": "stdout",
     "output_type": "stream",
     "text": [
      "       cdr3.alpha             cdr3.beta      species antigen.epitope  \\\n",
      "0   CIVRAPGRADMRF  CASSYLPGQGDHYSNQPQHF  HomoSapiens        FLKEKGGL   \n",
      "2  CAVPSGAGSYQLTF   CASSFEPGQGFYSNQPQHF  HomoSapiens        FLKEKGGL   \n",
      "3     CAVKASGSRLT  CASSYEPGQVSHYSNQPQHF  HomoSapiens        FLKEKGGL   \n",
      "4   CAYRPPGTYKYIF        CASSALASLNEQFF  HomoSapiens        FLKEKGGL   \n",
      "5   CIVRAPGRADMRF  CASSYLPGQGDHYSNQPQHF  HomoSapiens        FLKEQGGL   \n",
      "\n",
      "  antigen.gene  vdjdb.score  \n",
      "0          Nef            2  \n",
      "2          Nef            2  \n",
      "3          Nef            2  \n",
      "4          Nef            2  \n",
      "5          Nef            2  \n",
      "(2018, 6)\n"
     ]
    }
   ],
   "source": [
    "print(df_slim.head(5))\n",
    "print(df_slim.shape)"
   ]
  },
  {
   "cell_type": "code",
   "execution_count": 8,
   "metadata": {},
   "outputs": [
    {
     "name": "stderr",
     "output_type": "stream",
     "text": [
      "C:\\Users\\vikra\\AppData\\Local\\Temp\\ipykernel_2364\\1966708717.py:2: SettingWithCopyWarning: \n",
      "A value is trying to be set on a copy of a slice from a DataFrame.\n",
      "Try using .loc[row_indexer,col_indexer] = value instead\n",
      "\n",
      "See the caveats in the documentation: https://pandas.pydata.org/pandas-docs/stable/user_guide/indexing.html#returning-a-view-versus-a-copy\n",
      "  df_slim['cdr3combined'] = df_slim['cdr3.alpha'].fillna('') + df_slim['cdr3.beta'].fillna('')\n"
     ]
    }
   ],
   "source": [
    "#Stick CRD3 together if both alpha and beta present if not leave alone\n",
    "df_slim['cdr3combined'] = df_slim['cdr3.alpha'].fillna('') + df_slim['cdr3.beta'].fillna('')\n"
   ]
  },
  {
   "cell_type": "code",
   "execution_count": 9,
   "metadata": {},
   "outputs": [
    {
     "name": "stdout",
     "output_type": "stream",
     "text": [
      "            cdr3.alpha          cdr3.beta      species antigen.epitope  \\\n",
      "19744     CAGARNDYKLSF  CATSRDGAGLVNQPQHF  HomoSapiens       AAFKRSCLK   \n",
      "19746    CAGAIPRDDKIIF   CASSLNPGRSDSPLHF  HomoSapiens       AAFKRSCLK   \n",
      "19745  CALATHTGTASKLTF   CASSQDPGSSYNEQFF  HomoSapiens       AAFKRSCLK   \n",
      "\n",
      "      antigen.gene  vdjdb.score                     cdr3combined  \n",
      "19744         T-Ag            3    CAGARNDYKLSFCATSRDGAGLVNQPQHF  \n",
      "19746         T-Ag            3    CAGAIPRDDKIIFCASSLNPGRSDSPLHF  \n",
      "19745         T-Ag            3  CALATHTGTASKLTFCASSQDPGSSYNEQFF  \n"
     ]
    }
   ],
   "source": [
    "df_slim = df_slim.sort_values('antigen.epitope')\n",
    "print(df_slim.head(3))\n",
    "#print(cdr3comb.head(3))"
   ]
  },
  {
   "cell_type": "code",
   "execution_count": 10,
   "metadata": {},
   "outputs": [
    {
     "name": "stdout",
     "output_type": "stream",
     "text": [
      "10\n"
     ]
    }
   ],
   "source": [
    "epitope_counts = df_slim['antigen.epitope'].value_counts()\n",
    "filtered_epitopes = (epitope_counts[epitope_counts>21]).index.to_list()\n",
    "print(len(filtered_epitopes))"
   ]
  },
  {
   "cell_type": "code",
   "execution_count": 11,
   "metadata": {},
   "outputs": [
    {
     "data": {
      "text/html": [
       "<div>\n",
       "<style scoped>\n",
       "    .dataframe tbody tr th:only-of-type {\n",
       "        vertical-align: middle;\n",
       "    }\n",
       "\n",
       "    .dataframe tbody tr th {\n",
       "        vertical-align: top;\n",
       "    }\n",
       "\n",
       "    .dataframe thead th {\n",
       "        text-align: right;\n",
       "    }\n",
       "</style>\n",
       "<table border=\"1\" class=\"dataframe\">\n",
       "  <thead>\n",
       "    <tr style=\"text-align: right;\">\n",
       "      <th></th>\n",
       "      <th>cdr3.alpha</th>\n",
       "      <th>cdr3.beta</th>\n",
       "      <th>species</th>\n",
       "      <th>antigen.epitope</th>\n",
       "      <th>antigen.gene</th>\n",
       "      <th>vdjdb.score</th>\n",
       "      <th>cdr3combined</th>\n",
       "    </tr>\n",
       "  </thead>\n",
       "  <tbody>\n",
       "    <tr>\n",
       "      <th>51139</th>\n",
       "      <td>CAVGTAWRSGGGADGLTF</td>\n",
       "      <td>CASSPGTLADTQYF</td>\n",
       "      <td>HomoSapiens</td>\n",
       "      <td>ELAGIGILTV</td>\n",
       "      <td>MLANA</td>\n",
       "      <td>2</td>\n",
       "      <td>CAVGTAWRSGGGADGLTFCASSPGTLADTQYF</td>\n",
       "    </tr>\n",
       "    <tr>\n",
       "      <th>1208</th>\n",
       "      <td>CAVNVAGKSTF</td>\n",
       "      <td>CAWSETGLGTGELFF</td>\n",
       "      <td>HomoSapiens</td>\n",
       "      <td>ELAGIGILTV</td>\n",
       "      <td>MLANA</td>\n",
       "      <td>3</td>\n",
       "      <td>CAVNVAGKSTFCAWSETGLGTGELFF</td>\n",
       "    </tr>\n",
       "    <tr>\n",
       "      <th>1219</th>\n",
       "      <td>CAVNFGGGKLIF</td>\n",
       "      <td>CASSLSFGTEAFF</td>\n",
       "      <td>HomoSapiens</td>\n",
       "      <td>ELAGIGILTV</td>\n",
       "      <td>MLANA</td>\n",
       "      <td>3</td>\n",
       "      <td>CAVNFGGGKLIFCASSLSFGTEAFF</td>\n",
       "    </tr>\n",
       "    <tr>\n",
       "      <th>668</th>\n",
       "      <td>CAVAGYGGSQGNLIF</td>\n",
       "      <td>CASSPQGLGTEAFF</td>\n",
       "      <td>HomoSapiens</td>\n",
       "      <td>ELAGIGILTV</td>\n",
       "      <td>MLANA</td>\n",
       "      <td>1</td>\n",
       "      <td>CAVAGYGGSQGNLIFCASSPQGLGTEAFF</td>\n",
       "    </tr>\n",
       "    <tr>\n",
       "      <th>1221</th>\n",
       "      <td>CAGGTGNQFYF</td>\n",
       "      <td>CAISEVGVGQPQHF</td>\n",
       "      <td>HomoSapiens</td>\n",
       "      <td>ELAGIGILTV</td>\n",
       "      <td>MLANA</td>\n",
       "      <td>3</td>\n",
       "      <td>CAGGTGNQFYFCAISEVGVGQPQHF</td>\n",
       "    </tr>\n",
       "  </tbody>\n",
       "</table>\n",
       "</div>"
      ],
      "text/plain": [
       "               cdr3.alpha        cdr3.beta      species antigen.epitope  \\\n",
       "51139  CAVGTAWRSGGGADGLTF   CASSPGTLADTQYF  HomoSapiens      ELAGIGILTV   \n",
       "1208          CAVNVAGKSTF  CAWSETGLGTGELFF  HomoSapiens      ELAGIGILTV   \n",
       "1219         CAVNFGGGKLIF    CASSLSFGTEAFF  HomoSapiens      ELAGIGILTV   \n",
       "668       CAVAGYGGSQGNLIF   CASSPQGLGTEAFF  HomoSapiens      ELAGIGILTV   \n",
       "1221          CAGGTGNQFYF   CAISEVGVGQPQHF  HomoSapiens      ELAGIGILTV   \n",
       "\n",
       "      antigen.gene  vdjdb.score                      cdr3combined  \n",
       "51139        MLANA            2  CAVGTAWRSGGGADGLTFCASSPGTLADTQYF  \n",
       "1208         MLANA            3        CAVNVAGKSTFCAWSETGLGTGELFF  \n",
       "1219         MLANA            3         CAVNFGGGKLIFCASSLSFGTEAFF  \n",
       "668          MLANA            1     CAVAGYGGSQGNLIFCASSPQGLGTEAFF  \n",
       "1221         MLANA            3         CAGGTGNQFYFCAISEVGVGQPQHF  "
      ]
     },
     "execution_count": 11,
     "metadata": {},
     "output_type": "execute_result"
    }
   ],
   "source": [
    "df_slim = df_slim[df_slim['antigen.epitope'].isin(filtered_epitopes)]\n",
    "cdr3comb = df_slim['cdr3combined'].dropna()\n",
    "cdr3comb = cdr3comb.reset_index(drop=True)\n",
    "df_slim.head()"
   ]
  },
  {
   "cell_type": "code",
   "execution_count": 12,
   "metadata": {},
   "outputs": [],
   "source": [
    "import sys, os\n",
    "import numpy as np\n",
    "from Bio.Align import substitution_matrices\n",
    "substitution_matrix = substitution_matrices.load('BLOSUM62')  # use matrix names to load\n",
    "from sklearn.manifold import MDS"
   ]
  },
  {
   "cell_type": "code",
   "execution_count": 13,
   "metadata": {},
   "outputs": [],
   "source": [
    "#parameter Settings\n",
    "Ndim=16 #the optimal dimension for isometric representation is 16 \n",
    "n0=Ndim*6\n",
    "ZERO=np.zeros((Ndim,Ndim))\n",
    "II=np.eye(Ndim)\n",
    "M0=np.concatenate((np.concatenate((ZERO,ZERO, II),axis=1),np.concatenate((II, ZERO, ZERO),axis=1),np.concatenate((ZERO,II, ZERO),axis=1)))\n",
    "## Construct 6-th order cyclic group\n",
    "ZERO45=np.zeros((Ndim*3,Ndim*3))\n",
    "#M6 is the determined omega matrix\n",
    "M6=np.concatenate((np.concatenate((ZERO45,M0),axis=1),np.concatenate((M0, ZERO45),axis=1)))"
   ]
  },
  {
   "cell_type": "code",
   "execution_count": 14,
   "metadata": {},
   "outputs": [],
   "source": [
    "#the adjusted blosum62 matrix, the diagonal valyes are set 4\n",
    "bl62={'A':[4,-1,-2,-2,0,-1,-1,0,-2,-1,-1,-1,-1,-2,-1,1,0,-3,-2,0],\n",
    "      'R':[-1,4,0,-2,-3,1,0,-2,0,-3,-2,2,-1,-3,-2,-1,-1,-3,-2,-3],\n",
    "      'N':[-2,0,4,1,-3,0,0,0,1,-3,-3,0,-2,-3,-2,1,0,-4,-2,-3],\n",
    "      'D':[-2,-2,1,4,-3,0,2,-1,-1,-3,-4,-1,-3,-3,-1,0,-1,-4,-3,-3],\n",
    "      'C':[0,-3,-3,-3,4,-3,-4,-3,-3,-1,-1,-3,-1,-2,-3,-1,-1,-2,-2,-1],\n",
    "      'Q':[-1,1,0,0,-3,4,2,-2,0,-3,-2,1,0,-3,-1,0,-1,-2,-1,-2],\n",
    "      'E':[-1,0,0,2,-4,2,4,-2,0,-3,-3,1,-2,-3,-1,0,-1,-3,-2,-2],\n",
    "      'G':[0,-2,0,-1,-3,-2,-2,4,-2,-4,-4,-2,-3,-3,-2,0,-2,-2,-3,-3],\n",
    "      'H':[-2,0,1,-1,-3,0,0,-2,4,-3,-3,-1,-2,-1,-2,-1,-2,-2,2,-3],\n",
    "      'I':[-1,-3,-3,-3,-1,-3,-3,-4,-3,4,2,-3,1,0,-3,-2,-1,-3,-1,3],\n",
    "      'L':[-1,-2,-3,-4,-1,-2,-3,-4,-3,2,4,-2,2,0,-3,-2,-1,-2,-1,1],\n",
    "      'K':[-1,2,0,-1,-3,1,1,-2,-1,-3,-2,4,-1,-3,-1,0,-1,-3,-2,-2],\n",
    "      'M':[-1,-1,-2,-3,-1,0,-2,-3,-2,1,2,-1,4,0,-2,-1,-1,-1,-1,1],\n",
    "      'F':[-2,-3,-3,-3,-2,-3,-3,-3,-1,0,0,-3,0,4,-4,-2,-2,1,3,-1],\n",
    "      'P':[-1,-2,-2,-1,-3,-1,-1,-2,-2,-3,-3,-1,-2,-4,4,-1,-1,-4,-3,-2],\n",
    "      'S':[1,-1,1,0,-1,0,0,0,-1,-2,-2,0,-1,-2,-1,4,1,-3,-2,-2],\n",
    "      'T':[0,-1,0,-1,-1,-1,-1,-2,-2,-1,-1,-1,-1,-2,-1,1,4,-2,-2,0],\n",
    "      'W':[-3,-3,-4,-4,-2,-2,-3,-2,-2,-3,-2,-3,-1,1,-4,-3,-2,4,2,-3],\n",
    "      'Y':[-2,-2,-2,-3,-2,-1,-2,-3,2,-1,-1,-2,-1,3,-3,-2,-2,2,4,-1],\n",
    "      'V':[0,-3,-3,-3,-1,-2,-2,-3,-3,3,1,-2,1,-1,-2,-2,0,-3,-1,4]}"
   ]
  },
  {
   "cell_type": "code",
   "execution_count": 15,
   "metadata": {},
   "outputs": [],
   "source": [
    "#let X to be the collection of MDS encoded embedding vectors for each of amino acid, which has a dimensionality of 16\n",
    "#THIS IS DEFINED IN GIANA AS DEAFULT VALUES\n",
    "X=np.array([[-0.31230882, -0.53572156, -0.01949946, -0.12211268, -0.70947917,\n",
    "        -0.42211092,  0.02783931,  0.02637933, -0.41760305,  0.21809875,\n",
    "         0.53532768,  0.04833016,  0.07877711,  0.50464914, -0.26972087,\n",
    "        -0.52416842],\n",
    "       [ 0.29672002,  0.29005364,  0.18176298, -0.05103382, -0.34686519,\n",
    "         0.58024228, -0.49282931,  0.62304281, -0.09575202,  0.30115555,\n",
    "         0.09913529,  0.1577466 , -0.94391939, -0.10505925,  0.05482389,\n",
    "         0.38409897],\n",
    "       [-0.42212537,  0.12225749,  0.16279646,  0.60099009,  0.19734216,\n",
    "         0.42819919, -0.33562418,  0.17036334,  0.4234109 ,  0.46681561,\n",
    "        -0.50347222, -0.37936876,  0.1494825 ,  0.32176759,  0.28584684,\n",
    "         0.68469861],\n",
    "       [ 0.18599294, -0.44017825, -0.4476952 ,  0.34340976,  0.44603553,\n",
    "         0.40974629, -0.60045935, -0.09056728,  0.22147919, -0.33029418,\n",
    "         0.55635594, -0.54149972,  0.05459062,  0.57334159, -0.06227118,\n",
    "         0.65299872],\n",
    "       [-0.19010428,  0.64418792, -0.85286762,  0.21380295,  0.37639516,\n",
    "        -0.67753593,  0.38751609,  0.55746524,  0.01443766,  0.1776535 ,\n",
    "         0.62853954, -0.15048523,  0.55100206, -0.21426656,  0.3644061 ,\n",
    "        -0.0018255 ],\n",
    "       [ 0.7350723 ,  0.10111267,  0.55640019, -0.18226966,  0.51658102,\n",
    "        -0.19321508, -0.46599027, -0.02989911,  0.4036196 , -0.11978213,\n",
    "        -0.29837524, -0.30232765, -0.36738065, -0.1379793 ,  0.04362871,\n",
    "         0.33553714],\n",
    "       [ 0.41134047,  0.13512443,  0.62492322, -0.10120261, -0.03093491,\n",
    "         0.23751917, -0.68338694,  0.05124762,  0.41533821,  0.46669353,\n",
    "         0.31467277, -0.02427587,  0.15361135,  0.70595112, -0.27952632,\n",
    "         0.32408931],\n",
    "       [-0.33041265, -0.43860065, -0.5509376 , -0.04380843, -0.35160935,\n",
    "         0.25134855,  0.53409314,  0.54850824,  0.59490287,  0.32669345,\n",
    "        -0.45355268, -0.56317041, -0.55416297,  0.18117841, -0.71600849,\n",
    "        -0.08989825],\n",
    "       [-0.40366849,  0.10978974,  0.0280101 , -0.46667987, -0.45607028,\n",
    "         0.54114052, -0.77552923, -0.10720425,  0.55252091, -0.34397153,\n",
    "        -0.59813694,  0.15567728,  0.03071009, -0.02176143,  0.34442719,\n",
    "         0.14681541],\n",
    "       [ 0.19280422,  0.35777863,  0.06139255,  0.20081699, -0.30546596,\n",
    "        -0.56901549, -0.15290953, -0.31181573, -0.74523217,  0.22296016,\n",
    "        -0.39143832, -0.16474685,  0.58064427, -0.77386654,  0.19713107,\n",
    "        -0.49477418],\n",
    "       [-0.16133903,  0.22112761, -0.53162136,  0.34764073, -0.08522381,\n",
    "        -0.2510216 ,  0.04699411, -0.25702389, -0.8739765 , -0.24171728,\n",
    "        -0.24370533,  0.42193635,  0.41056913, -0.60378211, -0.65756832,\n",
    "         0.0845203 ],\n",
    "       [-0.34792144,  0.18450939,  0.77038332,  0.63868511, -0.06221681,\n",
    "         0.11930421,  0.04895523, -0.22463059, -0.03268844, -0.58941354,\n",
    "         0.11640045,  0.32384901, -0.42952779,  0.58119471,  0.07288662,\n",
    "         0.26669673],\n",
    "       [ 0.01834555, -0.16367754,  0.34900298,  0.45087949,  0.47073855,\n",
    "        -0.37377404,  0.0606911 ,  0.2455703 , -0.55182937, -0.20261009,\n",
    "         0.28325423, -0.04741146,  0.30565238, -0.62090653,  0.17528413,\n",
    "        -0.60434975],\n",
    "       [-0.55464981,  0.50918784, -0.21371646, -0.63996967, -0.37656862,\n",
    "         0.27852662,  0.3287838 , -0.56800869,  0.23260763, -0.20653106,\n",
    "         0.63261439, -0.22666691,  0.00726302, -0.60125196,  0.07139961,\n",
    "        -0.35086639],\n",
    "       [ 0.94039731, -0.25999326,  0.43922549, -0.485738  , -0.20492235,\n",
    "        -0.26005626,  0.68776626,  0.57826888, -0.05973995, -0.1193658 ,\n",
    "        -0.12102433, -0.22091354,  0.43427913,  0.71447886,  0.32745991,\n",
    "         0.03466398],\n",
    "       [-0.13194625, -0.12262688,  0.18029209,  0.16555524,  0.39594125,\n",
    "        -0.58110665,  0.16161717,  0.0839783 ,  0.0911945 ,  0.34546976,\n",
    "        -0.29415349,  0.29891936, -0.60834721,  0.5943593 , -0.29473819,\n",
    "         0.4864154 ],\n",
    "       [ 0.40850093, -0.4638894 , -0.39732987, -0.01972861,  0.51189582,\n",
    "         0.10176704,  0.37528519, -0.41479418, -0.1932531 ,  0.54732221,\n",
    "        -0.11876511,  0.32843973, -0.259283  ,  0.59500132,  0.35168375,\n",
    "        -0.21733727],\n",
    "       [-0.50627723, -0.1973602 , -0.02339884, -0.66846048,  0.62696606,\n",
    "         0.60049717,  0.69143364, -0.48053591,  0.17812208, -0.58481821,\n",
    "        -0.23551415, -0.06229112,  0.20993116, -0.72485884,  0.34375662,\n",
    "        -0.23539168],\n",
    "       [-0.51388312, -0.2788953 ,  0.00859533, -0.5247195 , -0.18021544,\n",
    "         0.28372911,  0.10791359,  0.13033494,  0.34294013, -0.70310089,\n",
    "        -0.13245433,  0.48661081,  0.08451644, -0.69990992,  0.0408274 ,\n",
    "        -0.47204888],\n",
    "       [ 0.68546275,  0.22581365, -0.32571833,  0.34394298, -0.43232367,\n",
    "        -0.5041842 ,  0.04784017, -0.53067936, -0.50049908,  0.36874221,\n",
    "         0.22429186,  0.4616482 ,  0.11159174, -0.26827959, -0.39372848,\n",
    "        -0.40987423]])"
   ]
  },
  {
   "cell_type": "code",
   "execution_count": 16,
   "metadata": {},
   "outputs": [],
   "source": [
    "#let the dictionary variable bl62np represent the extended embedding vectors (demensionality 16*6) of all 20 amina acids.\n",
    "bl62np={}\n",
    "vkk=list(bl62.keys())\n",
    "for ii in range(20):\n",
    "    kk=vkk[ii]\n",
    "    bl62np[kk]=np.array(list(X[ii,])+[0]*Ndim*5)    "
   ]
  },
  {
   "cell_type": "code",
   "execution_count": 17,
   "metadata": {},
   "outputs": [],
   "source": [
    "#encodethe CDR3 sequences into 96 dimensional space\n",
    "def EncodingCDR3(s, M, n0):\n",
    "    sL=list(s)\n",
    "    x=np.array([0]*n0)\n",
    "    for ii in range(len(sL)):\n",
    "        x = np.dot(M, (x+bl62np[sL[ii]]))\n",
    "    return x"
   ]
  },
  {
   "cell_type": "code",
   "execution_count": 18,
   "metadata": {},
   "outputs": [
    {
     "name": "stdout",
     "output_type": "stream",
     "text": [
      "[ 0.83007118 -0.48332951 -0.36246402  0.65532485  0.87145465 -1.56463046\n",
      "  0.7463597  -0.77751694 -0.51136318  1.60700394 -0.48278023  1.38792665\n",
      " -1.36438568  1.51544033 -0.63152111  0.3456193   0.95065434  0.40623652\n",
      " -0.31184144 -0.41695791 -0.32793138  0.11362863  0.06852222 -1.46223461\n",
      " -0.04580634  1.17622689  1.05281391  0.53914515  0.01318311  0.43142089\n",
      " -0.25017144 -0.65398858 -1.54881459  0.40018116 -2.1686425  -0.2444471\n",
      " -1.14648579 -0.82079328  1.32522645  0.30732023 -0.44963139  0.27419736\n",
      "  1.0992236  -0.47005604  0.49344835 -0.73347308 -1.20749197 -0.88223826\n",
      " -0.99416478 -0.10900668 -1.95492604  0.39552257 -0.76991717 -1.0993199\n",
      "  0.99644265  0.87532892 -0.68223902  0.48072842  0.46660921 -0.24338913\n",
      "  0.48618533 -0.13222112 -1.27889158 -0.53137187 -2.05156995 -0.47798518\n",
      " -0.03716904 -0.83566615 -0.87290789  0.82756563  1.63110512 -0.69828762\n",
      "  0.55534109 -0.83597061  0.59527569 -0.47994927 -0.68771947 -0.05908854\n",
      " -0.49768651 -0.93362801  0.06730338 -0.64510813 -0.16054779  0.43625044\n",
      "  0.32669372  1.01883395 -0.10963279  0.35532502  1.24039888  1.8075248\n",
      " -0.76111724 -0.63837531 -0.51035212  1.80389844 -0.35800422  0.7015524 ]\n"
     ]
    }
   ],
   "source": [
    "seq1_code = EncodingCDR3(cdr3comb[1], M6, n0)\n",
    "print(seq1_code)\n"
   ]
  },
  {
   "cell_type": "code",
   "execution_count": 19,
   "metadata": {},
   "outputs": [
    {
     "name": "stderr",
     "output_type": "stream",
     "text": [
      "C:\\Users\\vikra\\AppData\\Local\\Temp\\ipykernel_2364\\698039082.py:6: FutureWarning: The frame.append method is deprecated and will be removed from pandas in a future version. Use pandas.concat instead.\n",
      "  encoded_df = encoded_df.append(pd.Series(encoded_seq), ignore_index=True)\n",
      "C:\\Users\\vikra\\AppData\\Local\\Temp\\ipykernel_2364\\698039082.py:6: FutureWarning: The frame.append method is deprecated and will be removed from pandas in a future version. Use pandas.concat instead.\n",
      "  encoded_df = encoded_df.append(pd.Series(encoded_seq), ignore_index=True)\n"
     ]
    },
    {
     "name": "stdout",
     "output_type": "stream",
     "text": [
      "(1138, 96)\n"
     ]
    }
   ],
   "source": [
    "encoded_df = pd.DataFrame()\n",
    "\n",
    "for i in range(0, len(cdr3comb)):\n",
    "    #encodde with giana matrix\n",
    "    encoded_seq = EncodingCDR3(cdr3comb[i], M6, n0)\n",
    "    encoded_df = encoded_df.append(pd.Series(encoded_seq), ignore_index=True)\n",
    "\n",
    "print(encoded_df.shape)"
   ]
  },
  {
   "cell_type": "code",
   "execution_count": 20,
   "metadata": {},
   "outputs": [
    {
     "data": {
      "text/html": [
       "<div>\n",
       "<style scoped>\n",
       "    .dataframe tbody tr th:only-of-type {\n",
       "        vertical-align: middle;\n",
       "    }\n",
       "\n",
       "    .dataframe tbody tr th {\n",
       "        vertical-align: top;\n",
       "    }\n",
       "\n",
       "    .dataframe thead th {\n",
       "        text-align: right;\n",
       "    }\n",
       "</style>\n",
       "<table border=\"1\" class=\"dataframe\">\n",
       "  <thead>\n",
       "    <tr style=\"text-align: right;\">\n",
       "      <th></th>\n",
       "      <th>0</th>\n",
       "      <th>1</th>\n",
       "      <th>2</th>\n",
       "      <th>3</th>\n",
       "      <th>4</th>\n",
       "      <th>5</th>\n",
       "      <th>6</th>\n",
       "      <th>7</th>\n",
       "      <th>8</th>\n",
       "      <th>9</th>\n",
       "      <th>...</th>\n",
       "      <th>86</th>\n",
       "      <th>87</th>\n",
       "      <th>88</th>\n",
       "      <th>89</th>\n",
       "      <th>90</th>\n",
       "      <th>91</th>\n",
       "      <th>92</th>\n",
       "      <th>93</th>\n",
       "      <th>94</th>\n",
       "      <th>95</th>\n",
       "    </tr>\n",
       "  </thead>\n",
       "  <tbody>\n",
       "    <tr>\n",
       "      <th>0</th>\n",
       "      <td>-0.221151</td>\n",
       "      <td>-0.993762</td>\n",
       "      <td>-0.535571</td>\n",
       "      <td>0.509132</td>\n",
       "      <td>-0.701530</td>\n",
       "      <td>-1.837160</td>\n",
       "      <td>0.933007</td>\n",
       "      <td>0.212165</td>\n",
       "      <td>-0.140810</td>\n",
       "      <td>1.604474</td>\n",
       "      <td>...</td>\n",
       "      <td>0.676338</td>\n",
       "      <td>0.833404</td>\n",
       "      <td>0.628503</td>\n",
       "      <td>0.426845</td>\n",
       "      <td>-0.888608</td>\n",
       "      <td>-0.946985</td>\n",
       "      <td>-1.251513</td>\n",
       "      <td>0.926276</td>\n",
       "      <td>-2.446595</td>\n",
       "      <td>1.044138</td>\n",
       "    </tr>\n",
       "    <tr>\n",
       "      <th>1</th>\n",
       "      <td>0.830071</td>\n",
       "      <td>-0.483330</td>\n",
       "      <td>-0.362464</td>\n",
       "      <td>0.655325</td>\n",
       "      <td>0.871455</td>\n",
       "      <td>-1.564630</td>\n",
       "      <td>0.746360</td>\n",
       "      <td>-0.777517</td>\n",
       "      <td>-0.511363</td>\n",
       "      <td>1.607004</td>\n",
       "      <td>...</td>\n",
       "      <td>-0.109633</td>\n",
       "      <td>0.355325</td>\n",
       "      <td>1.240399</td>\n",
       "      <td>1.807525</td>\n",
       "      <td>-0.761117</td>\n",
       "      <td>-0.638375</td>\n",
       "      <td>-0.510352</td>\n",
       "      <td>1.803898</td>\n",
       "      <td>-0.358004</td>\n",
       "      <td>0.701552</td>\n",
       "    </tr>\n",
       "    <tr>\n",
       "      <th>2</th>\n",
       "      <td>-1.285443</td>\n",
       "      <td>-1.948644</td>\n",
       "      <td>-1.140874</td>\n",
       "      <td>-0.331842</td>\n",
       "      <td>-2.122177</td>\n",
       "      <td>-0.341525</td>\n",
       "      <td>1.123865</td>\n",
       "      <td>1.149775</td>\n",
       "      <td>0.354600</td>\n",
       "      <td>1.089584</td>\n",
       "      <td>...</td>\n",
       "      <td>0.633698</td>\n",
       "      <td>-1.086126</td>\n",
       "      <td>-0.635246</td>\n",
       "      <td>0.672121</td>\n",
       "      <td>-0.072226</td>\n",
       "      <td>1.412856</td>\n",
       "      <td>-1.185566</td>\n",
       "      <td>1.502276</td>\n",
       "      <td>-0.263896</td>\n",
       "      <td>0.125901</td>\n",
       "    </tr>\n",
       "    <tr>\n",
       "      <th>3</th>\n",
       "      <td>-1.398367</td>\n",
       "      <td>-0.717865</td>\n",
       "      <td>-0.199254</td>\n",
       "      <td>0.198017</td>\n",
       "      <td>0.061459</td>\n",
       "      <td>0.382170</td>\n",
       "      <td>0.468000</td>\n",
       "      <td>0.933185</td>\n",
       "      <td>1.452448</td>\n",
       "      <td>0.435878</td>\n",
       "      <td>...</td>\n",
       "      <td>1.505506</td>\n",
       "      <td>0.518134</td>\n",
       "      <td>-0.366695</td>\n",
       "      <td>1.155422</td>\n",
       "      <td>-0.481637</td>\n",
       "      <td>0.335640</td>\n",
       "      <td>-0.460222</td>\n",
       "      <td>0.552490</td>\n",
       "      <td>-0.952225</td>\n",
       "      <td>0.261875</td>\n",
       "    </tr>\n",
       "    <tr>\n",
       "      <th>4</th>\n",
       "      <td>0.285155</td>\n",
       "      <td>-0.515431</td>\n",
       "      <td>0.047356</td>\n",
       "      <td>-0.147374</td>\n",
       "      <td>-0.849973</td>\n",
       "      <td>-0.932993</td>\n",
       "      <td>-0.056967</td>\n",
       "      <td>0.233173</td>\n",
       "      <td>-0.164313</td>\n",
       "      <td>0.647970</td>\n",
       "      <td>...</td>\n",
       "      <td>0.558504</td>\n",
       "      <td>0.034579</td>\n",
       "      <td>1.322325</td>\n",
       "      <td>0.345850</td>\n",
       "      <td>-0.413467</td>\n",
       "      <td>-0.793246</td>\n",
       "      <td>-1.522628</td>\n",
       "      <td>0.036306</td>\n",
       "      <td>-0.895718</td>\n",
       "      <td>0.381188</td>\n",
       "    </tr>\n",
       "  </tbody>\n",
       "</table>\n",
       "<p>5 rows × 96 columns</p>\n",
       "</div>"
      ],
      "text/plain": [
       "         0         1         2         3         4         5         6   \\\n",
       "0 -0.221151 -0.993762 -0.535571  0.509132 -0.701530 -1.837160  0.933007   \n",
       "1  0.830071 -0.483330 -0.362464  0.655325  0.871455 -1.564630  0.746360   \n",
       "2 -1.285443 -1.948644 -1.140874 -0.331842 -2.122177 -0.341525  1.123865   \n",
       "3 -1.398367 -0.717865 -0.199254  0.198017  0.061459  0.382170  0.468000   \n",
       "4  0.285155 -0.515431  0.047356 -0.147374 -0.849973 -0.932993 -0.056967   \n",
       "\n",
       "         7         8         9   ...        86        87        88        89  \\\n",
       "0  0.212165 -0.140810  1.604474  ...  0.676338  0.833404  0.628503  0.426845   \n",
       "1 -0.777517 -0.511363  1.607004  ... -0.109633  0.355325  1.240399  1.807525   \n",
       "2  1.149775  0.354600  1.089584  ...  0.633698 -1.086126 -0.635246  0.672121   \n",
       "3  0.933185  1.452448  0.435878  ...  1.505506  0.518134 -0.366695  1.155422   \n",
       "4  0.233173 -0.164313  0.647970  ...  0.558504  0.034579  1.322325  0.345850   \n",
       "\n",
       "         90        91        92        93        94        95  \n",
       "0 -0.888608 -0.946985 -1.251513  0.926276 -2.446595  1.044138  \n",
       "1 -0.761117 -0.638375 -0.510352  1.803898 -0.358004  0.701552  \n",
       "2 -0.072226  1.412856 -1.185566  1.502276 -0.263896  0.125901  \n",
       "3 -0.481637  0.335640 -0.460222  0.552490 -0.952225  0.261875  \n",
       "4 -0.413467 -0.793246 -1.522628  0.036306 -0.895718  0.381188  \n",
       "\n",
       "[5 rows x 96 columns]"
      ]
     },
     "execution_count": 20,
     "metadata": {},
     "output_type": "execute_result"
    }
   ],
   "source": [
    "encoded_df.head()"
   ]
  },
  {
   "cell_type": "code",
   "execution_count": 21,
   "metadata": {},
   "outputs": [
    {
     "data": {
      "text/html": [
       "<div>\n",
       "<style scoped>\n",
       "    .dataframe tbody tr th:only-of-type {\n",
       "        vertical-align: middle;\n",
       "    }\n",
       "\n",
       "    .dataframe tbody tr th {\n",
       "        vertical-align: top;\n",
       "    }\n",
       "\n",
       "    .dataframe thead th {\n",
       "        text-align: right;\n",
       "    }\n",
       "</style>\n",
       "<table border=\"1\" class=\"dataframe\">\n",
       "  <thead>\n",
       "    <tr style=\"text-align: right;\">\n",
       "      <th></th>\n",
       "      <th>cdr3.alpha</th>\n",
       "      <th>cdr3.beta</th>\n",
       "      <th>species</th>\n",
       "      <th>antigen.epitope</th>\n",
       "      <th>antigen.gene</th>\n",
       "      <th>vdjdb.score</th>\n",
       "      <th>cdr3combined</th>\n",
       "    </tr>\n",
       "  </thead>\n",
       "  <tbody>\n",
       "    <tr>\n",
       "      <th>51139</th>\n",
       "      <td>CAVGTAWRSGGGADGLTF</td>\n",
       "      <td>CASSPGTLADTQYF</td>\n",
       "      <td>HomoSapiens</td>\n",
       "      <td>ELAGIGILTV</td>\n",
       "      <td>MLANA</td>\n",
       "      <td>2</td>\n",
       "      <td>CAVGTAWRSGGGADGLTFCASSPGTLADTQYF</td>\n",
       "    </tr>\n",
       "    <tr>\n",
       "      <th>1208</th>\n",
       "      <td>CAVNVAGKSTF</td>\n",
       "      <td>CAWSETGLGTGELFF</td>\n",
       "      <td>HomoSapiens</td>\n",
       "      <td>ELAGIGILTV</td>\n",
       "      <td>MLANA</td>\n",
       "      <td>3</td>\n",
       "      <td>CAVNVAGKSTFCAWSETGLGTGELFF</td>\n",
       "    </tr>\n",
       "    <tr>\n",
       "      <th>1219</th>\n",
       "      <td>CAVNFGGGKLIF</td>\n",
       "      <td>CASSLSFGTEAFF</td>\n",
       "      <td>HomoSapiens</td>\n",
       "      <td>ELAGIGILTV</td>\n",
       "      <td>MLANA</td>\n",
       "      <td>3</td>\n",
       "      <td>CAVNFGGGKLIFCASSLSFGTEAFF</td>\n",
       "    </tr>\n",
       "    <tr>\n",
       "      <th>668</th>\n",
       "      <td>CAVAGYGGSQGNLIF</td>\n",
       "      <td>CASSPQGLGTEAFF</td>\n",
       "      <td>HomoSapiens</td>\n",
       "      <td>ELAGIGILTV</td>\n",
       "      <td>MLANA</td>\n",
       "      <td>1</td>\n",
       "      <td>CAVAGYGGSQGNLIFCASSPQGLGTEAFF</td>\n",
       "    </tr>\n",
       "    <tr>\n",
       "      <th>1221</th>\n",
       "      <td>CAGGTGNQFYF</td>\n",
       "      <td>CAISEVGVGQPQHF</td>\n",
       "      <td>HomoSapiens</td>\n",
       "      <td>ELAGIGILTV</td>\n",
       "      <td>MLANA</td>\n",
       "      <td>3</td>\n",
       "      <td>CAGGTGNQFYFCAISEVGVGQPQHF</td>\n",
       "    </tr>\n",
       "  </tbody>\n",
       "</table>\n",
       "</div>"
      ],
      "text/plain": [
       "               cdr3.alpha        cdr3.beta      species antigen.epitope  \\\n",
       "51139  CAVGTAWRSGGGADGLTF   CASSPGTLADTQYF  HomoSapiens      ELAGIGILTV   \n",
       "1208          CAVNVAGKSTF  CAWSETGLGTGELFF  HomoSapiens      ELAGIGILTV   \n",
       "1219         CAVNFGGGKLIF    CASSLSFGTEAFF  HomoSapiens      ELAGIGILTV   \n",
       "668       CAVAGYGGSQGNLIF   CASSPQGLGTEAFF  HomoSapiens      ELAGIGILTV   \n",
       "1221          CAGGTGNQFYF   CAISEVGVGQPQHF  HomoSapiens      ELAGIGILTV   \n",
       "\n",
       "      antigen.gene  vdjdb.score                      cdr3combined  \n",
       "51139        MLANA            2  CAVGTAWRSGGGADGLTFCASSPGTLADTQYF  \n",
       "1208         MLANA            3        CAVNVAGKSTFCAWSETGLGTGELFF  \n",
       "1219         MLANA            3         CAVNFGGGKLIFCASSLSFGTEAFF  \n",
       "668          MLANA            1     CAVAGYGGSQGNLIFCASSPQGLGTEAFF  \n",
       "1221         MLANA            3         CAGGTGNQFYFCAISEVGVGQPQHF  "
      ]
     },
     "execution_count": 21,
     "metadata": {},
     "output_type": "execute_result"
    }
   ],
   "source": [
    "df_slim.head()"
   ]
  },
  {
   "cell_type": "code",
   "execution_count": 22,
   "metadata": {},
   "outputs": [
    {
     "data": {
      "text/plain": [
       "(1138, 7)"
      ]
     },
     "execution_count": 22,
     "metadata": {},
     "output_type": "execute_result"
    }
   ],
   "source": [
    "df_slim.shape"
   ]
  },
  {
   "cell_type": "code",
   "execution_count": 23,
   "metadata": {},
   "outputs": [],
   "source": [
    "from sklearn.preprocessing import StandardScaler\n",
    "scaler = StandardScaler()\n",
    "encoded_data = scaler.fit_transform(encoded_df)"
   ]
  },
  {
   "cell_type": "code",
   "execution_count": 24,
   "metadata": {},
   "outputs": [],
   "source": [
    "df_slim = df_slim.sort_values('antigen.epitope')"
   ]
  },
  {
   "cell_type": "code",
   "execution_count": 25,
   "metadata": {},
   "outputs": [
    {
     "data": {
      "text/html": [
       "<div>\n",
       "<style scoped>\n",
       "    .dataframe tbody tr th:only-of-type {\n",
       "        vertical-align: middle;\n",
       "    }\n",
       "\n",
       "    .dataframe tbody tr th {\n",
       "        vertical-align: top;\n",
       "    }\n",
       "\n",
       "    .dataframe thead th {\n",
       "        text-align: right;\n",
       "    }\n",
       "</style>\n",
       "<table border=\"1\" class=\"dataframe\">\n",
       "  <thead>\n",
       "    <tr style=\"text-align: right;\">\n",
       "      <th></th>\n",
       "      <th>cdr3.alpha</th>\n",
       "      <th>cdr3.beta</th>\n",
       "      <th>species</th>\n",
       "      <th>antigen.epitope</th>\n",
       "      <th>antigen.gene</th>\n",
       "      <th>vdjdb.score</th>\n",
       "      <th>cdr3combined</th>\n",
       "    </tr>\n",
       "  </thead>\n",
       "  <tbody>\n",
       "    <tr>\n",
       "      <th>51139</th>\n",
       "      <td>CAVGTAWRSGGGADGLTF</td>\n",
       "      <td>CASSPGTLADTQYF</td>\n",
       "      <td>HomoSapiens</td>\n",
       "      <td>ELAGIGILTV</td>\n",
       "      <td>MLANA</td>\n",
       "      <td>2</td>\n",
       "      <td>CAVGTAWRSGGGADGLTFCASSPGTLADTQYF</td>\n",
       "    </tr>\n",
       "    <tr>\n",
       "      <th>51148</th>\n",
       "      <td>CAVSAAGNKLTF</td>\n",
       "      <td>CASRSLGQGAEKLFF</td>\n",
       "      <td>HomoSapiens</td>\n",
       "      <td>ELAGIGILTV</td>\n",
       "      <td>MLANA</td>\n",
       "      <td>2</td>\n",
       "      <td>CAVSAAGNKLTFCASRSLGQGAEKLFF</td>\n",
       "    </tr>\n",
       "    <tr>\n",
       "      <th>51127</th>\n",
       "      <td>CAVPIKAAGNKLTF</td>\n",
       "      <td>CASSFQGLGQPQHF</td>\n",
       "      <td>HomoSapiens</td>\n",
       "      <td>ELAGIGILTV</td>\n",
       "      <td>MLANA</td>\n",
       "      <td>2</td>\n",
       "      <td>CAVPIKAAGNKLTFCASSFQGLGQPQHF</td>\n",
       "    </tr>\n",
       "    <tr>\n",
       "      <th>51128</th>\n",
       "      <td>CAVSVNMEYGNKLVF</td>\n",
       "      <td>CASSRDSALWISTDTQYF</td>\n",
       "      <td>HomoSapiens</td>\n",
       "      <td>ELAGIGILTV</td>\n",
       "      <td>MLANA</td>\n",
       "      <td>2</td>\n",
       "      <td>CAVSVNMEYGNKLVFCASSRDSALWISTDTQYF</td>\n",
       "    </tr>\n",
       "    <tr>\n",
       "      <th>51125</th>\n",
       "      <td>CAVGGGADGLTF</td>\n",
       "      <td>CASSPAALSGAYEQYF</td>\n",
       "      <td>HomoSapiens</td>\n",
       "      <td>ELAGIGILTV</td>\n",
       "      <td>MLANA</td>\n",
       "      <td>2</td>\n",
       "      <td>CAVGGGADGLTFCASSPAALSGAYEQYF</td>\n",
       "    </tr>\n",
       "  </tbody>\n",
       "</table>\n",
       "</div>"
      ],
      "text/plain": [
       "               cdr3.alpha           cdr3.beta      species antigen.epitope  \\\n",
       "51139  CAVGTAWRSGGGADGLTF      CASSPGTLADTQYF  HomoSapiens      ELAGIGILTV   \n",
       "51148        CAVSAAGNKLTF     CASRSLGQGAEKLFF  HomoSapiens      ELAGIGILTV   \n",
       "51127      CAVPIKAAGNKLTF      CASSFQGLGQPQHF  HomoSapiens      ELAGIGILTV   \n",
       "51128     CAVSVNMEYGNKLVF  CASSRDSALWISTDTQYF  HomoSapiens      ELAGIGILTV   \n",
       "51125        CAVGGGADGLTF    CASSPAALSGAYEQYF  HomoSapiens      ELAGIGILTV   \n",
       "\n",
       "      antigen.gene  vdjdb.score                       cdr3combined  \n",
       "51139        MLANA            2   CAVGTAWRSGGGADGLTFCASSPGTLADTQYF  \n",
       "51148        MLANA            2        CAVSAAGNKLTFCASRSLGQGAEKLFF  \n",
       "51127        MLANA            2       CAVPIKAAGNKLTFCASSFQGLGQPQHF  \n",
       "51128        MLANA            2  CAVSVNMEYGNKLVFCASSRDSALWISTDTQYF  \n",
       "51125        MLANA            2       CAVGGGADGLTFCASSPAALSGAYEQYF  "
      ]
     },
     "execution_count": 25,
     "metadata": {},
     "output_type": "execute_result"
    }
   ],
   "source": [
    "df_slim.head()"
   ]
  },
  {
   "cell_type": "code",
   "execution_count": 26,
   "metadata": {},
   "outputs": [
    {
     "name": "stderr",
     "output_type": "stream",
     "text": [
      "C:\\Users\\vikra\\anaconda3\\lib\\site-packages\\sklearn\\manifold\\_t_sne.py:780: FutureWarning: The default initialization in TSNE will change from 'random' to 'pca' in 1.2.\n",
      "  warnings.warn(\n",
      "C:\\Users\\vikra\\anaconda3\\lib\\site-packages\\sklearn\\manifold\\_t_sne.py:790: FutureWarning: The default learning rate in TSNE will change from 200.0 to 'auto' in 1.2.\n",
      "  warnings.warn(\n"
     ]
    }
   ],
   "source": [
    "from sklearn.manifold import TSNE\n",
    "tsne = TSNE(n_components=2, random_state=42)\n",
    "tsne_result = tsne.fit_transform(encoded_data)"
   ]
  },
  {
   "cell_type": "code",
   "execution_count": 27,
   "metadata": {},
   "outputs": [
    {
     "data": {
      "text/plain": [
       "(1138, 2)"
      ]
     },
     "execution_count": 27,
     "metadata": {},
     "output_type": "execute_result"
    }
   ],
   "source": [
    "tsne_result.shape"
   ]
  },
  {
   "cell_type": "code",
   "execution_count": 28,
   "metadata": {},
   "outputs": [],
   "source": [
    "df_test = df_slim.copy()\n",
    "df_test['tsne_1'] = tsne_result[:, 0]\n",
    "df_test['tsne_2'] = tsne_result[:, 1]"
   ]
  },
  {
   "cell_type": "code",
   "execution_count": null,
   "metadata": {},
   "outputs": [],
   "source": [
    "import seaborn as sns\n",
    "#sns.set(rc = {'figure.figsize':(10,10)})\n",
    "import matplotlib.pyplot as plt\n",
    "plt.style.use('ggplot')"
   ]
  },
  {
   "cell_type": "code",
   "execution_count": 33,
   "metadata": {},
   "outputs": [
    {
     "data": {
      "text/plain": [
       "<Figure size 10000x10000 with 0 Axes>"
      ]
     },
     "metadata": {},
     "output_type": "display_data"
    },
    {
     "data": {
      "image/png": "[encoded data removed]",
      "text/plain": [
       "<Figure size 486.25x360 with 1 Axes>"
      ]
     },
     "metadata": {
      "needs_background": "light"
     },
     "output_type": "display_data"
    }
   ],
   "source": [
    "\n",
    "plt.figure(figsize=(20, 20), dpi = 500)\n",
    "\n",
    "#sns.set_style = \"whitegrid\"\n",
    "\n",
    "\n",
    "\n",
    "figure = sns.relplot(data=df_test,x=tsne_result[:, 0],y= tsne_result[:, 1], s= 7, alpha= 0.5, hue='antigen.epitope', palette = 'tab10', legend = \"full\")\n",
    "plt.title('CDR3 Paired - GIANA - tSNE Coloured by Epitope')\n",
    "plt.xlabel('tSNE 1')\n",
    "plt.ylabel('tSNE 2')\n",
    "plt.savefig('GIANA_both3.png', dpi =1000, bbox_inches = 'tight', facecolor = 'white')"
   ]
  },
  {
   "cell_type": "code",
   "execution_count": null,
   "metadata": {},
   "outputs": [],
   "source": []
  }
 ],
 "metadata": {
  "kernelspec": {
   "display_name": "Python 3 (ipykernel)",
   "language": "python",
   "name": "python3"
  },
  "language_info": {
   "codemirror_mode": {
    "name": "ipython",
    "version": 3
   },
   "file_extension": ".py",
   "mimetype": "text/x-python",
   "name": "python",
   "nbconvert_exporter": "python",
   "pygments_lexer": "ipython3",
   "version": "3.9.12"
  }
 },
 "nbformat": 4,
 "nbformat_minor": 2
}
